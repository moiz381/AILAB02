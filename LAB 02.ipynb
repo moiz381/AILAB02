{
 "cells": [
  {
   "cell_type": "markdown",
   "metadata": {},
   "source": [
    "# NUMPY EXAMPLE"
   ]
  },
  {
   "cell_type": "markdown",
   "metadata": {},
   "source": [
    "Example 01"
   ]
  },
  {
   "cell_type": "markdown",
   "metadata": {},
   "source": [
    "Take 2 lists and multiply both you’ll see that error occurs repeat the process but by coverting them toarray by numpy.array()"
   ]
  },
  {
   "cell_type": "code",
   "execution_count": 40,
   "metadata": {},
   "outputs": [
    {
     "ename": "TypeError",
     "evalue": "can't multiply sequence by non-int of type 'list'",
     "output_type": "error",
     "traceback": [
      "\u001b[1;31m---------------------------------------------------------------------------\u001b[0m",
      "\u001b[1;31mTypeError\u001b[0m                                 Traceback (most recent call last)",
      "\u001b[1;32mUntitled-1.ipynb Cell 4\u001b[0m line \u001b[0;36m4\n\u001b[0;32m      <a href='vscode-notebook-cell:Untitled-1.ipynb?jupyter-notebook#Y233sdW50aXRsZWQ%3D?line=0'>1</a>\u001b[0m l1 \u001b[39m=\u001b[39m [\u001b[39m1\u001b[39m,\u001b[39m2\u001b[39m,\u001b[39m3\u001b[39m]\n\u001b[0;32m      <a href='vscode-notebook-cell:Untitled-1.ipynb?jupyter-notebook#Y233sdW50aXRsZWQ%3D?line=1'>2</a>\u001b[0m l2 \u001b[39m=\u001b[39m [\u001b[39m4\u001b[39m,\u001b[39m5\u001b[39m,\u001b[39m6\u001b[39m]\n\u001b[1;32m----> <a href='vscode-notebook-cell:Untitled-1.ipynb?jupyter-notebook#Y233sdW50aXRsZWQ%3D?line=3'>4</a>\u001b[0m l1\u001b[39m*\u001b[39;49ml2\n",
      "\u001b[1;31mTypeError\u001b[0m: can't multiply sequence by non-int of type 'list'"
     ]
    }
   ],
   "source": [
    "l1 = [1,2,3]\n",
    "l2 = [4,5,6]\n",
    "\n",
    "l1*l2"
   ]
  },
  {
   "cell_type": "code",
   "execution_count": 9,
   "metadata": {},
   "outputs": [
    {
     "name": "stdout",
     "output_type": "stream",
     "text": [
      "[1 2 3] * [4 5 6] = [ 4 10 18]\n"
     ]
    }
   ],
   "source": [
    "import numpy as np\n",
    "\n",
    "l1 = [1,2,3]\n",
    "l2 = [4,5,6]\n",
    "\n",
    "A1 = np.array(l1)\n",
    "A2 = np.array(l2)\n",
    "\n",
    "print(f\"{A1} * {A2} = {A1*A2}\")"
   ]
  },
  {
   "cell_type": "markdown",
   "metadata": {},
   "source": [
    "Example 02"
   ]
  },
  {
   "cell_type": "markdown",
   "metadata": {},
   "source": [
    "Demonstrate the use of numpy.dtype and numpy.shape() functions"
   ]
  },
  {
   "cell_type": "code",
   "execution_count": 11,
   "metadata": {},
   "outputs": [
    {
     "name": "stdout",
     "output_type": "stream",
     "text": [
      "[1 2 3] * [4 5 6] = [ 4 10 18]\n",
      "The type of array using type: <class 'numpy.ndarray'>\n",
      "The type of array using dtype: int32\n",
      "The dimension of an array: (3,)\n"
     ]
    }
   ],
   "source": [
    "import numpy as np\n",
    "\n",
    "l1 = [1,2,3]\n",
    "l2 = [4,5,6]\n",
    "\n",
    "A1 = np.array(l1)\n",
    "A2 = np.array(l2)\n",
    "\n",
    "A = A1*A2\n",
    "\n",
    "print(f\"{A1} * {A2} = {A}\")\n",
    "\n",
    "print(f\"The type of array using type: {type(A)}\")\n",
    "print(f\"The type of array using dtype: {A.dtype}\") # no () with dtype because it is an attribute of A not a function\n",
    "\n",
    "print(f\"The dimension of an array: {A.shape}\")"
   ]
  },
  {
   "cell_type": "markdown",
   "metadata": {},
   "source": [
    "Example 03"
   ]
  },
  {
   "cell_type": "markdown",
   "metadata": {},
   "source": [
    "The size of an array created with numpy.array() is int32 convert it to int 8"
   ]
  },
  {
   "cell_type": "code",
   "execution_count": 12,
   "metadata": {},
   "outputs": [
    {
     "name": "stdout",
     "output_type": "stream",
     "text": [
      "[1 2 3] * [4 5 6] = [ 4 10 18]\n",
      "The type of array using type: <class 'numpy.ndarray'>\n",
      "The type of array using dtype: int8\n",
      "The dimension of an array: (3,)\n"
     ]
    }
   ],
   "source": [
    "\n",
    "import numpy as np\n",
    "\n",
    "l1 = [1,2,3]\n",
    "l2 = [4,5,6]\n",
    "\n",
    "A1 = np.array(l1, np.int8)\n",
    "A2 = np.array(l2, np.int8)\n",
    "\n",
    "A = A1*A2\n",
    "\n",
    "print(f\"{A1} * {A2} = {A}\")\n",
    "\n",
    "print(f\"The type of array using type: {type(A)}\")\n",
    "print(f\"The type of array using dtype: {A.dtype}\") # no () with dtype because it is an attribute of A not a function\n",
    "\n",
    "print(f\"The dimension of an array: {A.shape}\")\n"
   ]
  },
  {
   "cell_type": "markdown",
   "metadata": {},
   "source": [
    "Example 04"
   ]
  },
  {
   "cell_type": "markdown",
   "metadata": {},
   "source": [
    "Demonstrate the use of numpy.size() functions"
   ]
  },
  {
   "cell_type": "code",
   "execution_count": 13,
   "metadata": {},
   "outputs": [
    {
     "name": "stdout",
     "output_type": "stream",
     "text": [
      "[1 2 3] * [4 5 6] = [ 4 10 18]\n",
      "The type of array using type: <class 'numpy.ndarray'>\n",
      "The type of array using dtype: int8\n",
      "The dimension of an array: (3,)\n",
      "The size of an array: 3\n"
     ]
    }
   ],
   "source": [
    "import numpy as np\n",
    "\n",
    "l1 = [1,2,3]\n",
    "l2 = [4,5,6]\n",
    "\n",
    "A1 = np.array(l1, np.int8)\n",
    "A2 = np.array(l2, np.int8)\n",
    "\n",
    "A = A1*A2\n",
    "\n",
    "print(f\"{A1} * {A2} = {A}\")\n",
    "\n",
    "print(f\"The type of array using type: {type(A)}\")\n",
    "print(f\"The type of array using dtype: {A.dtype}\") # no () with dtype because it is an attribute of A not a function\n",
    "\n",
    "print(f\"The dimension of an array: {A.shape}\")\n",
    "\n",
    "print(f\"The size of an array: {A.size}\") # The size attrubute counts the total element in the array"
   ]
  },
  {
   "cell_type": "markdown",
   "metadata": {},
   "source": [
    "Example 05"
   ]
  },
  {
   "cell_type": "markdown",
   "metadata": {},
   "source": [
    "Create a 2D array using numpy.array()"
   ]
  },
  {
   "cell_type": "code",
   "execution_count": 14,
   "metadata": {},
   "outputs": [
    {
     "name": "stdout",
     "output_type": "stream",
     "text": [
      " The 2D array is : \n",
      " [[1 2 3]\n",
      " [4 5 6]]\n",
      "The type of array using type: <class 'numpy.ndarray'>\n",
      "The type of array using dtype: int32\n",
      "The dimension of an array: (2, 3)\n",
      "The size of an array: 6\n"
     ]
    }
   ],
   "source": [
    "import numpy as np\n",
    "\n",
    "l1 = [1,2,3]\n",
    "l2 = [4,5,6]\n",
    "\n",
    "A = np.array((l1, l2))\n",
    "print(f\" The 2D array is : \\n {A}\")\n",
    "\n",
    "print(f\"The type of array using type: {type(A)}\")\n",
    "print(f\"The type of array using dtype: {A.dtype}\") # no () with dtype because it is an attribute of A not a function\n",
    "\n",
    "print(f\"The dimension of an array: {A.shape}\")\n",
    "\n",
    "print(f\"The size of an array: {A.size}\") # The size attrubute counts the total element in the array"
   ]
  },
  {
   "cell_type": "markdown",
   "metadata": {},
   "source": [
    "Example 06"
   ]
  },
  {
   "cell_type": "markdown",
   "metadata": {},
   "source": [
    "Create a 1 D array by passing a list"
   ]
  },
  {
   "cell_type": "code",
   "execution_count": 15,
   "metadata": {},
   "outputs": [
    {
     "name": "stdout",
     "output_type": "stream",
     "text": [
      " The 1D array is : \n",
      " [1 2 3 4 5]\n",
      "The type of array using type: <class 'numpy.ndarray'>\n",
      "The type of array using dtype: int32\n",
      "The dimension of an array: (5,)\n",
      "The size of an array: 5\n"
     ]
    }
   ],
   "source": [
    "A = np.array(([1,2,3,4,5]))\n",
    "print(f\" The 1D array is : \\n {A}\")\n",
    "\n",
    "print(f\"The type of array using type: {type(A)}\")\n",
    "print(f\"The type of array using dtype: {A.dtype}\") # no () with dtype because it is an attribute of A not a function\n",
    "\n",
    "print(f\"The dimension of an array: {A.shape}\")\n",
    "\n",
    "print(f\"The size of an array: {A.size}\") # The size attrubute counts the total element in the array\n"
   ]
  },
  {
   "cell_type": "markdown",
   "metadata": {},
   "source": [
    "Example 07"
   ]
  },
  {
   "cell_type": "markdown",
   "metadata": {},
   "source": [
    "Create a 2 D array by passing lists"
   ]
  },
  {
   "cell_type": "code",
   "execution_count": 16,
   "metadata": {},
   "outputs": [
    {
     "name": "stdout",
     "output_type": "stream",
     "text": [
      " The 2D array is : \n",
      " [[1 2 3 4 5]\n",
      " [2 3 4 5 6]]\n",
      "The type of array using type: <class 'numpy.ndarray'>\n",
      "The type of array using dtype: int32\n",
      "The dimension of an array: (2, 5)\n",
      "The size of an array: 10\n"
     ]
    }
   ],
   "source": [
    "import numpy as np\n",
    "\n",
    "A = np.array(([1,2,3,4,5], [2,3,4,5,6]))\n",
    "print(f\" The 2D array is : \\n {A}\")\n",
    "\n",
    "print(f\"The type of array using type: {type(A)}\")\n",
    "print(f\"The type of array using dtype: {A.dtype}\") # no () with dtype because it is an attribute of A not a function\n",
    "\n",
    "print(f\"The dimension of an array: {A.shape}\")\n",
    "\n",
    "print(f\"The size of an array: {A.size}\") # The size attrubute counts the total element in the array"
   ]
  },
  {
   "cell_type": "markdown",
   "metadata": {},
   "source": [
    "Example 08"
   ]
  },
  {
   "cell_type": "markdown",
   "metadata": {},
   "source": [
    "Create 4 x 4 Matrix"
   ]
  },
  {
   "cell_type": "code",
   "execution_count": 17,
   "metadata": {},
   "outputs": [
    {
     "name": "stdout",
     "output_type": "stream",
     "text": [
      " The array is : \n",
      " [[1 2 3 4]\n",
      " [3 6 3 4]\n",
      " [1 2 9 4]\n",
      " [1 4 5 4]]\n",
      "The type of array using type: <class 'numpy.ndarray'>\n",
      "The type of array using dtype: int32\n",
      "The dimension of an array: (4, 4)\n",
      "The size of an array: 16\n"
     ]
    }
   ],
   "source": [
    "import numpy as np\n",
    "\n",
    "r1 = [1,2,3,4]\n",
    "r2 = [3,6,3,4]\n",
    "r3 = [1,2,9,4]\n",
    "r4 = [1,4,5,4]\n",
    "\n",
    "A = np.array((r1,r2,r3,r4))\n",
    "print(f\" The array is : \\n {A}\")\n",
    "\n",
    "print(f\"The type of array using type: {type(A)}\")\n",
    "print(f\"The type of array using dtype: {A.dtype}\") # no () with dtype because it is an attribute of A not a function\n",
    "\n",
    "print(f\"The dimension of an array: {A.shape}\")\n",
    "\n",
    "print(f\"The size of an array: {A.size}\") # The size attrubute counts the total element in the array"
   ]
  },
  {
   "cell_type": "markdown",
   "metadata": {},
   "source": [
    "Example 09"
   ]
  },
  {
   "cell_type": "markdown",
   "metadata": {},
   "source": [
    "Replace 2nd row 3rd element of above 4x4 matrix with 10"
   ]
  },
  {
   "cell_type": "code",
   "execution_count": 18,
   "metadata": {},
   "outputs": [
    {
     "name": "stdout",
     "output_type": "stream",
     "text": [
      " The original array is : \n",
      " [[1 2 3 4]\n",
      " [3 6 3 4]\n",
      " [1 2 9 4]\n",
      " [1 4 5 4]]\n",
      " The array after replacing : \n",
      " [[ 1  2  3  4]\n",
      " [ 3  6 10  4]\n",
      " [ 1  2  9  4]\n",
      " [ 1  4  5  4]]\n"
     ]
    }
   ],
   "source": [
    "import numpy as np\n",
    "\n",
    "r1 = [1,2,3,4]\n",
    "r2 = [3,6,3,4]\n",
    "r3 = [1,2,9,4]\n",
    "r4 = [1,4,5,4]\n",
    "\n",
    "A = np.array((r1,r2,r3,r4))\n",
    "print(f\" The original array is : \\n {A}\")\n",
    "\n",
    "A[1,2] = 10\n",
    "print(f\" The array after replacing : \\n {A}\")\n"
   ]
  },
  {
   "cell_type": "markdown",
   "metadata": {},
   "source": [
    "Example 10"
   ]
  },
  {
   "cell_type": "markdown",
   "metadata": {},
   "source": [
    "Create a 5 x 5 matrix of all zeros by setting values of both rows and column"
   ]
  },
  {
   "cell_type": "code",
   "execution_count": 19,
   "metadata": {},
   "outputs": [
    {
     "name": "stdout",
     "output_type": "stream",
     "text": [
      " The array is : \n",
      " [[0. 0. 0. 0. 0.]\n",
      " [0. 0. 0. 0. 0.]\n",
      " [0. 0. 0. 0. 0.]\n",
      " [0. 0. 0. 0. 0.]\n",
      " [0. 0. 0. 0. 0.]]\n",
      "The type of array using type: <class 'numpy.ndarray'>\n",
      "The type of array using dtype: float64\n",
      "The dimension of an array: (5, 5)\n",
      "The size of an array: 25\n"
     ]
    }
   ],
   "source": [
    "import numpy as np\n",
    "\n",
    "A = np.zeros([5,5])\n",
    "print(f\" The array is : \\n {A}\")\n",
    "\n",
    "print(f\"The type of array using type: {type(A)}\")\n",
    "print(f\"The type of array using dtype: {A.dtype}\") # no () with dtype because it is an attribute of A not a function\n",
    "\n",
    "print(f\"The dimension of an array: {A.shape}\")\n",
    "\n",
    "print(f\"The size of an array: {A.size}\") # The size attrubute counts the total element in the array"
   ]
  },
  {
   "cell_type": "markdown",
   "metadata": {},
   "source": [
    "Example 11"
   ]
  },
  {
   "cell_type": "markdown",
   "metadata": {},
   "source": [
    "Create a 5 x 5 matrix of all zeros by passing only 1 argument"
   ]
  },
  {
   "cell_type": "code",
   "execution_count": 20,
   "metadata": {},
   "outputs": [
    {
     "name": "stdout",
     "output_type": "stream",
     "text": [
      " The array is : \n",
      " [0. 0. 0. 0. 0.]\n",
      "The type of array using type: <class 'numpy.ndarray'>\n",
      "The type of array using dtype: float64\n",
      "The dimension of an array: (5,)\n",
      "The size of an array: 5\n"
     ]
    }
   ],
   "source": [
    "import numpy as np\n",
    "\n",
    "A = np.zeros([5])\n",
    "print(f\" The array is : \\n {A}\")\n",
    "\n",
    "print(f\"The type of array using type: {type(A)}\")\n",
    "print(f\"The type of array using dtype: {A.dtype}\") # no () with dtype because it is an attribute of A not a function\n",
    "\n",
    "print(f\"The dimension of an array: {A.shape}\")\n",
    "\n",
    "print(f\"The size of an array: {A.size}\") # The size attrubute counts the total element in the array"
   ]
  },
  {
   "cell_type": "markdown",
   "metadata": {},
   "source": [
    "Example 12"
   ]
  },
  {
   "cell_type": "markdown",
   "metadata": {},
   "source": [
    "Create an array from 1 to 100 by numpy.arrange()"
   ]
  },
  {
   "cell_type": "code",
   "execution_count": 21,
   "metadata": {},
   "outputs": [
    {
     "name": "stdout",
     "output_type": "stream",
     "text": [
      " The array is : \n",
      " [ 1  2  3  4  5  6  7  8  9 10 11 12 13 14 15 16 17 18 19 20 21 22 23 24\n",
      " 25 26 27 28 29 30 31 32 33 34 35 36 37 38 39 40 41 42 43 44 45 46 47 48\n",
      " 49 50 51 52 53 54 55 56 57 58 59 60 61 62 63 64 65 66 67 68 69 70 71 72\n",
      " 73 74 75 76 77 78 79 80 81 82 83 84 85 86 87 88 89 90 91 92 93 94 95 96\n",
      " 97 98 99]\n",
      "The type of array using type: <class 'numpy.ndarray'>\n",
      "The type of array using dtype: int32\n",
      "The dimension of an array: (99,)\n",
      "The size of an array: 99\n"
     ]
    }
   ],
   "source": [
    "import numpy as np\n",
    "\n",
    "A = np.arange(1,100)\n",
    "print(f\" The array is : \\n {A}\")\n",
    "\n",
    "print(f\"The type of array using type: {type(A)}\")\n",
    "print(f\"The type of array using dtype: {A.dtype}\") # no () with dtype because it is an attribute of A not a function\n",
    "\n",
    "print(f\"The dimension of an array: {A.shape}\")\n",
    "\n",
    "print(f\"The size of an array: {A.size}\") # The size attrubute counts the total element in the array"
   ]
  },
  {
   "cell_type": "markdown",
   "metadata": {},
   "source": [
    "Example 13"
   ]
  },
  {
   "cell_type": "markdown",
   "metadata": {},
   "source": [
    "Create an array from 1 to 100 by numpy.arrange() with a stepsize of 10"
   ]
  },
  {
   "cell_type": "code",
   "execution_count": 22,
   "metadata": {},
   "outputs": [
    {
     "name": "stdout",
     "output_type": "stream",
     "text": [
      " The array is : \n",
      " [ 1 11 21 31 41 51 61 71 81 91]\n",
      "The type of array using type: <class 'numpy.ndarray'>\n",
      "The type of array using dtype: int32\n",
      "The dimension of an array: (10,)\n",
      "The size of an array: 10\n"
     ]
    }
   ],
   "source": [
    "import numpy as np\n",
    "\n",
    "A = np.arange(1,100,10)\n",
    "print(f\" The array is : \\n {A}\")\n",
    "\n",
    "print(f\"The type of array using type: {type(A)}\")\n",
    "print(f\"The type of array using dtype: {A.dtype}\") # no () with dtype because it is an attribute of A not a function\n",
    "\n",
    "print(f\"The dimension of an array: {A.shape}\")\n",
    "\n",
    "print(f\"The size of an array: {A.size}\") # The size attrubute counts the total element in the array"
   ]
  },
  {
   "cell_type": "markdown",
   "metadata": {},
   "source": [
    "Example 14"
   ]
  },
  {
   "cell_type": "markdown",
   "metadata": {},
   "source": [
    "Create an array of 100 elements ranging from 2 to 3"
   ]
  },
  {
   "cell_type": "code",
   "execution_count": 23,
   "metadata": {},
   "outputs": [
    {
     "name": "stdout",
     "output_type": "stream",
     "text": [
      " The array is : \n",
      " [2.         2.01010101 2.02020202 2.03030303 2.04040404 2.05050505\n",
      " 2.06060606 2.07070707 2.08080808 2.09090909 2.1010101  2.11111111\n",
      " 2.12121212 2.13131313 2.14141414 2.15151515 2.16161616 2.17171717\n",
      " 2.18181818 2.19191919 2.2020202  2.21212121 2.22222222 2.23232323\n",
      " 2.24242424 2.25252525 2.26262626 2.27272727 2.28282828 2.29292929\n",
      " 2.3030303  2.31313131 2.32323232 2.33333333 2.34343434 2.35353535\n",
      " 2.36363636 2.37373737 2.38383838 2.39393939 2.4040404  2.41414141\n",
      " 2.42424242 2.43434343 2.44444444 2.45454545 2.46464646 2.47474747\n",
      " 2.48484848 2.49494949 2.50505051 2.51515152 2.52525253 2.53535354\n",
      " 2.54545455 2.55555556 2.56565657 2.57575758 2.58585859 2.5959596\n",
      " 2.60606061 2.61616162 2.62626263 2.63636364 2.64646465 2.65656566\n",
      " 2.66666667 2.67676768 2.68686869 2.6969697  2.70707071 2.71717172\n",
      " 2.72727273 2.73737374 2.74747475 2.75757576 2.76767677 2.77777778\n",
      " 2.78787879 2.7979798  2.80808081 2.81818182 2.82828283 2.83838384\n",
      " 2.84848485 2.85858586 2.86868687 2.87878788 2.88888889 2.8989899\n",
      " 2.90909091 2.91919192 2.92929293 2.93939394 2.94949495 2.95959596\n",
      " 2.96969697 2.97979798 2.98989899 3.        ]\n",
      "The type of array using type: <class 'numpy.ndarray'>\n",
      "The type of array using dtype: float64\n",
      "The dimension of an array: (100,)\n",
      "The size of an array: 100\n"
     ]
    }
   ],
   "source": [
    "import numpy as np\n",
    "\n",
    "A = np.linspace(2,3,100)\n",
    "print(f\" The array is : \\n {A}\")\n",
    "\n",
    "print(f\"The type of array using type: {type(A)}\")\n",
    "print(f\"The type of array using dtype: {A.dtype}\") # no () with dtype because it is an attribute of A not a function\n",
    "\n",
    "print(f\"The dimension of an array: {A.shape}\")\n",
    "\n",
    "print(f\"The size of an array: {A.size}\") # The size attrubute counts the total element in the array"
   ]
  },
  {
   "cell_type": "markdown",
   "metadata": {},
   "source": [
    "Example 15"
   ]
  },
  {
   "cell_type": "markdown",
   "metadata": {},
   "source": [
    "Create identity matrix"
   ]
  },
  {
   "cell_type": "code",
   "execution_count": 24,
   "metadata": {},
   "outputs": [
    {
     "name": "stdout",
     "output_type": "stream",
     "text": [
      " The array is : \n",
      " [[1. 0. 0. 0. 0.]\n",
      " [0. 1. 0. 0. 0.]\n",
      " [0. 0. 1. 0. 0.]\n",
      " [0. 0. 0. 1. 0.]\n",
      " [0. 0. 0. 0. 1.]]\n",
      "The type of array using type: <class 'numpy.ndarray'>\n",
      "The type of array using dtype: float64\n",
      "The dimension of an array: (5, 5)\n",
      "The size of an array: 25\n"
     ]
    }
   ],
   "source": [
    "import numpy as np\n",
    "\n",
    "A = np.identity(5)\n",
    "print(f\" The array is : \\n {A}\")\n",
    "\n",
    "print(f\"The type of array using type: {type(A)}\")\n",
    "print(f\"The type of array using dtype: {A.dtype}\") # no () with dtype because it is an attribute of A not a function\n",
    "\n",
    "print(f\"The dimension of an array: {A.shape}\")\n",
    "\n",
    "print(f\"The size of an array: {A.size}\") # The size attrubute counts the total element in the array"
   ]
  },
  {
   "cell_type": "markdown",
   "metadata": {},
   "source": [
    "Example 16"
   ]
  },
  {
   "cell_type": "markdown",
   "metadata": {},
   "source": [
    "Create a 4 x 4 matrix and find the sum of all columns"
   ]
  },
  {
   "cell_type": "code",
   "execution_count": 26,
   "metadata": {},
   "outputs": [
    {
     "name": "stdout",
     "output_type": "stream",
     "text": [
      " The Matrix is : \n",
      " [[1 2 3 4]\n",
      " [3 6 3 4]\n",
      " [1 2 9 4]\n",
      " [1 4 5 4]]\n",
      " The row wise sum is : [10 16 16 14]\n",
      " The column wise sum is : [ 6 14 20 16]\n",
      "The type of array using type: <class 'numpy.ndarray'>\n",
      "The type of array using dtype: int32\n",
      "The dimension of an array: (4, 4)\n",
      "The size of an array: 16\n"
     ]
    }
   ],
   "source": [
    "import numpy as np\n",
    "\n",
    "r1 = [1,2,3,4]\n",
    "r2 = [3,6,3,4]\n",
    "r3 = [1,2,9,4]\n",
    "r4 = [1,4,5,4]\n",
    "\n",
    "A = np.array((r1,r2,r3,r4))\n",
    "print(f\" The Matrix is : \\n {A}\")\n",
    "\n",
    "print(f\" The row wise sum is : {A.sum(axis=1)}\")\n",
    "print(f\" The column wise sum is : {A.sum(axis=0)}\")\n",
    "\n",
    "print(f\"The type of array using type: {type(A)}\")\n",
    "print(f\"The type of array using dtype: {A.dtype}\") # no () with dtype because it is an attribute of A not a function\n",
    "\n",
    "print(f\"The dimension of an array: {A.shape}\")\n",
    "\n",
    "print(f\"The size of an array: {A.size}\") # The size attrubute counts the total element in the array"
   ]
  },
  {
   "cell_type": "markdown",
   "metadata": {},
   "source": [
    "Example 17"
   ]
  },
  {
   "cell_type": "markdown",
   "metadata": {},
   "source": [
    "Find the transpose of a Matrix"
   ]
  },
  {
   "cell_type": "code",
   "execution_count": 27,
   "metadata": {},
   "outputs": [
    {
     "name": "stdout",
     "output_type": "stream",
     "text": [
      " The Matrix is : \n",
      " [[1 2 3 4]\n",
      " [3 6 3 4]\n",
      " [1 2 9 4]\n",
      " [1 4 5 4]]\n",
      " The transpose is : \n",
      " [[1 3 1 1]\n",
      " [2 6 2 4]\n",
      " [3 3 9 5]\n",
      " [4 4 4 4]]\n"
     ]
    }
   ],
   "source": [
    "import numpy as np\n",
    "\n",
    "r1 = [1,2,3,4]\n",
    "r2 = [3,6,3,4]\n",
    "r3 = [1,2,9,4]\n",
    "r4 = [1,4,5,4]\n",
    "\n",
    "A = np.array((r1,r2,r3,r4))\n",
    "print(f\" The Matrix is : \\n {A}\")\n",
    "\n",
    "print(f\" The transpose is : \\n {A.T}\")\n"
   ]
  },
  {
   "cell_type": "markdown",
   "metadata": {},
   "source": [
    "Example 18"
   ]
  },
  {
   "cell_type": "markdown",
   "metadata": {},
   "source": [
    "Use reshape command to convrt 4 x 4 matrix to 8 x 2"
   ]
  },
  {
   "cell_type": "code",
   "execution_count": 28,
   "metadata": {},
   "outputs": [
    {
     "name": "stdout",
     "output_type": "stream",
     "text": [
      " The 4x4 Matrix is : \n",
      " [[1 2 3 4]\n",
      " [3 6 3 4]\n",
      " [1 2 9 4]\n",
      " [1 4 5 4]]\n",
      " The 8x2 matrix: \n",
      " [[1 2]\n",
      " [3 4]\n",
      " [3 6]\n",
      " [3 4]\n",
      " [1 2]\n",
      " [9 4]\n",
      " [1 4]\n",
      " [5 4]]\n"
     ]
    }
   ],
   "source": [
    "import numpy as np\n",
    "\n",
    "r1 = [1,2,3,4]\n",
    "r2 = [3,6,3,4]\n",
    "r3 = [1,2,9,4]\n",
    "r4 = [1,4,5,4]\n",
    "\n",
    "A = np.array((r1,r2,r3,r4))\n",
    "print(f\" The 4x4 Matrix is : \\n {A}\")\n",
    "\n",
    "print(f\" The 8x2 matrix: \\n {A.reshape(8,2)}\")\n"
   ]
  },
  {
   "cell_type": "markdown",
   "metadata": {},
   "source": [
    "Example 19"
   ]
  },
  {
   "cell_type": "markdown",
   "metadata": {},
   "source": [
    "Demonstrate the use of numpy.ravel()"
   ]
  },
  {
   "cell_type": "code",
   "execution_count": 29,
   "metadata": {},
   "outputs": [
    {
     "name": "stdout",
     "output_type": "stream",
     "text": [
      " The 4x4 Matrix is : \n",
      " [[1 2 3 4]\n",
      " [3 6 3 4]\n",
      " [1 2 9 4]\n",
      " [1 4 5 4]]\n",
      " The 1D array from above matrix using ravel: \n",
      " [1 2 3 4 3 6 3 4 1 2 9 4 1 4 5 4]\n"
     ]
    }
   ],
   "source": [
    "import numpy as np\n",
    "\n",
    "r1 = [1,2,3,4]\n",
    "r2 = [3,6,3,4]\n",
    "r3 = [1,2,9,4]\n",
    "r4 = [1,4,5,4]\n",
    "\n",
    "A = np.array((r1,r2,r3,r4))\n",
    "print(f\" The 4x4 Matrix is : \\n {A}\")\n",
    "\n",
    "print(f\" The 1D array from above matrix using ravel: \\n {A.ravel()}\")"
   ]
  },
  {
   "cell_type": "markdown",
   "metadata": {},
   "source": [
    "Example 20"
   ]
  },
  {
   "cell_type": "markdown",
   "metadata": {},
   "source": [
    "Demonstrate the use of argmax, argmin,argsort"
   ]
  },
  {
   "cell_type": "code",
   "execution_count": 30,
   "metadata": {},
   "outputs": [
    {
     "name": "stdout",
     "output_type": "stream",
     "text": [
      "The original array: [ 1 16 31  4]\n",
      "The index of maximum value in array is: 2\n",
      "The index of minimum value in array is: 0\n",
      "Sorted Indexes: [0 3 1 2]\n"
     ]
    }
   ],
   "source": [
    "import numpy as np\n",
    "\n",
    "a = [1, 16, 31, 4]\n",
    "\n",
    "A = np.array(a)\n",
    "print(f\"The original array: {A}\")\n",
    "\n",
    "print(f\"The index of maximum value in array is: {A.argmax()}\")\n",
    "print(f\"The index of minimum value in array is: {A.argmin()}\")\n",
    "print(f\"Sorted Indexes: {A.argsort()}\")"
   ]
  },
  {
   "cell_type": "markdown",
   "metadata": {},
   "source": [
    "Example 21"
   ]
  },
  {
   "cell_type": "markdown",
   "metadata": {},
   "source": [
    "Demostrate the use of numpy.full(),vstack(),hstack(),column_stack("
   ]
  },
  {
   "cell_type": "code",
   "execution_count": 31,
   "metadata": {},
   "outputs": [
    {
     "data": {
      "text/plain": [
       "array([[5, 5],\n",
       "       [5, 5]])"
      ]
     },
     "execution_count": 31,
     "metadata": {},
     "output_type": "execute_result"
    }
   ],
   "source": [
    "import numpy as np\n",
    "\n",
    "f1=np.full((2,2),5)\n",
    "f1\n"
   ]
  },
  {
   "cell_type": "code",
   "execution_count": 32,
   "metadata": {},
   "outputs": [
    {
     "data": {
      "text/plain": [
       "array([[3, 3],\n",
       "       [3, 3]])"
      ]
     },
     "execution_count": 32,
     "metadata": {},
     "output_type": "execute_result"
    }
   ],
   "source": [
    "f2 = np.full((2,2), 3)\n",
    "f2"
   ]
  },
  {
   "cell_type": "code",
   "execution_count": 33,
   "metadata": {},
   "outputs": [
    {
     "data": {
      "text/plain": [
       "array([[5, 5],\n",
       "       [5, 5],\n",
       "       [3, 3],\n",
       "       [3, 3]])"
      ]
     },
     "execution_count": 33,
     "metadata": {},
     "output_type": "execute_result"
    }
   ],
   "source": [
    "a = np.vstack([f1, f2])\n",
    "a"
   ]
  },
  {
   "cell_type": "code",
   "execution_count": 34,
   "metadata": {},
   "outputs": [
    {
     "data": {
      "text/plain": [
       "array([[5, 5, 3, 3],\n",
       "       [5, 5, 3, 3]])"
      ]
     },
     "execution_count": 34,
     "metadata": {},
     "output_type": "execute_result"
    }
   ],
   "source": [
    "b = np.hstack([f1, f2])\n",
    "b"
   ]
  },
  {
   "cell_type": "code",
   "execution_count": 35,
   "metadata": {},
   "outputs": [
    {
     "data": {
      "text/plain": [
       "array([[5, 5, 3, 3],\n",
       "       [5, 5, 3, 3]])"
      ]
     },
     "execution_count": 35,
     "metadata": {},
     "output_type": "execute_result"
    }
   ],
   "source": [
    "a = np.column_stack([f1, f2])\n",
    "a"
   ]
  },
  {
   "cell_type": "markdown",
   "metadata": {},
   "source": [
    "Example 22"
   ]
  },
  {
   "cell_type": "markdown",
   "metadata": {},
   "source": [
    "Save and load a matrix in the memory"
   ]
  },
  {
   "cell_type": "code",
   "execution_count": 36,
   "metadata": {},
   "outputs": [
    {
     "data": {
      "text/plain": [
       "array([[5, 5, 5],\n",
       "       [5, 5, 5]])"
      ]
     },
     "execution_count": 36,
     "metadata": {},
     "output_type": "execute_result"
    }
   ],
   "source": [
    "import numpy as np\n",
    "\n",
    "a = np.full((2,3), 5)\n",
    "a"
   ]
  },
  {
   "cell_type": "code",
   "execution_count": 37,
   "metadata": {},
   "outputs": [],
   "source": [
    "np.save(\"untitled.npy\", a)\n"
   ]
  },
  {
   "cell_type": "code",
   "execution_count": 38,
   "metadata": {},
   "outputs": [
    {
     "data": {
      "text/plain": [
       "array([[5, 5, 5],\n",
       "       [5, 5, 5]])"
      ]
     },
     "execution_count": 38,
     "metadata": {},
     "output_type": "execute_result"
    }
   ],
   "source": [
    "savedMatrix = np.load('untitled.npy')\n",
    "savedMatrix\n"
   ]
  },
  {
   "cell_type": "markdown",
   "metadata": {},
   "source": [
    "Example 23"
   ]
  },
  {
   "cell_type": "markdown",
   "metadata": {},
   "source": [
    "Demonstrate the use of numoy.dot() and compare it with simple multiplication"
   ]
  },
  {
   "cell_type": "code",
   "execution_count": 39,
   "metadata": {},
   "outputs": [
    {
     "name": "stdout",
     "output_type": "stream",
     "text": [
      "\n",
      "f1 = \n",
      " [[5 5]\n",
      " [5 5]]\n",
      "\n",
      "f2 = \n",
      " [[3 3]\n",
      " [3 3]]\n",
      "point to point multiplication =  [[15 15]\n",
      " [15 15]]\n",
      "point to point multiplication =  [[30 30]\n",
      " [30 30]]\n"
     ]
    }
   ],
   "source": [
    "import numpy as np\n",
    "\n",
    "f1=np. full((2,2),5)\n",
    "print(\"\\nf1 = \\n\",f1)\n",
    "\n",
    "f2=np.full((2,2), 3)\n",
    "print(\"\\nf2 = \\n\", f2)\n",
    "\n",
    "print(\"point to point multiplication = \",f1*f2)\n",
    "\n",
    "print(\"point to point multiplication = \", np.dot(f1,f2))\n"
   ]
  },
  {
   "cell_type": "markdown",
   "metadata": {},
   "source": [
    "# 02. Pandas"
   ]
  },
  {
   "cell_type": "markdown",
   "metadata": {},
   "source": [
    "Example 01"
   ]
  },
  {
   "cell_type": "markdown",
   "metadata": {},
   "source": [
    "Create a Dictionary and convert them into data frames also check its datatype"
   ]
  },
  {
   "cell_type": "code",
   "execution_count": 42,
   "metadata": {},
   "outputs": [
    {
     "data": {
      "text/plain": [
       "{'Name': ['Aqsa',\n",
       "  'Esha',\n",
       "  'Ayesha',\n",
       "  'Ayra',\n",
       "  'Arfa',\n",
       "  'Afsa',\n",
       "  'Abdul',\n",
       "  'Saadia',\n",
       "  'Abu Bakar',\n",
       "  'Atif'],\n",
       " 'ID': ['SID-1',\n",
       "  'SID-2',\n",
       "  'SID-3',\n",
       "  'SID-4',\n",
       "  'SID-5',\n",
       "  'SID-6',\n",
       "  'SID-7',\n",
       "  'SID-8',\n",
       "  'SID-9',\n",
       "  'SID-10'],\n",
       " 'Rol1_no': [1, 2, 3, 4, 5, 6, 7, 8, 9, 10],\n",
       " 'Semester': [7, 7, 7, 7, 6, 6, 6, 5, 8, 8]}"
      ]
     },
     "execution_count": 42,
     "metadata": {},
     "output_type": "execute_result"
    }
   ],
   "source": [
    "#create a dictionary\n",
    "\n",
    "StuDict={\"Name\": [\"Aqsa\",\"Esha\", \"Ayesha\", \"Ayra\", \"Arfa\", \"Afsa\", \"Abdul\", \"Saadia\", \"Abu Bakar\",\"Atif\"],\n",
    "\"ID\": [\"SID-1\",\"SID-2\", \"SID-3\", \"SID-4\", \"SID-5\",\"SID-6\", \"SID-7\", \"SID-8\", \"SID-9\",\"SID-10\"],\n",
    "\"Rol1_no\": [1,2,3,4,5,6,7,8,9,10],\n",
    "\"Semester\" : [7,7,7,7,6,6,6,5,8,8]}\n",
    "\n",
    "StuDict\n"
   ]
  },
  {
   "cell_type": "code",
   "execution_count": 46,
   "metadata": {},
   "outputs": [
    {
     "name": "stdout",
     "output_type": "stream",
     "text": [
      "Defaulting to user installation because normal site-packages is not writeable\n",
      "Collecting pandas\n",
      "  Obtaining dependency information for pandas from https://files.pythonhosted.org/packages/2d/5e/9213ea10ac473e2437dc2cb17323ddc0999997e2713d6a0b683b10773994/pandas-2.1.1-cp311-cp311-win_amd64.whl.metadata\n",
      "  Downloading pandas-2.1.1-cp311-cp311-win_amd64.whl.metadata (18 kB)\n",
      "Requirement already satisfied: numpy>=1.23.2 in c:\\users\\falcon\\appdata\\roaming\\python\\python311\\site-packages (from pandas) (1.26.0)\n",
      "Requirement already satisfied: python-dateutil>=2.8.2 in c:\\users\\falcon\\appdata\\roaming\\python\\python311\\site-packages (from pandas) (2.8.2)\n",
      "Collecting pytz>=2020.1 (from pandas)\n",
      "  Obtaining dependency information for pytz>=2020.1 from https://files.pythonhosted.org/packages/32/4d/aaf7eff5deb402fd9a24a1449a8119f00d74ae9c2efa79f8ef9994261fc2/pytz-2023.3.post1-py2.py3-none-any.whl.metadata\n",
      "  Downloading pytz-2023.3.post1-py2.py3-none-any.whl.metadata (22 kB)\n",
      "Collecting tzdata>=2022.1 (from pandas)\n",
      "  Using cached tzdata-2023.3-py2.py3-none-any.whl (341 kB)\n",
      "Requirement already satisfied: six>=1.5 in c:\\users\\falcon\\appdata\\roaming\\python\\python311\\site-packages (from python-dateutil>=2.8.2->pandas) (1.16.0)\n",
      "Downloading pandas-2.1.1-cp311-cp311-win_amd64.whl (10.6 MB)\n",
      "   ---------------------------------------- 0.0/10.6 MB ? eta -:--:--\n",
      "   ---------------------------------------- 0.0/10.6 MB 2.0 MB/s eta 0:00:06\n",
      "   ---------------------------------------- 0.1/10.6 MB 1.3 MB/s eta 0:00:08\n",
      "   ---------------------------------------- 0.1/10.6 MB 1.3 MB/s eta 0:00:08\n",
      "    --------------------------------------- 0.1/10.6 MB 950.9 kB/s eta 0:00:12\n",
      "    --------------------------------------- 0.3/10.6 MB 1.2 MB/s eta 0:00:09\n",
      "   - -------------------------------------- 0.4/10.6 MB 1.3 MB/s eta 0:00:08\n",
      "   - -------------------------------------- 0.4/10.6 MB 1.4 MB/s eta 0:00:08\n",
      "   - -------------------------------------- 0.5/10.6 MB 1.4 MB/s eta 0:00:08\n",
      "   -- ------------------------------------- 0.5/10.6 MB 1.4 MB/s eta 0:00:08\n",
      "   -- ------------------------------------- 0.5/10.6 MB 1.4 MB/s eta 0:00:08\n",
      "   -- ------------------------------------- 0.6/10.6 MB 1.2 MB/s eta 0:00:09\n",
      "   -- ------------------------------------- 0.6/10.6 MB 1.2 MB/s eta 0:00:09\n",
      "   -- ------------------------------------- 0.6/10.6 MB 1.1 MB/s eta 0:00:10\n",
      "   -- ------------------------------------- 0.7/10.6 MB 1.1 MB/s eta 0:00:10\n",
      "   -- ------------------------------------- 0.7/10.6 MB 1.1 MB/s eta 0:00:10\n",
      "   -- ------------------------------------- 0.7/10.6 MB 1.1 MB/s eta 0:00:10\n",
      "   -- ------------------------------------- 0.7/10.6 MB 1.1 MB/s eta 0:00:10\n",
      "   -- ------------------------------------- 0.7/10.6 MB 1.1 MB/s eta 0:00:10\n",
      "   -- ------------------------------------- 0.7/10.6 MB 1.1 MB/s eta 0:00:10\n",
      "   -- ------------------------------------- 0.7/10.6 MB 1.1 MB/s eta 0:00:10\n",
      "   -- ------------------------------------- 0.7/10.6 MB 1.1 MB/s eta 0:00:10\n",
      "   -- ------------------------------------- 0.7/10.6 MB 718.6 kB/s eta 0:00:14\n",
      "   -- ------------------------------------- 0.7/10.6 MB 718.6 kB/s eta 0:00:14\n",
      "   -- ------------------------------------- 0.7/10.6 MB 718.6 kB/s eta 0:00:14\n",
      "   -- ------------------------------------- 0.7/10.6 MB 718.6 kB/s eta 0:00:14\n",
      "   -- ------------------------------------- 0.7/10.6 MB 718.6 kB/s eta 0:00:14\n",
      "   -- ------------------------------------- 0.7/10.6 MB 718.6 kB/s eta 0:00:14\n",
      "   -- ------------------------------------- 0.7/10.6 MB 558.5 kB/s eta 0:00:18\n",
      "   -- ------------------------------------- 0.7/10.6 MB 558.5 kB/s eta 0:00:18\n",
      "   -- ------------------------------------- 0.7/10.6 MB 558.5 kB/s eta 0:00:18\n",
      "   -- ------------------------------------- 0.7/10.6 MB 505.9 kB/s eta 0:00:20\n",
      "   -- ------------------------------------- 0.7/10.6 MB 505.9 kB/s eta 0:00:20\n",
      "   -- ------------------------------------- 0.7/10.6 MB 505.9 kB/s eta 0:00:20\n",
      "   -- ------------------------------------- 0.7/10.6 MB 462.5 kB/s eta 0:00:22\n",
      "   -- ------------------------------------- 0.8/10.6 MB 470.9 kB/s eta 0:00:21\n",
      "   -- ------------------------------------- 0.8/10.6 MB 470.9 kB/s eta 0:00:21\n",
      "   -- ------------------------------------- 0.8/10.6 MB 470.9 kB/s eta 0:00:21\n",
      "   -- ------------------------------------- 0.8/10.6 MB 470.9 kB/s eta 0:00:21\n",
      "   -- ------------------------------------- 0.8/10.6 MB 470.9 kB/s eta 0:00:21\n",
      "   -- ------------------------------------- 0.8/10.6 MB 425.7 kB/s eta 0:00:24\n",
      "   -- ------------------------------------- 0.8/10.6 MB 425.7 kB/s eta 0:00:24\n",
      "   -- ------------------------------------- 0.8/10.6 MB 425.7 kB/s eta 0:00:24\n",
      "   -- ------------------------------------- 0.8/10.6 MB 425.7 kB/s eta 0:00:24\n",
      "   -- ------------------------------------- 0.8/10.6 MB 425.7 kB/s eta 0:00:24\n",
      "   -- ------------------------------------- 0.8/10.6 MB 425.7 kB/s eta 0:00:24\n",
      "   -- ------------------------------------- 0.8/10.6 MB 425.7 kB/s eta 0:00:24\n",
      "   -- ------------------------------------- 0.8/10.6 MB 425.7 kB/s eta 0:00:24\n",
      "   -- ------------------------------------- 0.8/10.6 MB 425.7 kB/s eta 0:00:24\n",
      "   -- ------------------------------------- 0.8/10.6 MB 425.7 kB/s eta 0:00:24\n",
      "   -- ------------------------------------- 0.8/10.6 MB 425.7 kB/s eta 0:00:24\n",
      "   -- ------------------------------------- 0.8/10.6 MB 425.7 kB/s eta 0:00:24\n",
      "   -- ------------------------------------- 0.8/10.6 MB 425.7 kB/s eta 0:00:24\n",
      "   -- ------------------------------------- 0.8/10.6 MB 425.7 kB/s eta 0:00:24\n",
      "   -- ------------------------------------- 0.8/10.6 MB 425.7 kB/s eta 0:00:24\n",
      "   -- ------------------------------------- 0.8/10.6 MB 425.7 kB/s eta 0:00:24\n",
      "   --- ------------------------------------ 0.8/10.6 MB 325.7 kB/s eta 0:00:31\n",
      "   --- ------------------------------------ 0.8/10.6 MB 325.7 kB/s eta 0:00:31\n",
      "   --- ------------------------------------ 0.8/10.6 MB 325.7 kB/s eta 0:00:31\n",
      "   --- ------------------------------------ 0.8/10.6 MB 325.7 kB/s eta 0:00:31\n",
      "   --- ------------------------------------ 0.8/10.6 MB 325.7 kB/s eta 0:00:31\n",
      "   --- ------------------------------------ 0.9/10.6 MB 309.5 kB/s eta 0:00:32\n",
      "   --- ------------------------------------ 0.9/10.6 MB 311.6 kB/s eta 0:00:32\n",
      "   --- ------------------------------------ 0.9/10.6 MB 311.6 kB/s eta 0:00:32\n",
      "   --- ------------------------------------ 0.9/10.6 MB 311.6 kB/s eta 0:00:32\n",
      "   --- ------------------------------------ 0.9/10.6 MB 311.6 kB/s eta 0:00:32\n",
      "   --- ------------------------------------ 0.9/10.6 MB 299.1 kB/s eta 0:00:33\n",
      "   --- ------------------------------------ 0.9/10.6 MB 299.1 kB/s eta 0:00:33\n",
      "   --- ------------------------------------ 0.9/10.6 MB 299.1 kB/s eta 0:00:33\n",
      "   --- ------------------------------------ 1.0/10.6 MB 302.0 kB/s eta 0:00:33\n",
      "   --- ------------------------------------ 1.0/10.6 MB 302.0 kB/s eta 0:00:33\n",
      "   --- ------------------------------------ 1.0/10.6 MB 301.1 kB/s eta 0:00:33\n",
      "   --- ------------------------------------ 1.0/10.6 MB 301.1 kB/s eta 0:00:33\n",
      "   --- ------------------------------------ 1.0/10.6 MB 300.4 kB/s eta 0:00:33\n",
      "   --- ------------------------------------ 1.1/10.6 MB 303.9 kB/s eta 0:00:32\n",
      "   ---- ----------------------------------- 1.1/10.6 MB 304.3 kB/s eta 0:00:32\n",
      "   ---- ----------------------------------- 1.1/10.6 MB 304.3 kB/s eta 0:00:32\n",
      "   ---- ----------------------------------- 1.1/10.6 MB 304.3 kB/s eta 0:00:32\n",
      "   ---- ----------------------------------- 1.1/10.6 MB 304.3 kB/s eta 0:00:32\n",
      "   ---- ----------------------------------- 1.1/10.6 MB 294.1 kB/s eta 0:00:33\n",
      "   ---- ----------------------------------- 1.1/10.6 MB 293.4 kB/s eta 0:00:33\n",
      "   ---- ----------------------------------- 1.1/10.6 MB 293.4 kB/s eta 0:00:33\n",
      "   ---- ----------------------------------- 1.1/10.6 MB 290.1 kB/s eta 0:00:33\n",
      "   ---- ----------------------------------- 1.1/10.6 MB 291.9 kB/s eta 0:00:33\n",
      "   ---- ----------------------------------- 1.1/10.6 MB 291.9 kB/s eta 0:00:33\n",
      "   ---- ----------------------------------- 1.2/10.6 MB 291.3 kB/s eta 0:00:33\n",
      "   ---- ----------------------------------- 1.2/10.6 MB 291.8 kB/s eta 0:00:33\n",
      "   ---- ----------------------------------- 1.2/10.6 MB 291.0 kB/s eta 0:00:33\n",
      "   ---- ----------------------------------- 1.2/10.6 MB 293.8 kB/s eta 0:00:33\n",
      "   ---- ----------------------------------- 1.2/10.6 MB 295.7 kB/s eta 0:00:32\n",
      "   ---- ----------------------------------- 1.3/10.6 MB 298.4 kB/s eta 0:00:32\n",
      "   ---- ----------------------------------- 1.3/10.6 MB 298.5 kB/s eta 0:00:32\n",
      "   ---- ----------------------------------- 1.3/10.6 MB 300.1 kB/s eta 0:00:32\n",
      "   ---- ----------------------------------- 1.3/10.6 MB 298.1 kB/s eta 0:00:32\n",
      "   ---- ----------------------------------- 1.3/10.6 MB 300.7 kB/s eta 0:00:31\n",
      "   ----- ---------------------------------- 1.3/10.6 MB 301.0 kB/s eta 0:00:31\n",
      "   ----- ---------------------------------- 1.4/10.6 MB 299.2 kB/s eta 0:00:32\n",
      "   ----- ---------------------------------- 1.4/10.6 MB 301.6 kB/s eta 0:00:31\n",
      "   ----- ---------------------------------- 1.4/10.6 MB 300.8 kB/s eta 0:00:31\n",
      "   ----- ---------------------------------- 1.4/10.6 MB 303.1 kB/s eta 0:00:31\n",
      "   ----- ---------------------------------- 1.4/10.6 MB 305.5 kB/s eta 0:00:31\n",
      "   ----- ---------------------------------- 1.4/10.6 MB 304.7 kB/s eta 0:00:31\n",
      "   ----- ---------------------------------- 1.5/10.6 MB 305.0 kB/s eta 0:00:31\n",
      "   ----- ---------------------------------- 1.5/10.6 MB 305.2 kB/s eta 0:00:31\n",
      "   ----- ---------------------------------- 1.5/10.6 MB 306.4 kB/s eta 0:00:30\n",
      "   ----- ---------------------------------- 1.5/10.6 MB 307.8 kB/s eta 0:00:30\n",
      "   ----- ---------------------------------- 1.5/10.6 MB 311.1 kB/s eta 0:00:30\n",
      "   ------ --------------------------------- 1.6/10.6 MB 317.4 kB/s eta 0:00:29\n",
      "   ------ --------------------------------- 1.6/10.6 MB 317.4 kB/s eta 0:00:29\n",
      "   ------ --------------------------------- 1.6/10.6 MB 322.6 kB/s eta 0:00:28\n",
      "   ------ --------------------------------- 1.7/10.6 MB 325.7 kB/s eta 0:00:28\n",
      "   ------ --------------------------------- 1.7/10.6 MB 328.7 kB/s eta 0:00:28\n",
      "   ------ --------------------------------- 1.7/10.6 MB 329.6 kB/s eta 0:00:28\n",
      "   ------ --------------------------------- 1.8/10.6 MB 332.6 kB/s eta 0:00:27\n",
      "   ------ --------------------------------- 1.8/10.6 MB 334.4 kB/s eta 0:00:27\n",
      "   ------ --------------------------------- 1.8/10.6 MB 339.1 kB/s eta 0:00:26\n",
      "   ------ --------------------------------- 1.8/10.6 MB 339.1 kB/s eta 0:00:26\n",
      "   ------- -------------------------------- 1.9/10.6 MB 344.5 kB/s eta 0:00:26\n",
      "   ------- -------------------------------- 1.9/10.6 MB 344.5 kB/s eta 0:00:26\n",
      "   ------- -------------------------------- 1.9/10.6 MB 344.5 kB/s eta 0:00:26\n",
      "   ------- -------------------------------- 1.9/10.6 MB 344.5 kB/s eta 0:00:26\n",
      "   ------- -------------------------------- 1.9/10.6 MB 344.5 kB/s eta 0:00:26\n",
      "   ------- -------------------------------- 1.9/10.6 MB 344.5 kB/s eta 0:00:26\n",
      "   ------- -------------------------------- 1.9/10.6 MB 333.0 kB/s eta 0:00:27\n",
      "   ------- -------------------------------- 1.9/10.6 MB 333.0 kB/s eta 0:00:27\n",
      "   ------- -------------------------------- 1.9/10.6 MB 332.1 kB/s eta 0:00:27\n",
      "   ------- -------------------------------- 1.9/10.6 MB 332.1 kB/s eta 0:00:27\n",
      "   ------- -------------------------------- 1.9/10.6 MB 332.1 kB/s eta 0:00:27\n",
      "   ------- -------------------------------- 2.0/10.6 MB 325.9 kB/s eta 0:00:27\n",
      "   ------- -------------------------------- 2.0/10.6 MB 325.9 kB/s eta 0:00:27\n",
      "   ------- -------------------------------- 2.0/10.6 MB 325.9 kB/s eta 0:00:27\n",
      "   ------- -------------------------------- 2.0/10.6 MB 325.9 kB/s eta 0:00:27\n",
      "   ------- -------------------------------- 2.0/10.6 MB 325.9 kB/s eta 0:00:27\n",
      "   ------- -------------------------------- 2.0/10.6 MB 325.9 kB/s eta 0:00:27\n",
      "   ------- -------------------------------- 2.0/10.6 MB 325.9 kB/s eta 0:00:27\n",
      "   ------- -------------------------------- 2.0/10.6 MB 320.4 kB/s eta 0:00:27\n",
      "   ------- -------------------------------- 2.0/10.6 MB 320.4 kB/s eta 0:00:27\n",
      "   ------- -------------------------------- 2.1/10.6 MB 320.5 kB/s eta 0:00:27\n",
      "   ------- -------------------------------- 2.1/10.6 MB 320.5 kB/s eta 0:00:27\n",
      "   ------- -------------------------------- 2.1/10.6 MB 320.5 kB/s eta 0:00:27\n",
      "   ------- -------------------------------- 2.1/10.6 MB 320.5 kB/s eta 0:00:27\n",
      "   ------- -------------------------------- 2.1/10.6 MB 320.5 kB/s eta 0:00:27\n",
      "   ------- -------------------------------- 2.1/10.6 MB 313.0 kB/s eta 0:00:28\n",
      "   ------- -------------------------------- 2.1/10.6 MB 313.0 kB/s eta 0:00:28\n",
      "   ------- -------------------------------- 2.1/10.6 MB 313.0 kB/s eta 0:00:28\n",
      "   ------- -------------------------------- 2.1/10.6 MB 308.0 kB/s eta 0:00:28\n",
      "   ------- -------------------------------- 2.1/10.6 MB 307.3 kB/s eta 0:00:28\n",
      "   ------- -------------------------------- 2.1/10.6 MB 307.5 kB/s eta 0:00:28\n",
      "   ------- -------------------------------- 2.1/10.6 MB 307.5 kB/s eta 0:00:28\n",
      "   -------- ------------------------------- 2.1/10.6 MB 307.0 kB/s eta 0:00:28\n",
      "   -------- ------------------------------- 2.1/10.6 MB 307.0 kB/s eta 0:00:28\n",
      "   -------- ------------------------------- 2.1/10.6 MB 307.0 kB/s eta 0:00:28\n",
      "   -------- ------------------------------- 2.1/10.6 MB 307.0 kB/s eta 0:00:28\n",
      "   -------- ------------------------------- 2.2/10.6 MB 301.2 kB/s eta 0:00:29\n",
      "   -------- ------------------------------- 2.2/10.6 MB 301.2 kB/s eta 0:00:29\n",
      "   -------- ------------------------------- 2.2/10.6 MB 298.7 kB/s eta 0:00:29\n",
      "   -------- ------------------------------- 2.2/10.6 MB 298.3 kB/s eta 0:00:29\n",
      "   -------- ------------------------------- 2.2/10.6 MB 298.3 kB/s eta 0:00:29\n",
      "   -------- ------------------------------- 2.2/10.6 MB 298.3 kB/s eta 0:00:29\n",
      "   -------- ------------------------------- 2.2/10.6 MB 298.3 kB/s eta 0:00:29\n",
      "   -------- ------------------------------- 2.2/10.6 MB 298.3 kB/s eta 0:00:29\n",
      "   -------- ------------------------------- 2.2/10.6 MB 291.6 kB/s eta 0:00:29\n",
      "   -------- ------------------------------- 2.2/10.6 MB 291.6 kB/s eta 0:00:29\n",
      "   -------- ------------------------------- 2.2/10.6 MB 291.3 kB/s eta 0:00:29\n",
      "   -------- ------------------------------- 2.2/10.6 MB 291.3 kB/s eta 0:00:29\n",
      "   -------- ------------------------------- 2.2/10.6 MB 290.4 kB/s eta 0:00:29\n",
      "   -------- ------------------------------- 2.3/10.6 MB 289.4 kB/s eta 0:00:29\n",
      "   -------- ------------------------------- 2.3/10.6 MB 289.4 kB/s eta 0:00:29\n",
      "   -------- ------------------------------- 2.3/10.6 MB 289.1 kB/s eta 0:00:29\n",
      "   -------- ------------------------------- 2.3/10.6 MB 288.1 kB/s eta 0:00:30\n",
      "   -------- ------------------------------- 2.3/10.6 MB 288.4 kB/s eta 0:00:29\n",
      "   -------- ------------------------------- 2.3/10.6 MB 288.4 kB/s eta 0:00:29\n",
      "   -------- ------------------------------- 2.3/10.6 MB 288.7 kB/s eta 0:00:29\n",
      "   -------- ------------------------------- 2.3/10.6 MB 288.7 kB/s eta 0:00:29\n",
      "   -------- ------------------------------- 2.3/10.6 MB 286.7 kB/s eta 0:00:29\n",
      "   -------- ------------------------------- 2.3/10.6 MB 286.7 kB/s eta 0:00:29\n",
      "   -------- ------------------------------- 2.3/10.6 MB 286.7 kB/s eta 0:00:29\n",
      "   -------- ------------------------------- 2.4/10.6 MB 283.7 kB/s eta 0:00:30\n",
      "   -------- ------------------------------- 2.4/10.6 MB 283.7 kB/s eta 0:00:30\n",
      "   -------- ------------------------------- 2.4/10.6 MB 283.7 kB/s eta 0:00:30\n",
      "   -------- ------------------------------- 2.4/10.6 MB 283.7 kB/s eta 0:00:30\n",
      "   -------- ------------------------------- 2.4/10.6 MB 283.7 kB/s eta 0:00:30\n",
      "   -------- ------------------------------- 2.4/10.6 MB 277.1 kB/s eta 0:00:30\n",
      "   -------- ------------------------------- 2.4/10.6 MB 277.1 kB/s eta 0:00:30\n",
      "   -------- ------------------------------- 2.4/10.6 MB 277.1 kB/s eta 0:00:30\n",
      "   -------- ------------------------------- 2.4/10.6 MB 277.1 kB/s eta 0:00:30\n",
      "   -------- ------------------------------- 2.4/10.6 MB 273.5 kB/s eta 0:00:31\n",
      "   -------- ------------------------------- 2.4/10.6 MB 273.5 kB/s eta 0:00:31\n",
      "   --------- ------------------------------ 2.4/10.6 MB 273.8 kB/s eta 0:00:31\n",
      "   --------- ------------------------------ 2.4/10.6 MB 273.8 kB/s eta 0:00:31\n",
      "   --------- ------------------------------ 2.4/10.6 MB 272.1 kB/s eta 0:00:31\n",
      "   --------- ------------------------------ 2.4/10.6 MB 272.1 kB/s eta 0:00:31\n",
      "   --------- ------------------------------ 2.4/10.6 MB 272.1 kB/s eta 0:00:31\n",
      "   --------- ------------------------------ 2.4/10.6 MB 272.1 kB/s eta 0:00:31\n",
      "   --------- ------------------------------ 2.4/10.6 MB 272.1 kB/s eta 0:00:31\n",
      "   --------- ------------------------------ 2.4/10.6 MB 267.3 kB/s eta 0:00:31\n",
      "   --------- ------------------------------ 2.4/10.6 MB 267.3 kB/s eta 0:00:31\n",
      "   --------- ------------------------------ 2.4/10.6 MB 265.3 kB/s eta 0:00:31\n",
      "   --------- ------------------------------ 2.4/10.6 MB 265.3 kB/s eta 0:00:31\n",
      "   --------- ------------------------------ 2.4/10.6 MB 265.3 kB/s eta 0:00:31\n",
      "   --------- ------------------------------ 2.4/10.6 MB 265.3 kB/s eta 0:00:31\n",
      "   --------- ------------------------------ 2.4/10.6 MB 265.3 kB/s eta 0:00:31\n",
      "   --------- ------------------------------ 2.4/10.6 MB 265.3 kB/s eta 0:00:31\n",
      "   --------- ------------------------------ 2.4/10.6 MB 265.3 kB/s eta 0:00:31\n",
      "   --------- ------------------------------ 2.4/10.6 MB 265.3 kB/s eta 0:00:31\n",
      "   --------- ------------------------------ 2.5/10.6 MB 256.6 kB/s eta 0:00:32\n",
      "   --------- ------------------------------ 2.5/10.6 MB 256.6 kB/s eta 0:00:32\n",
      "   --------- ------------------------------ 2.5/10.6 MB 256.6 kB/s eta 0:00:32\n",
      "   --------- ------------------------------ 2.5/10.6 MB 256.6 kB/s eta 0:00:32\n",
      "   --------- ------------------------------ 2.5/10.6 MB 253.8 kB/s eta 0:00:33\n",
      "   --------- ------------------------------ 2.5/10.6 MB 253.8 kB/s eta 0:00:33\n",
      "   --------- ------------------------------ 2.5/10.6 MB 253.8 kB/s eta 0:00:33\n",
      "   --------- ------------------------------ 2.5/10.6 MB 253.8 kB/s eta 0:00:33\n",
      "   --------- ------------------------------ 2.5/10.6 MB 253.8 kB/s eta 0:00:33\n",
      "   --------- ------------------------------ 2.5/10.6 MB 253.8 kB/s eta 0:00:33\n",
      "   --------- ------------------------------ 2.5/10.6 MB 253.8 kB/s eta 0:00:33\n",
      "   --------- ------------------------------ 2.5/10.6 MB 253.8 kB/s eta 0:00:33\n",
      "   --------- ------------------------------ 2.5/10.6 MB 253.8 kB/s eta 0:00:33\n",
      "   --------- ------------------------------ 2.5/10.6 MB 253.8 kB/s eta 0:00:33\n",
      "   --------- ------------------------------ 2.5/10.6 MB 243.9 kB/s eta 0:00:34\n",
      "   --------- ------------------------------ 2.5/10.6 MB 243.9 kB/s eta 0:00:34\n",
      "   --------- ------------------------------ 2.5/10.6 MB 242.9 kB/s eta 0:00:34\n",
      "   --------- ------------------------------ 2.5/10.6 MB 242.9 kB/s eta 0:00:34\n",
      "   --------- ------------------------------ 2.5/10.6 MB 241.7 kB/s eta 0:00:34\n",
      "   --------- ------------------------------ 2.5/10.6 MB 241.7 kB/s eta 0:00:34\n",
      "   --------- ------------------------------ 2.5/10.6 MB 241.7 kB/s eta 0:00:34\n",
      "   --------- ------------------------------ 2.5/10.6 MB 241.7 kB/s eta 0:00:34\n",
      "   --------- ------------------------------ 2.5/10.6 MB 241.7 kB/s eta 0:00:34\n",
      "   --------- ------------------------------ 2.5/10.6 MB 238.0 kB/s eta 0:00:35\n",
      "   --------- ------------------------------ 2.5/10.6 MB 237.6 kB/s eta 0:00:35\n",
      "   --------- ------------------------------ 2.5/10.6 MB 237.6 kB/s eta 0:00:35\n",
      "   --------- ------------------------------ 2.6/10.6 MB 237.5 kB/s eta 0:00:34\n",
      "   --------- ------------------------------ 2.6/10.6 MB 237.5 kB/s eta 0:00:34\n",
      "   --------- ------------------------------ 2.6/10.6 MB 236.7 kB/s eta 0:00:35\n",
      "   --------- ------------------------------ 2.6/10.6 MB 236.7 kB/s eta 0:00:35\n",
      "   --------- ------------------------------ 2.6/10.6 MB 236.9 kB/s eta 0:00:34\n",
      "   --------- ------------------------------ 2.6/10.6 MB 236.8 kB/s eta 0:00:34\n",
      "   --------- ------------------------------ 2.6/10.6 MB 237.0 kB/s eta 0:00:34\n",
      "   --------- ------------------------------ 2.7/10.6 MB 237.8 kB/s eta 0:00:34\n",
      "   --------- ------------------------------ 2.7/10.6 MB 237.8 kB/s eta 0:00:34\n",
      "   ---------- ----------------------------- 2.7/10.6 MB 237.7 kB/s eta 0:00:34\n",
      "   ---------- ----------------------------- 2.7/10.6 MB 238.2 kB/s eta 0:00:34\n",
      "   ---------- ----------------------------- 2.7/10.6 MB 238.5 kB/s eta 0:00:34\n",
      "   ---------- ----------------------------- 2.7/10.6 MB 239.0 kB/s eta 0:00:34\n",
      "   ---------- ----------------------------- 2.7/10.6 MB 239.0 kB/s eta 0:00:34\n",
      "   ---------- ----------------------------- 2.7/10.6 MB 239.1 kB/s eta 0:00:34\n",
      "   ---------- ----------------------------- 2.7/10.6 MB 238.7 kB/s eta 0:00:34\n",
      "   ---------- ----------------------------- 2.8/10.6 MB 240.1 kB/s eta 0:00:33\n",
      "   ---------- ----------------------------- 2.8/10.6 MB 240.6 kB/s eta 0:00:33\n",
      "   ---------- ----------------------------- 2.8/10.6 MB 240.6 kB/s eta 0:00:33\n",
      "   ---------- ----------------------------- 2.8/10.6 MB 240.7 kB/s eta 0:00:33\n",
      "   ---------- ----------------------------- 2.8/10.6 MB 240.6 kB/s eta 0:00:33\n",
      "   ---------- ----------------------------- 2.8/10.6 MB 241.4 kB/s eta 0:00:33\n",
      "   ---------- ----------------------------- 2.9/10.6 MB 241.6 kB/s eta 0:00:33\n",
      "   ---------- ----------------------------- 2.9/10.6 MB 242.1 kB/s eta 0:00:33\n",
      "   ---------- ----------------------------- 2.9/10.6 MB 243.2 kB/s eta 0:00:32\n",
      "   ----------- ---------------------------- 2.9/10.6 MB 244.5 kB/s eta 0:00:32\n",
      "   ----------- ---------------------------- 2.9/10.6 MB 244.9 kB/s eta 0:00:32\n",
      "   ----------- ---------------------------- 3.0/10.6 MB 246.8 kB/s eta 0:00:32\n",
      "   ----------- ---------------------------- 3.0/10.6 MB 248.4 kB/s eta 0:00:31\n",
      "   ----------- ---------------------------- 3.0/10.6 MB 248.3 kB/s eta 0:00:31\n",
      "   ----------- ---------------------------- 3.1/10.6 MB 250.7 kB/s eta 0:00:31\n",
      "   ----------- ---------------------------- 3.1/10.6 MB 250.9 kB/s eta 0:00:31\n",
      "   ----------- ---------------------------- 3.1/10.6 MB 252.1 kB/s eta 0:00:30\n",
      "   ----------- ---------------------------- 3.1/10.6 MB 254.5 kB/s eta 0:00:30\n",
      "   ----------- ---------------------------- 3.2/10.6 MB 256.0 kB/s eta 0:00:30\n",
      "   ------------ --------------------------- 3.2/10.6 MB 257.5 kB/s eta 0:00:29\n",
      "   ------------ --------------------------- 3.2/10.6 MB 258.0 kB/s eta 0:00:29\n",
      "   ------------ --------------------------- 3.2/10.6 MB 259.2 kB/s eta 0:00:29\n",
      "   ------------ --------------------------- 3.3/10.6 MB 261.5 kB/s eta 0:00:29\n",
      "   ------------ --------------------------- 3.3/10.6 MB 261.5 kB/s eta 0:00:29\n",
      "   ------------ --------------------------- 3.3/10.6 MB 262.3 kB/s eta 0:00:28\n",
      "   ------------ --------------------------- 3.3/10.6 MB 262.3 kB/s eta 0:00:28\n",
      "   ------------ --------------------------- 3.3/10.6 MB 262.5 kB/s eta 0:00:28\n",
      "   ------------ --------------------------- 3.4/10.6 MB 264.4 kB/s eta 0:00:28\n",
      "   ------------ --------------------------- 3.4/10.6 MB 264.2 kB/s eta 0:00:28\n",
      "   ------------ --------------------------- 3.4/10.6 MB 265.2 kB/s eta 0:00:28\n",
      "   ------------ --------------------------- 3.5/10.6 MB 266.6 kB/s eta 0:00:27\n",
      "   ------------- -------------------------- 3.5/10.6 MB 267.7 kB/s eta 0:00:27\n",
      "   ------------- -------------------------- 3.5/10.6 MB 267.7 kB/s eta 0:00:27\n",
      "   ------------- -------------------------- 3.5/10.6 MB 267.7 kB/s eta 0:00:27\n",
      "   ------------- -------------------------- 3.5/10.6 MB 267.7 kB/s eta 0:00:27\n",
      "   ------------- -------------------------- 3.5/10.6 MB 266.5 kB/s eta 0:00:27\n",
      "   ------------- -------------------------- 3.5/10.6 MB 267.1 kB/s eta 0:00:27\n",
      "   ------------- -------------------------- 3.5/10.6 MB 267.1 kB/s eta 0:00:27\n",
      "   ------------- -------------------------- 3.5/10.6 MB 267.1 kB/s eta 0:00:27\n",
      "   ------------- -------------------------- 3.6/10.6 MB 266.3 kB/s eta 0:00:27\n",
      "   ------------- -------------------------- 3.6/10.6 MB 266.3 kB/s eta 0:00:27\n",
      "   ------------- -------------------------- 3.6/10.6 MB 266.3 kB/s eta 0:00:27\n",
      "   ------------- -------------------------- 3.6/10.6 MB 266.3 kB/s eta 0:00:27\n",
      "   ------------- -------------------------- 3.6/10.6 MB 266.3 kB/s eta 0:00:27\n",
      "   ------------- -------------------------- 3.6/10.6 MB 265.8 kB/s eta 0:00:27\n",
      "   ------------- -------------------------- 3.6/10.6 MB 266.4 kB/s eta 0:00:27\n",
      "   ------------- -------------------------- 3.6/10.6 MB 266.4 kB/s eta 0:00:27\n",
      "   ------------- -------------------------- 3.7/10.6 MB 266.8 kB/s eta 0:00:27\n",
      "   ------------- -------------------------- 3.7/10.6 MB 266.9 kB/s eta 0:00:27\n",
      "   ------------- -------------------------- 3.7/10.6 MB 267.8 kB/s eta 0:00:26\n",
      "   -------------- ------------------------- 3.7/10.6 MB 268.8 kB/s eta 0:00:26\n",
      "   -------------- ------------------------- 3.8/10.6 MB 270.1 kB/s eta 0:00:26\n",
      "   -------------- ------------------------- 3.8/10.6 MB 272.1 kB/s eta 0:00:26\n",
      "   -------------- ------------------------- 3.8/10.6 MB 273.4 kB/s eta 0:00:25\n",
      "   -------------- ------------------------- 3.9/10.6 MB 274.7 kB/s eta 0:00:25\n",
      "   -------------- ------------------------- 3.9/10.6 MB 275.6 kB/s eta 0:00:25\n",
      "   -------------- ------------------------- 3.9/10.6 MB 276.2 kB/s eta 0:00:25\n",
      "   -------------- ------------------------- 3.9/10.6 MB 276.0 kB/s eta 0:00:25\n",
      "   -------------- ------------------------- 3.9/10.6 MB 276.0 kB/s eta 0:00:25\n",
      "   -------------- ------------------------- 3.9/10.6 MB 276.0 kB/s eta 0:00:25\n",
      "   -------------- ------------------------- 3.9/10.6 MB 276.0 kB/s eta 0:00:25\n",
      "   -------------- ------------------------- 3.9/10.6 MB 273.8 kB/s eta 0:00:25\n",
      "   --------------- ------------------------ 4.0/10.6 MB 276.5 kB/s eta 0:00:25\n",
      "   --------------- ------------------------ 4.0/10.6 MB 276.6 kB/s eta 0:00:24\n",
      "   --------------- ------------------------ 4.0/10.6 MB 277.1 kB/s eta 0:00:24\n",
      "   --------------- ------------------------ 4.0/10.6 MB 278.0 kB/s eta 0:00:24\n",
      "   --------------- ------------------------ 4.1/10.6 MB 277.8 kB/s eta 0:00:24\n",
      "   --------------- ------------------------ 4.1/10.6 MB 278.0 kB/s eta 0:00:24\n",
      "   --------------- ------------------------ 4.1/10.6 MB 278.9 kB/s eta 0:00:24\n",
      "   --------------- ------------------------ 4.1/10.6 MB 279.7 kB/s eta 0:00:24\n",
      "   --------------- ------------------------ 4.1/10.6 MB 279.8 kB/s eta 0:00:24\n",
      "   --------------- ------------------------ 4.2/10.6 MB 280.7 kB/s eta 0:00:24\n",
      "   --------------- ------------------------ 4.2/10.6 MB 281.6 kB/s eta 0:00:23\n",
      "   --------------- ------------------------ 4.2/10.6 MB 282.3 kB/s eta 0:00:23\n",
      "   --------------- ------------------------ 4.2/10.6 MB 282.5 kB/s eta 0:00:23\n",
      "   ---------------- ----------------------- 4.3/10.6 MB 283.7 kB/s eta 0:00:23\n",
      "   ---------------- ----------------------- 4.3/10.6 MB 283.8 kB/s eta 0:00:23\n",
      "   ---------------- ----------------------- 4.3/10.6 MB 285.3 kB/s eta 0:00:23\n",
      "   ---------------- ----------------------- 4.3/10.6 MB 286.0 kB/s eta 0:00:23\n",
      "   ---------------- ----------------------- 4.4/10.6 MB 286.6 kB/s eta 0:00:22\n",
      "   ---------------- ----------------------- 4.4/10.6 MB 288.1 kB/s eta 0:00:22\n",
      "   ---------------- ----------------------- 4.4/10.6 MB 289.5 kB/s eta 0:00:22\n",
      "   ---------------- ----------------------- 4.5/10.6 MB 290.6 kB/s eta 0:00:22\n",
      "   ---------------- ----------------------- 4.5/10.6 MB 292.0 kB/s eta 0:00:22\n",
      "   ----------------- ---------------------- 4.5/10.6 MB 292.5 kB/s eta 0:00:21\n",
      "   ----------------- ---------------------- 4.5/10.6 MB 293.6 kB/s eta 0:00:21\n",
      "   ----------------- ---------------------- 4.6/10.6 MB 295.1 kB/s eta 0:00:21\n",
      "   ----------------- ---------------------- 4.6/10.6 MB 295.1 kB/s eta 0:00:21\n",
      "   ----------------- ---------------------- 4.6/10.6 MB 294.8 kB/s eta 0:00:21\n",
      "   ----------------- ---------------------- 4.7/10.6 MB 296.6 kB/s eta 0:00:21\n",
      "   ----------------- ---------------------- 4.7/10.6 MB 297.1 kB/s eta 0:00:21\n",
      "   ----------------- ---------------------- 4.7/10.6 MB 297.1 kB/s eta 0:00:21\n",
      "   ----------------- ---------------------- 4.7/10.6 MB 297.1 kB/s eta 0:00:21\n",
      "   ----------------- ---------------------- 4.7/10.6 MB 297.7 kB/s eta 0:00:20\n",
      "   ----------------- ---------------------- 4.7/10.6 MB 297.7 kB/s eta 0:00:20\n",
      "   ----------------- ---------------------- 4.8/10.6 MB 298.8 kB/s eta 0:00:20\n",
      "   ------------------ --------------------- 4.8/10.6 MB 300.5 kB/s eta 0:00:20\n",
      "   ------------------ --------------------- 4.8/10.6 MB 301.5 kB/s eta 0:00:20\n",
      "   ------------------ --------------------- 4.9/10.6 MB 301.0 kB/s eta 0:00:20\n",
      "   ------------------ --------------------- 4.9/10.6 MB 302.9 kB/s eta 0:00:19\n",
      "   ------------------ --------------------- 4.9/10.6 MB 303.9 kB/s eta 0:00:19\n",
      "   ------------------ --------------------- 5.0/10.6 MB 305.2 kB/s eta 0:00:19\n",
      "   ------------------ --------------------- 5.0/10.6 MB 305.7 kB/s eta 0:00:19\n",
      "   ------------------ --------------------- 5.0/10.6 MB 307.0 kB/s eta 0:00:19\n",
      "   ------------------- -------------------- 5.1/10.6 MB 309.2 kB/s eta 0:00:19\n",
      "   ------------------- -------------------- 5.1/10.6 MB 310.9 kB/s eta 0:00:18\n",
      "   ------------------- -------------------- 5.1/10.6 MB 310.9 kB/s eta 0:00:18\n",
      "   ------------------- -------------------- 5.2/10.6 MB 311.5 kB/s eta 0:00:18\n",
      "   ------------------- -------------------- 5.2/10.6 MB 311.9 kB/s eta 0:00:18\n",
      "   ------------------- -------------------- 5.2/10.6 MB 312.6 kB/s eta 0:00:18\n",
      "   ------------------- -------------------- 5.2/10.6 MB 312.6 kB/s eta 0:00:18\n",
      "   ------------------- -------------------- 5.2/10.6 MB 312.6 kB/s eta 0:00:18\n",
      "   ------------------- -------------------- 5.3/10.6 MB 313.0 kB/s eta 0:00:18\n",
      "   ------------------- -------------------- 5.3/10.6 MB 313.0 kB/s eta 0:00:18\n",
      "   ------------------- -------------------- 5.3/10.6 MB 313.1 kB/s eta 0:00:18\n",
      "   ------------------- -------------------- 5.3/10.6 MB 312.8 kB/s eta 0:00:18\n",
      "   -------------------- ------------------- 5.3/10.6 MB 313.8 kB/s eta 0:00:17\n",
      "   -------------------- ------------------- 5.3/10.6 MB 313.8 kB/s eta 0:00:17\n",
      "   -------------------- ------------------- 5.4/10.6 MB 315.4 kB/s eta 0:00:17\n",
      "   -------------------- ------------------- 5.4/10.6 MB 316.0 kB/s eta 0:00:17\n",
      "   -------------------- ------------------- 5.5/10.6 MB 318.1 kB/s eta 0:00:17\n",
      "   -------------------- ------------------- 5.5/10.6 MB 319.6 kB/s eta 0:00:17\n",
      "   -------------------- ------------------- 5.5/10.6 MB 320.5 kB/s eta 0:00:16\n",
      "   -------------------- ------------------- 5.6/10.6 MB 320.9 kB/s eta 0:00:16\n",
      "   --------------------- ------------------ 5.6/10.6 MB 322.4 kB/s eta 0:00:16\n",
      "   --------------------- ------------------ 5.6/10.6 MB 322.4 kB/s eta 0:00:16\n",
      "   --------------------- ------------------ 5.6/10.6 MB 321.8 kB/s eta 0:00:16\n",
      "   --------------------- ------------------ 5.6/10.6 MB 323.3 kB/s eta 0:00:16\n",
      "   --------------------- ------------------ 5.7/10.6 MB 323.6 kB/s eta 0:00:16\n",
      "   --------------------- ------------------ 5.7/10.6 MB 324.2 kB/s eta 0:00:16\n",
      "   --------------------- ------------------ 5.7/10.6 MB 325.1 kB/s eta 0:00:16\n",
      "   --------------------- ------------------ 5.7/10.6 MB 325.1 kB/s eta 0:00:16\n",
      "   --------------------- ------------------ 5.7/10.6 MB 324.8 kB/s eta 0:00:16\n",
      "   --------------------- ------------------ 5.8/10.6 MB 323.9 kB/s eta 0:00:16\n",
      "   --------------------- ------------------ 5.8/10.6 MB 323.9 kB/s eta 0:00:16\n",
      "   --------------------- ------------------ 5.8/10.6 MB 323.9 kB/s eta 0:00:16\n",
      "   --------------------- ------------------ 5.8/10.6 MB 325.4 kB/s eta 0:00:15\n",
      "   ---------------------- ----------------- 5.9/10.6 MB 326.5 kB/s eta 0:00:15\n",
      "   ---------------------- ----------------- 5.9/10.6 MB 326.5 kB/s eta 0:00:15\n",
      "   ---------------------- ----------------- 5.9/10.6 MB 326.5 kB/s eta 0:00:15\n",
      "   ---------------------- ----------------- 5.9/10.6 MB 327.1 kB/s eta 0:00:15\n",
      "   ---------------------- ----------------- 5.9/10.6 MB 327.7 kB/s eta 0:00:15\n",
      "   ---------------------- ----------------- 6.0/10.6 MB 329.4 kB/s eta 0:00:15\n",
      "   ---------------------- ----------------- 6.0/10.6 MB 329.4 kB/s eta 0:00:15\n",
      "   ---------------------- ----------------- 6.0/10.6 MB 329.7 kB/s eta 0:00:15\n",
      "   ---------------------- ----------------- 6.0/10.6 MB 329.9 kB/s eta 0:00:14\n",
      "   ---------------------- ----------------- 6.1/10.6 MB 330.8 kB/s eta 0:00:14\n",
      "   ---------------------- ----------------- 6.1/10.6 MB 331.6 kB/s eta 0:00:14\n",
      "   ----------------------- ---------------- 6.2/10.6 MB 333.5 kB/s eta 0:00:14\n",
      "   ----------------------- ---------------- 6.2/10.6 MB 335.4 kB/s eta 0:00:14\n",
      "   ----------------------- ---------------- 6.2/10.6 MB 336.8 kB/s eta 0:00:14\n",
      "   ----------------------- ---------------- 6.3/10.6 MB 338.2 kB/s eta 0:00:13\n",
      "   ----------------------- ---------------- 6.3/10.6 MB 339.0 kB/s eta 0:00:13\n",
      "   ----------------------- ---------------- 6.4/10.6 MB 340.9 kB/s eta 0:00:13\n",
      "   ------------------------ --------------- 6.4/10.6 MB 342.7 kB/s eta 0:00:13\n",
      "   ------------------------ --------------- 6.5/10.6 MB 344.6 kB/s eta 0:00:13\n",
      "   ------------------------ --------------- 6.5/10.6 MB 346.2 kB/s eta 0:00:12\n",
      "   ------------------------ --------------- 6.5/10.6 MB 346.2 kB/s eta 0:00:12\n",
      "   ------------------------ --------------- 6.6/10.6 MB 347.5 kB/s eta 0:00:12\n",
      "   ------------------------ --------------- 6.6/10.6 MB 347.5 kB/s eta 0:00:12\n",
      "   ------------------------ --------------- 6.6/10.6 MB 347.5 kB/s eta 0:00:12\n",
      "   ------------------------ --------------- 6.6/10.6 MB 347.5 kB/s eta 0:00:12\n",
      "   ------------------------- -------------- 6.7/10.6 MB 348.3 kB/s eta 0:00:12\n",
      "   ------------------------- -------------- 6.7/10.6 MB 348.6 kB/s eta 0:00:12\n",
      "   ------------------------- -------------- 6.7/10.6 MB 348.5 kB/s eta 0:00:12\n",
      "   ------------------------- -------------- 6.7/10.6 MB 350.1 kB/s eta 0:00:12\n",
      "   ------------------------- -------------- 6.8/10.6 MB 350.8 kB/s eta 0:00:12\n",
      "   ------------------------- -------------- 6.8/10.6 MB 350.8 kB/s eta 0:00:12\n",
      "   ------------------------- -------------- 6.8/10.6 MB 350.7 kB/s eta 0:00:11\n",
      "   ------------------------- -------------- 6.8/10.6 MB 349.8 kB/s eta 0:00:11\n",
      "   ------------------------- -------------- 6.8/10.6 MB 350.3 kB/s eta 0:00:11\n",
      "   ------------------------- -------------- 6.8/10.6 MB 350.5 kB/s eta 0:00:11\n",
      "   ------------------------- -------------- 6.9/10.6 MB 350.5 kB/s eta 0:00:11\n",
      "   ------------------------- -------------- 6.9/10.6 MB 351.7 kB/s eta 0:00:11\n",
      "   ------------------------- -------------- 6.9/10.6 MB 351.7 kB/s eta 0:00:11\n",
      "   -------------------------- ------------- 6.9/10.6 MB 351.4 kB/s eta 0:00:11\n",
      "   -------------------------- ------------- 7.0/10.6 MB 352.1 kB/s eta 0:00:11\n",
      "   -------------------------- ------------- 7.0/10.6 MB 352.0 kB/s eta 0:00:11\n",
      "   -------------------------- ------------- 7.0/10.6 MB 353.0 kB/s eta 0:00:11\n",
      "   -------------------------- ------------- 7.0/10.6 MB 354.2 kB/s eta 0:00:11\n",
      "   -------------------------- ------------- 7.1/10.6 MB 355.2 kB/s eta 0:00:11\n",
      "   -------------------------- ------------- 7.1/10.6 MB 356.4 kB/s eta 0:00:10\n",
      "   -------------------------- ------------- 7.1/10.6 MB 357.1 kB/s eta 0:00:10\n",
      "   --------------------------- ------------ 7.2/10.6 MB 357.8 kB/s eta 0:00:10\n",
      "   --------------------------- ------------ 7.2/10.6 MB 359.3 kB/s eta 0:00:10\n",
      "   --------------------------- ------------ 7.3/10.6 MB 360.5 kB/s eta 0:00:10\n",
      "   --------------------------- ------------ 7.3/10.6 MB 361.7 kB/s eta 0:00:10\n",
      "   --------------------------- ------------ 7.4/10.6 MB 362.9 kB/s eta 0:00:10\n",
      "   --------------------------- ------------ 7.4/10.6 MB 364.8 kB/s eta 0:00:09\n",
      "   --------------------------- ------------ 7.4/10.6 MB 365.7 kB/s eta 0:00:09\n",
      "   ---------------------------- ----------- 7.5/10.6 MB 367.7 kB/s eta 0:00:09\n",
      "   ---------------------------- ----------- 7.6/10.6 MB 370.0 kB/s eta 0:00:09\n",
      "   ---------------------------- ----------- 7.6/10.6 MB 371.2 kB/s eta 0:00:09\n",
      "   ---------------------------- ----------- 7.7/10.6 MB 372.9 kB/s eta 0:00:08\n",
      "   ---------------------------- ----------- 7.7/10.6 MB 374.5 kB/s eta 0:00:08\n",
      "   ---------------------------- ----------- 7.7/10.6 MB 374.5 kB/s eta 0:00:08\n",
      "   ----------------------------- ---------- 7.8/10.6 MB 375.6 kB/s eta 0:00:08\n",
      "   ----------------------------- ---------- 7.8/10.6 MB 374.9 kB/s eta 0:00:08\n",
      "   ----------------------------- ---------- 7.8/10.6 MB 376.5 kB/s eta 0:00:08\n",
      "   ----------------------------- ---------- 7.8/10.6 MB 377.2 kB/s eta 0:00:08\n",
      "   ----------------------------- ---------- 7.9/10.6 MB 378.8 kB/s eta 0:00:08\n",
      "   ----------------------------- ---------- 8.0/10.6 MB 380.4 kB/s eta 0:00:08\n",
      "   ------------------------------ --------- 8.0/10.6 MB 382.2 kB/s eta 0:00:07\n",
      "   ------------------------------ --------- 8.1/10.6 MB 383.8 kB/s eta 0:00:07\n",
      "   ------------------------------ --------- 8.1/10.6 MB 385.9 kB/s eta 0:00:07\n",
      "   ------------------------------ --------- 8.1/10.6 MB 385.9 kB/s eta 0:00:07\n",
      "   ------------------------------ --------- 8.1/10.6 MB 385.9 kB/s eta 0:00:07\n",
      "   ------------------------------ --------- 8.1/10.6 MB 385.9 kB/s eta 0:00:07\n",
      "   ------------------------------ --------- 8.1/10.6 MB 385.9 kB/s eta 0:00:07\n",
      "   ------------------------------ --------- 8.1/10.6 MB 382.6 kB/s eta 0:00:07\n",
      "   ------------------------------ --------- 8.1/10.6 MB 382.6 kB/s eta 0:00:07\n",
      "   ------------------------------ --------- 8.1/10.6 MB 382.6 kB/s eta 0:00:07\n",
      "   ------------------------------ --------- 8.2/10.6 MB 381.5 kB/s eta 0:00:07\n",
      "   ------------------------------ --------- 8.2/10.6 MB 381.5 kB/s eta 0:00:07\n",
      "   ------------------------------ --------- 8.2/10.6 MB 382.5 kB/s eta 0:00:07\n",
      "   ------------------------------- -------- 8.3/10.6 MB 382.8 kB/s eta 0:00:07\n",
      "   ------------------------------- -------- 8.3/10.6 MB 383.4 kB/s eta 0:00:07\n",
      "   ------------------------------- -------- 8.3/10.6 MB 384.4 kB/s eta 0:00:06\n",
      "   ------------------------------- -------- 8.4/10.6 MB 385.0 kB/s eta 0:00:06\n",
      "   ------------------------------- -------- 8.4/10.6 MB 386.5 kB/s eta 0:00:06\n",
      "   ------------------------------- -------- 8.4/10.6 MB 386.6 kB/s eta 0:00:06\n",
      "   ------------------------------- -------- 8.5/10.6 MB 387.7 kB/s eta 0:00:06\n",
      "   ------------------------------- -------- 8.5/10.6 MB 388.3 kB/s eta 0:00:06\n",
      "   -------------------------------- ------- 8.6/10.6 MB 390.0 kB/s eta 0:00:06\n",
      "   -------------------------------- ------- 8.6/10.6 MB 391.3 kB/s eta 0:00:06\n",
      "   -------------------------------- ------- 8.6/10.6 MB 391.8 kB/s eta 0:00:06\n",
      "   -------------------------------- ------- 8.7/10.6 MB 392.5 kB/s eta 0:00:06\n",
      "   -------------------------------- ------- 8.7/10.6 MB 391.8 kB/s eta 0:00:06\n",
      "   -------------------------------- ------- 8.7/10.6 MB 392.4 kB/s eta 0:00:05\n",
      "   -------------------------------- ------- 8.7/10.6 MB 393.1 kB/s eta 0:00:05\n",
      "   -------------------------------- ------- 8.8/10.6 MB 393.7 kB/s eta 0:00:05\n",
      "   --------------------------------- ------ 8.8/10.6 MB 394.5 kB/s eta 0:00:05\n",
      "   --------------------------------- ------ 8.8/10.6 MB 394.9 kB/s eta 0:00:05\n",
      "   --------------------------------- ------ 8.8/10.6 MB 394.9 kB/s eta 0:00:05\n",
      "   --------------------------------- ------ 8.9/10.6 MB 394.3 kB/s eta 0:00:05\n",
      "   --------------------------------- ------ 8.9/10.6 MB 394.2 kB/s eta 0:00:05\n",
      "   --------------------------------- ------ 8.9/10.6 MB 394.7 kB/s eta 0:00:05\n",
      "   --------------------------------- ------ 8.9/10.6 MB 395.4 kB/s eta 0:00:05\n",
      "   --------------------------------- ------ 8.9/10.6 MB 395.4 kB/s eta 0:00:05\n",
      "   --------------------------------- ------ 9.0/10.6 MB 395.8 kB/s eta 0:00:05\n",
      "   --------------------------------- ------ 9.0/10.6 MB 395.8 kB/s eta 0:00:05\n",
      "   --------------------------------- ------ 9.0/10.6 MB 395.8 kB/s eta 0:00:05\n",
      "   --------------------------------- ------ 9.0/10.6 MB 395.8 kB/s eta 0:00:05\n",
      "   --------------------------------- ------ 9.0/10.6 MB 395.8 kB/s eta 0:00:05\n",
      "   --------------------------------- ------ 9.0/10.6 MB 395.8 kB/s eta 0:00:05\n",
      "   --------------------------------- ------ 9.0/10.6 MB 395.8 kB/s eta 0:00:05\n",
      "   --------------------------------- ------ 9.0/10.6 MB 395.8 kB/s eta 0:00:05\n",
      "   ---------------------------------- ----- 9.1/10.6 MB 391.8 kB/s eta 0:00:05\n",
      "   ---------------------------------- ----- 9.1/10.6 MB 391.8 kB/s eta 0:00:05\n",
      "   ---------------------------------- ----- 9.1/10.6 MB 391.8 kB/s eta 0:00:05\n",
      "   ---------------------------------- ----- 9.1/10.6 MB 391.8 kB/s eta 0:00:05\n",
      "   ---------------------------------- ----- 9.1/10.6 MB 390.7 kB/s eta 0:00:04\n",
      "   ---------------------------------- ----- 9.1/10.6 MB 390.7 kB/s eta 0:00:04\n",
      "   ---------------------------------- ----- 9.1/10.6 MB 390.1 kB/s eta 0:00:04\n",
      "   ---------------------------------- ----- 9.1/10.6 MB 390.1 kB/s eta 0:00:04\n",
      "   ---------------------------------- ----- 9.1/10.6 MB 388.4 kB/s eta 0:00:04\n",
      "   ---------------------------------- ----- 9.1/10.6 MB 389.0 kB/s eta 0:00:04\n",
      "   ---------------------------------- ----- 9.1/10.6 MB 389.0 kB/s eta 0:00:04\n",
      "   ---------------------------------- ----- 9.2/10.6 MB 388.8 kB/s eta 0:00:04\n",
      "   ---------------------------------- ----- 9.2/10.6 MB 388.6 kB/s eta 0:00:04\n",
      "   ---------------------------------- ----- 9.2/10.6 MB 388.3 kB/s eta 0:00:04\n",
      "   ---------------------------------- ----- 9.2/10.6 MB 388.4 kB/s eta 0:00:04\n",
      "   ---------------------------------- ----- 9.2/10.6 MB 388.7 kB/s eta 0:00:04\n",
      "   ---------------------------------- ----- 9.3/10.6 MB 389.0 kB/s eta 0:00:04\n",
      "   ---------------------------------- ----- 9.3/10.6 MB 388.7 kB/s eta 0:00:04\n",
      "   ---------------------------------- ----- 9.3/10.6 MB 389.0 kB/s eta 0:00:04\n",
      "   ----------------------------------- ---- 9.3/10.6 MB 389.3 kB/s eta 0:00:04\n",
      "   ----------------------------------- ---- 9.3/10.6 MB 389.6 kB/s eta 0:00:04\n",
      "   ----------------------------------- ---- 9.4/10.6 MB 389.6 kB/s eta 0:00:04\n",
      "   ----------------------------------- ---- 9.4/10.6 MB 390.0 kB/s eta 0:00:04\n",
      "   ----------------------------------- ---- 9.4/10.6 MB 390.3 kB/s eta 0:00:04\n",
      "   ----------------------------------- ---- 9.4/10.6 MB 390.4 kB/s eta 0:00:04\n",
      "   ----------------------------------- ---- 9.5/10.6 MB 391.1 kB/s eta 0:00:03\n",
      "   ----------------------------------- ---- 9.5/10.6 MB 391.2 kB/s eta 0:00:03\n",
      "   ----------------------------------- ---- 9.5/10.6 MB 391.3 kB/s eta 0:00:03\n",
      "   ----------------------------------- ---- 9.6/10.6 MB 391.8 kB/s eta 0:00:03\n",
      "   ----------------------------------- ---- 9.6/10.6 MB 392.1 kB/s eta 0:00:03\n",
      "   ------------------------------------ --- 9.6/10.6 MB 392.4 kB/s eta 0:00:03\n",
      "   ------------------------------------ --- 9.6/10.6 MB 392.9 kB/s eta 0:00:03\n",
      "   ------------------------------------ --- 9.7/10.6 MB 393.4 kB/s eta 0:00:03\n",
      "   ------------------------------------ --- 9.7/10.6 MB 393.9 kB/s eta 0:00:03\n",
      "   ------------------------------------ --- 9.7/10.6 MB 394.6 kB/s eta 0:00:03\n",
      "   ------------------------------------ --- 9.8/10.6 MB 395.1 kB/s eta 0:00:03\n",
      "   ------------------------------------ --- 9.8/10.6 MB 395.6 kB/s eta 0:00:03\n",
      "   ------------------------------------ --- 9.8/10.6 MB 395.6 kB/s eta 0:00:03\n",
      "   ------------------------------------ --- 9.8/10.6 MB 395.6 kB/s eta 0:00:03\n",
      "   ------------------------------------ --- 9.8/10.6 MB 394.2 kB/s eta 0:00:03\n",
      "   ------------------------------------ --- 9.8/10.6 MB 394.2 kB/s eta 0:00:03\n",
      "   ------------------------------------ --- 9.8/10.6 MB 392.9 kB/s eta 0:00:03\n",
      "   ------------------------------------- -- 9.9/10.6 MB 393.9 kB/s eta 0:00:03\n",
      "   ------------------------------------- -- 9.9/10.6 MB 393.7 kB/s eta 0:00:02\n",
      "   ------------------------------------- -- 9.9/10.6 MB 394.3 kB/s eta 0:00:02\n",
      "   ------------------------------------- -- 9.9/10.6 MB 394.0 kB/s eta 0:00:02\n",
      "   ------------------------------------- -- 9.9/10.6 MB 394.0 kB/s eta 0:00:02\n",
      "   ------------------------------------- -- 10.0/10.6 MB 394.6 kB/s eta 0:00:02\n",
      "   ------------------------------------- -- 10.0/10.6 MB 395.3 kB/s eta 0:00:02\n",
      "   ------------------------------------- -- 10.0/10.6 MB 395.2 kB/s eta 0:00:02\n",
      "   ------------------------------------- -- 10.1/10.6 MB 396.1 kB/s eta 0:00:02\n",
      "   ------------------------------------- -- 10.1/10.6 MB 396.4 kB/s eta 0:00:02\n",
      "   -------------------------------------- - 10.1/10.6 MB 396.8 kB/s eta 0:00:02\n",
      "   -------------------------------------- - 10.1/10.6 MB 397.3 kB/s eta 0:00:02\n",
      "   -------------------------------------- - 10.2/10.6 MB 397.8 kB/s eta 0:00:02\n",
      "   -------------------------------------- - 10.2/10.6 MB 398.1 kB/s eta 0:00:02\n",
      "   -------------------------------------- - 10.2/10.6 MB 397.9 kB/s eta 0:00:02\n",
      "   -------------------------------------- - 10.2/10.6 MB 398.1 kB/s eta 0:00:02\n",
      "   -------------------------------------- - 10.3/10.6 MB 397.8 kB/s eta 0:00:01\n",
      "   -------------------------------------- - 10.3/10.6 MB 397.8 kB/s eta 0:00:01\n",
      "   -------------------------------------- - 10.3/10.6 MB 396.8 kB/s eta 0:00:01\n",
      "   -------------------------------------- - 10.3/10.6 MB 397.0 kB/s eta 0:00:01\n",
      "   ---------------------------------------  10.4/10.6 MB 397.0 kB/s eta 0:00:01\n",
      "   ---------------------------------------  10.4/10.6 MB 396.5 kB/s eta 0:00:01\n",
      "   ---------------------------------------  10.4/10.6 MB 396.1 kB/s eta 0:00:01\n",
      "   ---------------------------------------  10.5/10.6 MB 395.4 kB/s eta 0:00:01\n",
      "   ---------------------------------------  10.5/10.6 MB 395.1 kB/s eta 0:00:01\n",
      "   ---------------------------------------  10.5/10.6 MB 394.9 kB/s eta 0:00:01\n",
      "   ---------------------------------------  10.6/10.6 MB 394.4 kB/s eta 0:00:01\n",
      "   ---------------------------------------  10.6/10.6 MB 394.2 kB/s eta 0:00:01\n",
      "   ---------------------------------------  10.6/10.6 MB 394.2 kB/s eta 0:00:01\n",
      "   ---------------------------------------  10.6/10.6 MB 394.2 kB/s eta 0:00:01\n",
      "   ---------------------------------------  10.6/10.6 MB 394.2 kB/s eta 0:00:01\n",
      "   ---------------------------------------- 10.6/10.6 MB 390.5 kB/s eta 0:00:00\n",
      "Downloading pytz-2023.3.post1-py2.py3-none-any.whl (502 kB)\n",
      "   ---------------------------------------- 0.0/502.5 kB ? eta -:--:--\n",
      "   -- ------------------------------------- 30.7/502.5 kB 1.3 MB/s eta 0:00:01\n",
      "   ---- ---------------------------------- 61.4/502.5 kB 656.4 kB/s eta 0:00:01\n",
      "   -------- ----------------------------- 112.6/502.5 kB 819.2 kB/s eta 0:00:01\n",
      "   ---------- --------------------------- 143.4/502.5 kB 853.3 kB/s eta 0:00:01\n",
      "   ------------ ------------------------- 163.8/502.5 kB 893.0 kB/s eta 0:00:01\n",
      "   ------------- ------------------------ 174.1/502.5 kB 615.9 kB/s eta 0:00:01\n",
      "   --------------- ---------------------- 204.8/502.5 kB 731.4 kB/s eta 0:00:01\n",
      "   ------------------ ------------------- 245.8/502.5 kB 684.7 kB/s eta 0:00:01\n",
      "   -------------------- ----------------- 276.5/502.5 kB 680.9 kB/s eta 0:00:01\n",
      "   ------------------------ ------------- 327.7/502.5 kB 724.7 kB/s eta 0:00:01\n",
      "   --------------------------- ---------- 358.4/502.5 kB 719.3 kB/s eta 0:00:01\n",
      "   ------------------------------ ------- 409.6/502.5 kB 752.1 kB/s eta 0:00:01\n",
      "   ---------------------------------- --- 450.6/502.5 kB 761.8 kB/s eta 0:00:01\n",
      "   -------------------------------------  501.8/502.5 kB 786.4 kB/s eta 0:00:01\n",
      "   -------------------------------------  501.8/502.5 kB 786.4 kB/s eta 0:00:01\n",
      "   -------------------------------------- 502.5/502.5 kB 684.6 kB/s eta 0:00:00\n",
      "Installing collected packages: pytz, tzdata, pandas\n",
      "Successfully installed pandas-2.1.1 pytz-2023.3.post1 tzdata-2023.3\n",
      "Note: you may need to restart the kernel to use updated packages.\n"
     ]
    }
   ],
   "source": [
    "pip install pandas"
   ]
  },
  {
   "cell_type": "code",
   "execution_count": 47,
   "metadata": {},
   "outputs": [
    {
     "name": "stdout",
     "output_type": "stream",
     "text": [
      "        Name      ID  Rol1_no  Semester\n",
      "0       Aqsa   SID-1        1         7\n",
      "1       Esha   SID-2        2         7\n",
      "2     Ayesha   SID-3        3         7\n",
      "3       Ayra   SID-4        4         7\n",
      "4       Arfa   SID-5        5         6\n",
      "5       Afsa   SID-6        6         6\n",
      "6      Abdul   SID-7        7         6\n",
      "7     Saadia   SID-8        8         5\n",
      "8  Abu Bakar   SID-9        9         8\n",
      "9       Atif  SID-10       10         8\n",
      "\n",
      "\n",
      "The data type of above given syntax is : <class 'pandas.core.frame.DataFrame'>\n"
     ]
    }
   ],
   "source": [
    "#convert into data frames\n",
    "\n",
    "import pandas as pd\n",
    "\n",
    "data=pd.DataFrame (StuDict)\n",
    "\n",
    "print(data)\n",
    "\n",
    "print(\"\\n\\nThe data type of above given syntax is :\",type (data))"
   ]
  },
  {
   "cell_type": "markdown",
   "metadata": {},
   "source": [
    "Example 02"
   ]
  },
  {
   "cell_type": "markdown",
   "metadata": {},
   "source": [
    "Demonstrate the use of describe function for a data frame"
   ]
  },
  {
   "cell_type": "code",
   "execution_count": 48,
   "metadata": {},
   "outputs": [
    {
     "name": "stdout",
     "output_type": "stream",
     "text": [
      "        Rol1_no   Semester\n",
      "count  10.00000  10.000000\n",
      "mean    5.50000   6.700000\n",
      "std     3.02765   0.948683\n",
      "min     1.00000   5.000000\n",
      "25%     3.25000   6.000000\n",
      "50%     5.50000   7.000000\n",
      "75%     7.75000   7.000000\n",
      "max    10.00000   8.000000\n"
     ]
    }
   ],
   "source": [
    "print(data.describe())"
   ]
  },
  {
   "cell_type": "markdown",
   "metadata": {},
   "source": [
    "Example 03"
   ]
  },
  {
   "cell_type": "markdown",
   "metadata": {},
   "source": [
    "Demonstrate the use of head function for a data frame"
   ]
  },
  {
   "cell_type": "code",
   "execution_count": 49,
   "metadata": {},
   "outputs": [
    {
     "name": "stdout",
     "output_type": "stream",
     "text": [
      "     Name     ID  Rol1_no  Semester\n",
      "0    Aqsa  SID-1        1         7\n",
      "1    Esha  SID-2        2         7\n",
      "2  Ayesha  SID-3        3         7\n",
      "3    Ayra  SID-4        4         7\n",
      "4    Arfa  SID-5        5         6\n"
     ]
    }
   ],
   "source": [
    "print(data.head())"
   ]
  },
  {
   "cell_type": "markdown",
   "metadata": {},
   "source": [
    "Example 04"
   ]
  },
  {
   "cell_type": "markdown",
   "metadata": {},
   "source": [
    "Demonstrate the use of tail function for a data frame"
   ]
  },
  {
   "cell_type": "code",
   "execution_count": 50,
   "metadata": {},
   "outputs": [
    {
     "name": "stdout",
     "output_type": "stream",
     "text": [
      "        Name      ID  Rol1_no  Semester\n",
      "5       Afsa   SID-6        6         6\n",
      "6      Abdul   SID-7        7         6\n",
      "7     Saadia   SID-8        8         5\n",
      "8  Abu Bakar   SID-9        9         8\n",
      "9       Atif  SID-10       10         8\n"
     ]
    }
   ],
   "source": [
    "print(data.tail())"
   ]
  },
  {
   "cell_type": "markdown",
   "metadata": {},
   "source": [
    "Example 05"
   ]
  },
  {
   "cell_type": "markdown",
   "metadata": {},
   "source": [
    "Demonstrate the use of info function for a data frame"
   ]
  },
  {
   "cell_type": "code",
   "execution_count": 51,
   "metadata": {},
   "outputs": [
    {
     "name": "stdout",
     "output_type": "stream",
     "text": [
      "<class 'pandas.core.frame.DataFrame'>\n",
      "RangeIndex: 10 entries, 0 to 9\n",
      "Data columns (total 4 columns):\n",
      " #   Column    Non-Null Count  Dtype \n",
      "---  ------    --------------  ----- \n",
      " 0   Name      10 non-null     object\n",
      " 1   ID        10 non-null     object\n",
      " 2   Rol1_no   10 non-null     int64 \n",
      " 3   Semester  10 non-null     int64 \n",
      "dtypes: int64(2), object(2)\n",
      "memory usage: 452.0+ bytes\n",
      "None\n"
     ]
    }
   ],
   "source": [
    "print(data.info())"
   ]
  },
  {
   "cell_type": "markdown",
   "metadata": {},
   "source": [
    "Example 06\n",
    "Convert the data frame in a variable to CSV file"
   ]
  },
  {
   "cell_type": "code",
   "execution_count": 52,
   "metadata": {},
   "outputs": [],
   "source": [
    "data.to_csv('student.csv')"
   ]
  },
  {
   "cell_type": "markdown",
   "metadata": {},
   "source": [
    "Example 07\n",
    "Remove the indexes from the csv file"
   ]
  },
  {
   "cell_type": "code",
   "execution_count": 53,
   "metadata": {},
   "outputs": [],
   "source": [
    "data.to_csv('Without_index.csv', index=False)"
   ]
  },
  {
   "cell_type": "markdown",
   "metadata": {},
   "source": [
    "Example 08\n",
    "Read from csv file"
   ]
  },
  {
   "cell_type": "code",
   "execution_count": 54,
   "metadata": {},
   "outputs": [
    {
     "data": {
      "text/html": [
       "<div>\n",
       "<style scoped>\n",
       "    .dataframe tbody tr th:only-of-type {\n",
       "        vertical-align: middle;\n",
       "    }\n",
       "\n",
       "    .dataframe tbody tr th {\n",
       "        vertical-align: top;\n",
       "    }\n",
       "\n",
       "    .dataframe thead th {\n",
       "        text-align: right;\n",
       "    }\n",
       "</style>\n",
       "<table border=\"1\" class=\"dataframe\">\n",
       "  <thead>\n",
       "    <tr style=\"text-align: right;\">\n",
       "      <th></th>\n",
       "      <th>Unnamed: 0</th>\n",
       "      <th>Name</th>\n",
       "      <th>ID</th>\n",
       "      <th>Rol1_no</th>\n",
       "      <th>Semester</th>\n",
       "    </tr>\n",
       "  </thead>\n",
       "  <tbody>\n",
       "    <tr>\n",
       "      <th>0</th>\n",
       "      <td>0</td>\n",
       "      <td>Aqsa</td>\n",
       "      <td>SID-1</td>\n",
       "      <td>1</td>\n",
       "      <td>7</td>\n",
       "    </tr>\n",
       "    <tr>\n",
       "      <th>1</th>\n",
       "      <td>1</td>\n",
       "      <td>Esha</td>\n",
       "      <td>SID-2</td>\n",
       "      <td>2</td>\n",
       "      <td>7</td>\n",
       "    </tr>\n",
       "    <tr>\n",
       "      <th>2</th>\n",
       "      <td>2</td>\n",
       "      <td>Ayesha</td>\n",
       "      <td>SID-3</td>\n",
       "      <td>3</td>\n",
       "      <td>7</td>\n",
       "    </tr>\n",
       "    <tr>\n",
       "      <th>3</th>\n",
       "      <td>3</td>\n",
       "      <td>Ayra</td>\n",
       "      <td>SID-4</td>\n",
       "      <td>4</td>\n",
       "      <td>7</td>\n",
       "    </tr>\n",
       "    <tr>\n",
       "      <th>4</th>\n",
       "      <td>4</td>\n",
       "      <td>Arfa</td>\n",
       "      <td>SID-5</td>\n",
       "      <td>5</td>\n",
       "      <td>6</td>\n",
       "    </tr>\n",
       "    <tr>\n",
       "      <th>5</th>\n",
       "      <td>5</td>\n",
       "      <td>Afsa</td>\n",
       "      <td>SID-6</td>\n",
       "      <td>6</td>\n",
       "      <td>6</td>\n",
       "    </tr>\n",
       "    <tr>\n",
       "      <th>6</th>\n",
       "      <td>6</td>\n",
       "      <td>Abdul</td>\n",
       "      <td>SID-7</td>\n",
       "      <td>7</td>\n",
       "      <td>6</td>\n",
       "    </tr>\n",
       "    <tr>\n",
       "      <th>7</th>\n",
       "      <td>7</td>\n",
       "      <td>Saadia</td>\n",
       "      <td>SID-8</td>\n",
       "      <td>8</td>\n",
       "      <td>5</td>\n",
       "    </tr>\n",
       "    <tr>\n",
       "      <th>8</th>\n",
       "      <td>8</td>\n",
       "      <td>Abu Bakar</td>\n",
       "      <td>SID-9</td>\n",
       "      <td>9</td>\n",
       "      <td>8</td>\n",
       "    </tr>\n",
       "    <tr>\n",
       "      <th>9</th>\n",
       "      <td>9</td>\n",
       "      <td>Atif</td>\n",
       "      <td>SID-10</td>\n",
       "      <td>10</td>\n",
       "      <td>8</td>\n",
       "    </tr>\n",
       "  </tbody>\n",
       "</table>\n",
       "</div>"
      ],
      "text/plain": [
       "   Unnamed: 0       Name      ID  Rol1_no  Semester\n",
       "0           0       Aqsa   SID-1        1         7\n",
       "1           1       Esha   SID-2        2         7\n",
       "2           2     Ayesha   SID-3        3         7\n",
       "3           3       Ayra   SID-4        4         7\n",
       "4           4       Arfa   SID-5        5         6\n",
       "5           5       Afsa   SID-6        6         6\n",
       "6           6      Abdul   SID-7        7         6\n",
       "7           7     Saadia   SID-8        8         5\n",
       "8           8  Abu Bakar   SID-9        9         8\n",
       "9           9       Atif  SID-10       10         8"
      ]
     },
     "execution_count": 54,
     "metadata": {},
     "output_type": "execute_result"
    }
   ],
   "source": [
    "df = pd.read_csv('student.csv')\n",
    "df"
   ]
  },
  {
   "cell_type": "markdown",
   "metadata": {},
   "source": [
    "Example 09\n",
    "Use describe,head,tail and info function for CSV file"
   ]
  },
  {
   "cell_type": "code",
   "execution_count": 55,
   "metadata": {},
   "outputs": [
    {
     "name": "stdout",
     "output_type": "stream",
     "text": [
      "Describe Function \n",
      "        Unnamed: 0   Rol1_no   Semester\n",
      "count    10.00000  10.00000  10.000000\n",
      "mean      4.50000   5.50000   6.700000\n",
      "std       3.02765   3.02765   0.948683\n",
      "min       0.00000   1.00000   5.000000\n",
      "25%       2.25000   3.25000   6.000000\n",
      "50%       4.50000   5.50000   7.000000\n",
      "75%       6.75000   7.75000   7.000000\n",
      "max       9.00000  10.00000   8.000000, \n",
      " head Function \n",
      "    Unnamed: 0    Name     ID  Rol1_no  Semester\n",
      "0           0    Aqsa  SID-1        1         7\n",
      "1           1    Esha  SID-2        2         7\n",
      "2           2  Ayesha  SID-3        3         7\n",
      "3           3    Ayra  SID-4        4         7\n",
      "4           4    Arfa  SID-5        5         6 \n",
      " tail Function \n",
      "    Unnamed: 0       Name      ID  Rol1_no  Semester\n",
      "5           5       Afsa   SID-6        6         6\n",
      "6           6      Abdul   SID-7        7         6\n",
      "7           7     Saadia   SID-8        8         5\n",
      "8           8  Abu Bakar   SID-9        9         8\n",
      "9           9       Atif  SID-10       10         8\n",
      "<class 'pandas.core.frame.DataFrame'>\n",
      "RangeIndex: 10 entries, 0 to 9\n",
      "Data columns (total 5 columns):\n",
      " #   Column      Non-Null Count  Dtype \n",
      "---  ------      --------------  ----- \n",
      " 0   Unnamed: 0  10 non-null     int64 \n",
      " 1   Name        10 non-null     object\n",
      " 2   ID          10 non-null     object\n",
      " 3   Rol1_no     10 non-null     int64 \n",
      " 4   Semester    10 non-null     int64 \n",
      "dtypes: int64(3), object(2)\n",
      "memory usage: 532.0+ bytes\n",
      "\n",
      " info Function \n",
      " None\n"
     ]
    }
   ],
   "source": [
    "import pandas as pd\n",
    "df = pd.read_csv('student.csv')\n",
    "\n",
    "print(f\"Describe Function \\n {df.describe()}, \\n head Function \\n {df.head()} \\n tail Function \\n {df.tail()}\")\n",
    "print(f\"\\n info Function \\n {df.info()}\")"
   ]
  },
  {
   "cell_type": "markdown",
   "metadata": {},
   "source": [
    "Example 10\n",
    "Access a column by its name"
   ]
  },
  {
   "cell_type": "code",
   "execution_count": 56,
   "metadata": {},
   "outputs": [
    {
     "data": {
      "text/plain": [
       "0         Aqsa\n",
       "1         Esha\n",
       "2       Ayesha\n",
       "3         Ayra\n",
       "4         Arfa\n",
       "5         Afsa\n",
       "6        Abdul\n",
       "7       Saadia\n",
       "8    Abu Bakar\n",
       "9         Atif\n",
       "Name: Name, dtype: object"
      ]
     },
     "execution_count": 56,
     "metadata": {},
     "output_type": "execute_result"
    }
   ],
   "source": [
    "import pandas as pd\n",
    "\n",
    "df['Name']"
   ]
  },
  {
   "cell_type": "markdown",
   "metadata": {},
   "source": [
    "Example 11\n",
    "Access the 1st element of a column"
   ]
  },
  {
   "cell_type": "code",
   "execution_count": 57,
   "metadata": {},
   "outputs": [
    {
     "data": {
      "text/plain": [
       "'Abu Bakar'"
      ]
     },
     "execution_count": 57,
     "metadata": {},
     "output_type": "execute_result"
    }
   ],
   "source": [
    "df['Name'][8]"
   ]
  },
  {
   "cell_type": "markdown",
   "metadata": {},
   "source": [
    "Example 12\n",
    "Update the value in the column"
   ]
  },
  {
   "cell_type": "code",
   "execution_count": 58,
   "metadata": {},
   "outputs": [
    {
     "name": "stderr",
     "output_type": "stream",
     "text": [
      "C:\\Users\\Falcon\\AppData\\Local\\Temp\\ipykernel_6952\\2832195598.py:1: SettingWithCopyWarning: \n",
      "A value is trying to be set on a copy of a slice from a DataFrame\n",
      "\n",
      "See the caveats in the documentation: https://pandas.pydata.org/pandas-docs/stable/user_guide/indexing.html#returning-a-view-versus-a-copy\n",
      "  df['Name'][0] = 'Saddam'\n"
     ]
    },
    {
     "data": {
      "text/html": [
       "<div>\n",
       "<style scoped>\n",
       "    .dataframe tbody tr th:only-of-type {\n",
       "        vertical-align: middle;\n",
       "    }\n",
       "\n",
       "    .dataframe tbody tr th {\n",
       "        vertical-align: top;\n",
       "    }\n",
       "\n",
       "    .dataframe thead th {\n",
       "        text-align: right;\n",
       "    }\n",
       "</style>\n",
       "<table border=\"1\" class=\"dataframe\">\n",
       "  <thead>\n",
       "    <tr style=\"text-align: right;\">\n",
       "      <th></th>\n",
       "      <th>Unnamed: 0</th>\n",
       "      <th>Name</th>\n",
       "      <th>ID</th>\n",
       "      <th>Rol1_no</th>\n",
       "      <th>Semester</th>\n",
       "    </tr>\n",
       "  </thead>\n",
       "  <tbody>\n",
       "    <tr>\n",
       "      <th>0</th>\n",
       "      <td>0</td>\n",
       "      <td>Saddam</td>\n",
       "      <td>SID-1</td>\n",
       "      <td>1</td>\n",
       "      <td>7</td>\n",
       "    </tr>\n",
       "    <tr>\n",
       "      <th>1</th>\n",
       "      <td>1</td>\n",
       "      <td>Esha</td>\n",
       "      <td>SID-2</td>\n",
       "      <td>2</td>\n",
       "      <td>7</td>\n",
       "    </tr>\n",
       "    <tr>\n",
       "      <th>2</th>\n",
       "      <td>2</td>\n",
       "      <td>Ayesha</td>\n",
       "      <td>SID-3</td>\n",
       "      <td>3</td>\n",
       "      <td>7</td>\n",
       "    </tr>\n",
       "    <tr>\n",
       "      <th>3</th>\n",
       "      <td>3</td>\n",
       "      <td>Ayra</td>\n",
       "      <td>SID-4</td>\n",
       "      <td>4</td>\n",
       "      <td>7</td>\n",
       "    </tr>\n",
       "    <tr>\n",
       "      <th>4</th>\n",
       "      <td>4</td>\n",
       "      <td>Arfa</td>\n",
       "      <td>SID-5</td>\n",
       "      <td>5</td>\n",
       "      <td>6</td>\n",
       "    </tr>\n",
       "    <tr>\n",
       "      <th>5</th>\n",
       "      <td>5</td>\n",
       "      <td>Afsa</td>\n",
       "      <td>SID-6</td>\n",
       "      <td>6</td>\n",
       "      <td>6</td>\n",
       "    </tr>\n",
       "    <tr>\n",
       "      <th>6</th>\n",
       "      <td>6</td>\n",
       "      <td>Abdul</td>\n",
       "      <td>SID-7</td>\n",
       "      <td>7</td>\n",
       "      <td>6</td>\n",
       "    </tr>\n",
       "    <tr>\n",
       "      <th>7</th>\n",
       "      <td>7</td>\n",
       "      <td>Saadia</td>\n",
       "      <td>SID-8</td>\n",
       "      <td>8</td>\n",
       "      <td>5</td>\n",
       "    </tr>\n",
       "    <tr>\n",
       "      <th>8</th>\n",
       "      <td>8</td>\n",
       "      <td>Abu Bakar</td>\n",
       "      <td>SID-9</td>\n",
       "      <td>9</td>\n",
       "      <td>8</td>\n",
       "    </tr>\n",
       "    <tr>\n",
       "      <th>9</th>\n",
       "      <td>9</td>\n",
       "      <td>Atif</td>\n",
       "      <td>SID-10</td>\n",
       "      <td>10</td>\n",
       "      <td>8</td>\n",
       "    </tr>\n",
       "  </tbody>\n",
       "</table>\n",
       "</div>"
      ],
      "text/plain": [
       "   Unnamed: 0       Name      ID  Rol1_no  Semester\n",
       "0           0     Saddam   SID-1        1         7\n",
       "1           1       Esha   SID-2        2         7\n",
       "2           2     Ayesha   SID-3        3         7\n",
       "3           3       Ayra   SID-4        4         7\n",
       "4           4       Arfa   SID-5        5         6\n",
       "5           5       Afsa   SID-6        6         6\n",
       "6           6      Abdul   SID-7        7         6\n",
       "7           7     Saadia   SID-8        8         5\n",
       "8           8  Abu Bakar   SID-9        9         8\n",
       "9           9       Atif  SID-10       10         8"
      ]
     },
     "execution_count": 58,
     "metadata": {},
     "output_type": "execute_result"
    }
   ],
   "source": [
    "df['Name'][0] = 'Saddam'\n",
    "df"
   ]
  },
  {
   "cell_type": "markdown",
   "metadata": {},
   "source": [
    "Example 13\n",
    "Find the columns and indexes in a data frame"
   ]
  },
  {
   "cell_type": "code",
   "execution_count": 59,
   "metadata": {},
   "outputs": [
    {
     "data": {
      "text/plain": [
       "Index(['Unnamed: 0', 'Name', 'ID', 'Rol1_no', 'Semester'], dtype='object')"
      ]
     },
     "execution_count": 59,
     "metadata": {},
     "output_type": "execute_result"
    }
   ],
   "source": [
    "df.columns"
   ]
  },
  {
   "cell_type": "code",
   "execution_count": 60,
   "metadata": {},
   "outputs": [
    {
     "data": {
      "text/plain": [
       "RangeIndex(start=0, stop=10, step=1)"
      ]
     },
     "execution_count": 60,
     "metadata": {},
     "output_type": "execute_result"
    }
   ],
   "source": [
    "df.index"
   ]
  },
  {
   "cell_type": "markdown",
   "metadata": {},
   "source": [
    "Example 14\n",
    "Create a series of 50 random numbers and check their data type and shape"
   ]
  },
  {
   "cell_type": "code",
   "execution_count": 61,
   "metadata": {},
   "outputs": [
    {
     "name": "stdout",
     "output_type": "stream",
     "text": [
      "0     0.145202\n",
      "1     0.534662\n",
      "2     0.741749\n",
      "3     0.940588\n",
      "4     0.702558\n",
      "5     0.125774\n",
      "6     0.524639\n",
      "7     0.764519\n",
      "8     0.907276\n",
      "9     0.780484\n",
      "10    0.779356\n",
      "11    0.500806\n",
      "12    0.257662\n",
      "13    0.487086\n",
      "14    0.771487\n",
      "15    0.927485\n",
      "16    0.975931\n",
      "17    0.629163\n",
      "18    0.823954\n",
      "19    0.911563\n",
      "20    0.377728\n",
      "21    0.927874\n",
      "22    0.175054\n",
      "23    0.974362\n",
      "24    0.700084\n",
      "25    0.121093\n",
      "26    0.320667\n",
      "27    0.151981\n",
      "28    0.603715\n",
      "29    0.319800\n",
      "30    0.117367\n",
      "31    0.069075\n",
      "32    0.373452\n",
      "33    0.427675\n",
      "34    0.113790\n",
      "35    0.909568\n",
      "36    0.720016\n",
      "37    0.588684\n",
      "38    0.918580\n",
      "39    0.201261\n",
      "40    0.012589\n",
      "41    0.560085\n",
      "42    0.769863\n",
      "43    0.025271\n",
      "44    0.859015\n",
      "45    0.481779\n",
      "46    0.173947\n",
      "47    0.271523\n",
      "48    0.472256\n",
      "49    0.009996\n",
      "dtype: float64\n",
      "Using dtype: float64\n",
      "Using type: <class 'pandas.core.series.Series'>\n",
      "Using Shape: (50,)\n"
     ]
    }
   ],
   "source": [
    "import pandas as pd\n",
    "import numpy as np\n",
    "\n",
    "s = pd.Series(np.random.rand(50))\n",
    "print(s)\n",
    "print(f\"Using dtype: {s.dtype}\")\n",
    "print(f\"Using type: {type(s)}\")\n",
    "print(f\"Using Shape: {s.shape}\")"
   ]
  },
  {
   "cell_type": "markdown",
   "metadata": {},
   "source": [
    "Example 15\n",
    "Create a 50 x 5 data set from random values"
   ]
  },
  {
   "cell_type": "code",
   "execution_count": 62,
   "metadata": {},
   "outputs": [
    {
     "name": "stdout",
     "output_type": "stream",
     "text": [
      "0     0.145202\n",
      "1     0.534662\n",
      "2     0.741749\n",
      "3     0.940588\n",
      "4     0.702558\n",
      "5     0.125774\n",
      "6     0.524639\n",
      "7     0.764519\n",
      "8     0.907276\n",
      "9     0.780484\n",
      "10    0.779356\n",
      "11    0.500806\n",
      "12    0.257662\n",
      "13    0.487086\n",
      "14    0.771487\n",
      "15    0.927485\n",
      "16    0.975931\n",
      "17    0.629163\n",
      "18    0.823954\n",
      "19    0.911563\n",
      "20    0.377728\n",
      "21    0.927874\n",
      "22    0.175054\n",
      "23    0.974362\n",
      "24    0.700084\n",
      "25    0.121093\n",
      "26    0.320667\n",
      "27    0.151981\n",
      "28    0.603715\n",
      "29    0.319800\n",
      "30    0.117367\n",
      "31    0.069075\n",
      "32    0.373452\n",
      "33    0.427675\n",
      "34    0.113790\n",
      "35    0.909568\n",
      "36    0.720016\n",
      "37    0.588684\n",
      "38    0.918580\n",
      "39    0.201261\n",
      "40    0.012589\n",
      "41    0.560085\n",
      "42    0.769863\n",
      "43    0.025271\n",
      "44    0.859015\n",
      "45    0.481779\n",
      "46    0.173947\n",
      "47    0.271523\n",
      "48    0.472256\n",
      "49    0.009996\n",
      "dtype: float64\n"
     ]
    }
   ],
   "source": [
    "import pandas as pd\n",
    "import numpy as np\n",
    "\n",
    "dataf = pd.DataFrame(np.random.rand(50,5))\n",
    "print(s)"
   ]
  },
  {
   "cell_type": "markdown",
   "metadata": {},
   "source": [
    "Example 16\n",
    "Find the minimum maximum and mean values column wise in a dataset"
   ]
  },
  {
   "cell_type": "code",
   "execution_count": 63,
   "metadata": {},
   "outputs": [
    {
     "data": {
      "text/plain": [
       "0    0.007086\n",
       "1    0.026261\n",
       "2    0.001513\n",
       "3    0.026857\n",
       "4    0.016388\n",
       "dtype: float64"
      ]
     },
     "execution_count": 63,
     "metadata": {},
     "output_type": "execute_result"
    }
   ],
   "source": [
    "dataf.min()"
   ]
  },
  {
   "cell_type": "code",
   "execution_count": 64,
   "metadata": {},
   "outputs": [
    {
     "data": {
      "text/plain": [
       "0    0.951014\n",
       "1    0.957882\n",
       "2    0.942145\n",
       "3    0.998660\n",
       "4    0.989068\n",
       "dtype: float64"
      ]
     },
     "execution_count": 64,
     "metadata": {},
     "output_type": "execute_result"
    }
   ],
   "source": [
    "dataf.max()"
   ]
  },
  {
   "cell_type": "code",
   "execution_count": 65,
   "metadata": {},
   "outputs": [
    {
     "data": {
      "text/plain": [
       "0    0.465671\n",
       "1    0.456569\n",
       "2    0.421697\n",
       "3    0.483558\n",
       "4    0.467064\n",
       "dtype: float64"
      ]
     },
     "execution_count": 65,
     "metadata": {},
     "output_type": "execute_result"
    }
   ],
   "source": [
    "dataf.mean()"
   ]
  },
  {
   "cell_type": "markdown",
   "metadata": {},
   "source": [
    "Example 17\n",
    "Find the maximum value in 1st column"
   ]
  },
  {
   "cell_type": "code",
   "execution_count": 66,
   "metadata": {},
   "outputs": [
    {
     "data": {
      "text/plain": [
       "0.9510141835241709"
      ]
     },
     "execution_count": 66,
     "metadata": {},
     "output_type": "execute_result"
    }
   ],
   "source": [
    "dataf[0].max()"
   ]
  },
  {
   "cell_type": "markdown",
   "metadata": {},
   "source": [
    "Example 18\n",
    "Convert the dataset into numpy array and also take transpose of it"
   ]
  },
  {
   "cell_type": "code",
   "execution_count": 67,
   "metadata": {},
   "outputs": [
    {
     "data": {
      "text/plain": [
       "array([[0.81800156, 0.69912332, 0.92050335, 0.36977564, 0.89211492],\n",
       "       [0.74694264, 0.8126709 , 0.28531898, 0.52826528, 0.43001568],\n",
       "       [0.19282411, 0.17201277, 0.11814032, 0.77631757, 0.6097806 ],\n",
       "       [0.50123085, 0.95788219, 0.20960535, 0.59528145, 0.02901539],\n",
       "       [0.72615245, 0.06424098, 0.58470371, 0.4077009 , 0.8506021 ],\n",
       "       [0.06774963, 0.30263532, 0.37451239, 0.52556451, 0.27990389],\n",
       "       [0.57619813, 0.671159  , 0.82340189, 0.91809502, 0.98906819],\n",
       "       [0.10349276, 0.13058516, 0.03075786, 0.7673907 , 0.02678578],\n",
       "       [0.67102865, 0.30594025, 0.28270142, 0.31635002, 0.69697101],\n",
       "       [0.95101418, 0.67923939, 0.8465084 , 0.99865967, 0.06836426],\n",
       "       [0.59946978, 0.50903266, 0.8673587 , 0.07870138, 0.72227662],\n",
       "       [0.43570644, 0.86648114, 0.77064959, 0.50190638, 0.59935719],\n",
       "       [0.19431767, 0.33445761, 0.01452628, 0.26073319, 0.77728355],\n",
       "       [0.66970924, 0.66501526, 0.80907623, 0.34761996, 0.67867881],\n",
       "       [0.18037832, 0.15006953, 0.03545436, 0.57721446, 0.04863471],\n",
       "       [0.08685797, 0.31377045, 0.19154818, 0.49756929, 0.89814456],\n",
       "       [0.11299151, 0.15314305, 0.46261696, 0.71575654, 0.69350094],\n",
       "       [0.63449355, 0.3994742 , 0.14740068, 0.02882023, 0.10386001],\n",
       "       [0.68073509, 0.55874066, 0.24505871, 0.98246422, 0.59958276],\n",
       "       [0.10566315, 0.77487853, 0.85757252, 0.86782849, 0.77655113],\n",
       "       [0.4985468 , 0.04816482, 0.04899402, 0.54065651, 0.82241182],\n",
       "       [0.81639725, 0.40550348, 0.03573331, 0.60615679, 0.33095124],\n",
       "       [0.94411487, 0.81386241, 0.36921181, 0.10882449, 0.34717876],\n",
       "       [0.20447347, 0.02626056, 0.65854862, 0.10642769, 0.62785798],\n",
       "       [0.4363815 , 0.49055904, 0.00151341, 0.36858459, 0.35183703],\n",
       "       [0.38044229, 0.29513477, 0.61211931, 0.92518258, 0.95120441],\n",
       "       [0.55870586, 0.4537389 , 0.20912379, 0.27115465, 0.1868687 ],\n",
       "       [0.72663449, 0.53176879, 0.59093316, 0.62996415, 0.38930084],\n",
       "       [0.57197626, 0.45422995, 0.75502348, 0.60768838, 0.29920254],\n",
       "       [0.22045933, 0.144078  , 0.71754067, 0.80538638, 0.04109224],\n",
       "       [0.52145851, 0.34360905, 0.27997402, 0.21120434, 0.32520873],\n",
       "       [0.87601895, 0.8127101 , 0.14554482, 0.93929581, 0.04658173],\n",
       "       [0.0200121 , 0.3492097 , 0.13660845, 0.81574505, 0.59136578],\n",
       "       [0.83909097, 0.58918087, 0.79485511, 0.90056235, 0.16812414],\n",
       "       [0.4484107 , 0.42764047, 0.0808953 , 0.42138381, 0.45955717],\n",
       "       [0.14693213, 0.57491346, 0.34717977, 0.41986814, 0.55971428],\n",
       "       [0.52737705, 0.63598116, 0.52649244, 0.0775551 , 0.79491285],\n",
       "       [0.59416786, 0.36190463, 0.19350308, 0.05455799, 0.75359838],\n",
       "       [0.02829982, 0.45138456, 0.12886378, 0.31943049, 0.29972298],\n",
       "       [0.73152434, 0.2475908 , 0.94214489, 0.12081282, 0.91491346],\n",
       "       [0.15814559, 0.777563  , 0.3503839 , 0.27026389, 0.17142039],\n",
       "       [0.43482893, 0.6565783 , 0.9081054 , 0.52300539, 0.01638761],\n",
       "       [0.03905682, 0.0383573 , 0.25230867, 0.02685714, 0.0318168 ],\n",
       "       [0.65178111, 0.87728474, 0.4650849 , 0.5859836 , 0.54307484],\n",
       "       [0.71855285, 0.89382332, 0.91027705, 0.4033279 , 0.39286793],\n",
       "       [0.52100455, 0.34751345, 0.54591251, 0.8497092 , 0.31126664],\n",
       "       [0.86991469, 0.11778735, 0.65651015, 0.23096171, 0.27415629],\n",
       "       [0.7222734 , 0.27963102, 0.05717662, 0.17739786, 0.51686661],\n",
       "       [0.01453424, 0.78863946, 0.00320828, 0.0436443 , 0.15493464],\n",
       "       [0.00708563, 0.07328581, 0.4836743 , 0.75429741, 0.90829987]])"
      ]
     },
     "execution_count": 67,
     "metadata": {},
     "output_type": "execute_result"
    }
   ],
   "source": [
    "d1 = dataf.to_numpy()\n",
    "d1"
   ]
  },
  {
   "cell_type": "code",
   "execution_count": 68,
   "metadata": {},
   "outputs": [
    {
     "data": {
      "text/plain": [
       "array([[0.81800156, 0.74694264, 0.19282411, 0.50123085, 0.72615245,\n",
       "        0.06774963, 0.57619813, 0.10349276, 0.67102865, 0.95101418,\n",
       "        0.59946978, 0.43570644, 0.19431767, 0.66970924, 0.18037832,\n",
       "        0.08685797, 0.11299151, 0.63449355, 0.68073509, 0.10566315,\n",
       "        0.4985468 , 0.81639725, 0.94411487, 0.20447347, 0.4363815 ,\n",
       "        0.38044229, 0.55870586, 0.72663449, 0.57197626, 0.22045933,\n",
       "        0.52145851, 0.87601895, 0.0200121 , 0.83909097, 0.4484107 ,\n",
       "        0.14693213, 0.52737705, 0.59416786, 0.02829982, 0.73152434,\n",
       "        0.15814559, 0.43482893, 0.03905682, 0.65178111, 0.71855285,\n",
       "        0.52100455, 0.86991469, 0.7222734 , 0.01453424, 0.00708563],\n",
       "       [0.69912332, 0.8126709 , 0.17201277, 0.95788219, 0.06424098,\n",
       "        0.30263532, 0.671159  , 0.13058516, 0.30594025, 0.67923939,\n",
       "        0.50903266, 0.86648114, 0.33445761, 0.66501526, 0.15006953,\n",
       "        0.31377045, 0.15314305, 0.3994742 , 0.55874066, 0.77487853,\n",
       "        0.04816482, 0.40550348, 0.81386241, 0.02626056, 0.49055904,\n",
       "        0.29513477, 0.4537389 , 0.53176879, 0.45422995, 0.144078  ,\n",
       "        0.34360905, 0.8127101 , 0.3492097 , 0.58918087, 0.42764047,\n",
       "        0.57491346, 0.63598116, 0.36190463, 0.45138456, 0.2475908 ,\n",
       "        0.777563  , 0.6565783 , 0.0383573 , 0.87728474, 0.89382332,\n",
       "        0.34751345, 0.11778735, 0.27963102, 0.78863946, 0.07328581],\n",
       "       [0.92050335, 0.28531898, 0.11814032, 0.20960535, 0.58470371,\n",
       "        0.37451239, 0.82340189, 0.03075786, 0.28270142, 0.8465084 ,\n",
       "        0.8673587 , 0.77064959, 0.01452628, 0.80907623, 0.03545436,\n",
       "        0.19154818, 0.46261696, 0.14740068, 0.24505871, 0.85757252,\n",
       "        0.04899402, 0.03573331, 0.36921181, 0.65854862, 0.00151341,\n",
       "        0.61211931, 0.20912379, 0.59093316, 0.75502348, 0.71754067,\n",
       "        0.27997402, 0.14554482, 0.13660845, 0.79485511, 0.0808953 ,\n",
       "        0.34717977, 0.52649244, 0.19350308, 0.12886378, 0.94214489,\n",
       "        0.3503839 , 0.9081054 , 0.25230867, 0.4650849 , 0.91027705,\n",
       "        0.54591251, 0.65651015, 0.05717662, 0.00320828, 0.4836743 ],\n",
       "       [0.36977564, 0.52826528, 0.77631757, 0.59528145, 0.4077009 ,\n",
       "        0.52556451, 0.91809502, 0.7673907 , 0.31635002, 0.99865967,\n",
       "        0.07870138, 0.50190638, 0.26073319, 0.34761996, 0.57721446,\n",
       "        0.49756929, 0.71575654, 0.02882023, 0.98246422, 0.86782849,\n",
       "        0.54065651, 0.60615679, 0.10882449, 0.10642769, 0.36858459,\n",
       "        0.92518258, 0.27115465, 0.62996415, 0.60768838, 0.80538638,\n",
       "        0.21120434, 0.93929581, 0.81574505, 0.90056235, 0.42138381,\n",
       "        0.41986814, 0.0775551 , 0.05455799, 0.31943049, 0.12081282,\n",
       "        0.27026389, 0.52300539, 0.02685714, 0.5859836 , 0.4033279 ,\n",
       "        0.8497092 , 0.23096171, 0.17739786, 0.0436443 , 0.75429741],\n",
       "       [0.89211492, 0.43001568, 0.6097806 , 0.02901539, 0.8506021 ,\n",
       "        0.27990389, 0.98906819, 0.02678578, 0.69697101, 0.06836426,\n",
       "        0.72227662, 0.59935719, 0.77728355, 0.67867881, 0.04863471,\n",
       "        0.89814456, 0.69350094, 0.10386001, 0.59958276, 0.77655113,\n",
       "        0.82241182, 0.33095124, 0.34717876, 0.62785798, 0.35183703,\n",
       "        0.95120441, 0.1868687 , 0.38930084, 0.29920254, 0.04109224,\n",
       "        0.32520873, 0.04658173, 0.59136578, 0.16812414, 0.45955717,\n",
       "        0.55971428, 0.79491285, 0.75359838, 0.29972298, 0.91491346,\n",
       "        0.17142039, 0.01638761, 0.0318168 , 0.54307484, 0.39286793,\n",
       "        0.31126664, 0.27415629, 0.51686661, 0.15493464, 0.90829987]])"
      ]
     },
     "execution_count": 68,
     "metadata": {},
     "output_type": "execute_result"
    }
   ],
   "source": [
    "d1.T"
   ]
  },
  {
   "cell_type": "markdown",
   "metadata": {},
   "source": [
    "Example 19\n",
    "Change names of the columns."
   ]
  },
  {
   "cell_type": "code",
   "execution_count": 69,
   "metadata": {},
   "outputs": [
    {
     "data": {
      "text/html": [
       "<div>\n",
       "<style scoped>\n",
       "    .dataframe tbody tr th:only-of-type {\n",
       "        vertical-align: middle;\n",
       "    }\n",
       "\n",
       "    .dataframe tbody tr th {\n",
       "        vertical-align: top;\n",
       "    }\n",
       "\n",
       "    .dataframe thead th {\n",
       "        text-align: right;\n",
       "    }\n",
       "</style>\n",
       "<table border=\"1\" class=\"dataframe\">\n",
       "  <thead>\n",
       "    <tr style=\"text-align: right;\">\n",
       "      <th></th>\n",
       "      <th>A</th>\n",
       "      <th>B</th>\n",
       "      <th>C</th>\n",
       "      <th>D</th>\n",
       "      <th>E</th>\n",
       "    </tr>\n",
       "  </thead>\n",
       "  <tbody>\n",
       "    <tr>\n",
       "      <th>0</th>\n",
       "      <td>0.818002</td>\n",
       "      <td>0.699123</td>\n",
       "      <td>0.920503</td>\n",
       "      <td>0.369776</td>\n",
       "      <td>0.892115</td>\n",
       "    </tr>\n",
       "    <tr>\n",
       "      <th>1</th>\n",
       "      <td>0.746943</td>\n",
       "      <td>0.812671</td>\n",
       "      <td>0.285319</td>\n",
       "      <td>0.528265</td>\n",
       "      <td>0.430016</td>\n",
       "    </tr>\n",
       "    <tr>\n",
       "      <th>2</th>\n",
       "      <td>0.192824</td>\n",
       "      <td>0.172013</td>\n",
       "      <td>0.118140</td>\n",
       "      <td>0.776318</td>\n",
       "      <td>0.609781</td>\n",
       "    </tr>\n",
       "    <tr>\n",
       "      <th>3</th>\n",
       "      <td>0.501231</td>\n",
       "      <td>0.957882</td>\n",
       "      <td>0.209605</td>\n",
       "      <td>0.595281</td>\n",
       "      <td>0.029015</td>\n",
       "    </tr>\n",
       "    <tr>\n",
       "      <th>4</th>\n",
       "      <td>0.726152</td>\n",
       "      <td>0.064241</td>\n",
       "      <td>0.584704</td>\n",
       "      <td>0.407701</td>\n",
       "      <td>0.850602</td>\n",
       "    </tr>\n",
       "    <tr>\n",
       "      <th>5</th>\n",
       "      <td>0.067750</td>\n",
       "      <td>0.302635</td>\n",
       "      <td>0.374512</td>\n",
       "      <td>0.525565</td>\n",
       "      <td>0.279904</td>\n",
       "    </tr>\n",
       "    <tr>\n",
       "      <th>6</th>\n",
       "      <td>0.576198</td>\n",
       "      <td>0.671159</td>\n",
       "      <td>0.823402</td>\n",
       "      <td>0.918095</td>\n",
       "      <td>0.989068</td>\n",
       "    </tr>\n",
       "    <tr>\n",
       "      <th>7</th>\n",
       "      <td>0.103493</td>\n",
       "      <td>0.130585</td>\n",
       "      <td>0.030758</td>\n",
       "      <td>0.767391</td>\n",
       "      <td>0.026786</td>\n",
       "    </tr>\n",
       "    <tr>\n",
       "      <th>8</th>\n",
       "      <td>0.671029</td>\n",
       "      <td>0.305940</td>\n",
       "      <td>0.282701</td>\n",
       "      <td>0.316350</td>\n",
       "      <td>0.696971</td>\n",
       "    </tr>\n",
       "    <tr>\n",
       "      <th>9</th>\n",
       "      <td>0.951014</td>\n",
       "      <td>0.679239</td>\n",
       "      <td>0.846508</td>\n",
       "      <td>0.998660</td>\n",
       "      <td>0.068364</td>\n",
       "    </tr>\n",
       "    <tr>\n",
       "      <th>10</th>\n",
       "      <td>0.599470</td>\n",
       "      <td>0.509033</td>\n",
       "      <td>0.867359</td>\n",
       "      <td>0.078701</td>\n",
       "      <td>0.722277</td>\n",
       "    </tr>\n",
       "    <tr>\n",
       "      <th>11</th>\n",
       "      <td>0.435706</td>\n",
       "      <td>0.866481</td>\n",
       "      <td>0.770650</td>\n",
       "      <td>0.501906</td>\n",
       "      <td>0.599357</td>\n",
       "    </tr>\n",
       "    <tr>\n",
       "      <th>12</th>\n",
       "      <td>0.194318</td>\n",
       "      <td>0.334458</td>\n",
       "      <td>0.014526</td>\n",
       "      <td>0.260733</td>\n",
       "      <td>0.777284</td>\n",
       "    </tr>\n",
       "    <tr>\n",
       "      <th>13</th>\n",
       "      <td>0.669709</td>\n",
       "      <td>0.665015</td>\n",
       "      <td>0.809076</td>\n",
       "      <td>0.347620</td>\n",
       "      <td>0.678679</td>\n",
       "    </tr>\n",
       "    <tr>\n",
       "      <th>14</th>\n",
       "      <td>0.180378</td>\n",
       "      <td>0.150070</td>\n",
       "      <td>0.035454</td>\n",
       "      <td>0.577214</td>\n",
       "      <td>0.048635</td>\n",
       "    </tr>\n",
       "    <tr>\n",
       "      <th>15</th>\n",
       "      <td>0.086858</td>\n",
       "      <td>0.313770</td>\n",
       "      <td>0.191548</td>\n",
       "      <td>0.497569</td>\n",
       "      <td>0.898145</td>\n",
       "    </tr>\n",
       "    <tr>\n",
       "      <th>16</th>\n",
       "      <td>0.112992</td>\n",
       "      <td>0.153143</td>\n",
       "      <td>0.462617</td>\n",
       "      <td>0.715757</td>\n",
       "      <td>0.693501</td>\n",
       "    </tr>\n",
       "    <tr>\n",
       "      <th>17</th>\n",
       "      <td>0.634494</td>\n",
       "      <td>0.399474</td>\n",
       "      <td>0.147401</td>\n",
       "      <td>0.028820</td>\n",
       "      <td>0.103860</td>\n",
       "    </tr>\n",
       "    <tr>\n",
       "      <th>18</th>\n",
       "      <td>0.680735</td>\n",
       "      <td>0.558741</td>\n",
       "      <td>0.245059</td>\n",
       "      <td>0.982464</td>\n",
       "      <td>0.599583</td>\n",
       "    </tr>\n",
       "    <tr>\n",
       "      <th>19</th>\n",
       "      <td>0.105663</td>\n",
       "      <td>0.774879</td>\n",
       "      <td>0.857573</td>\n",
       "      <td>0.867828</td>\n",
       "      <td>0.776551</td>\n",
       "    </tr>\n",
       "    <tr>\n",
       "      <th>20</th>\n",
       "      <td>0.498547</td>\n",
       "      <td>0.048165</td>\n",
       "      <td>0.048994</td>\n",
       "      <td>0.540657</td>\n",
       "      <td>0.822412</td>\n",
       "    </tr>\n",
       "    <tr>\n",
       "      <th>21</th>\n",
       "      <td>0.816397</td>\n",
       "      <td>0.405503</td>\n",
       "      <td>0.035733</td>\n",
       "      <td>0.606157</td>\n",
       "      <td>0.330951</td>\n",
       "    </tr>\n",
       "    <tr>\n",
       "      <th>22</th>\n",
       "      <td>0.944115</td>\n",
       "      <td>0.813862</td>\n",
       "      <td>0.369212</td>\n",
       "      <td>0.108824</td>\n",
       "      <td>0.347179</td>\n",
       "    </tr>\n",
       "    <tr>\n",
       "      <th>23</th>\n",
       "      <td>0.204473</td>\n",
       "      <td>0.026261</td>\n",
       "      <td>0.658549</td>\n",
       "      <td>0.106428</td>\n",
       "      <td>0.627858</td>\n",
       "    </tr>\n",
       "    <tr>\n",
       "      <th>24</th>\n",
       "      <td>0.436382</td>\n",
       "      <td>0.490559</td>\n",
       "      <td>0.001513</td>\n",
       "      <td>0.368585</td>\n",
       "      <td>0.351837</td>\n",
       "    </tr>\n",
       "    <tr>\n",
       "      <th>25</th>\n",
       "      <td>0.380442</td>\n",
       "      <td>0.295135</td>\n",
       "      <td>0.612119</td>\n",
       "      <td>0.925183</td>\n",
       "      <td>0.951204</td>\n",
       "    </tr>\n",
       "    <tr>\n",
       "      <th>26</th>\n",
       "      <td>0.558706</td>\n",
       "      <td>0.453739</td>\n",
       "      <td>0.209124</td>\n",
       "      <td>0.271155</td>\n",
       "      <td>0.186869</td>\n",
       "    </tr>\n",
       "    <tr>\n",
       "      <th>27</th>\n",
       "      <td>0.726634</td>\n",
       "      <td>0.531769</td>\n",
       "      <td>0.590933</td>\n",
       "      <td>0.629964</td>\n",
       "      <td>0.389301</td>\n",
       "    </tr>\n",
       "    <tr>\n",
       "      <th>28</th>\n",
       "      <td>0.571976</td>\n",
       "      <td>0.454230</td>\n",
       "      <td>0.755023</td>\n",
       "      <td>0.607688</td>\n",
       "      <td>0.299203</td>\n",
       "    </tr>\n",
       "    <tr>\n",
       "      <th>29</th>\n",
       "      <td>0.220459</td>\n",
       "      <td>0.144078</td>\n",
       "      <td>0.717541</td>\n",
       "      <td>0.805386</td>\n",
       "      <td>0.041092</td>\n",
       "    </tr>\n",
       "    <tr>\n",
       "      <th>30</th>\n",
       "      <td>0.521459</td>\n",
       "      <td>0.343609</td>\n",
       "      <td>0.279974</td>\n",
       "      <td>0.211204</td>\n",
       "      <td>0.325209</td>\n",
       "    </tr>\n",
       "    <tr>\n",
       "      <th>31</th>\n",
       "      <td>0.876019</td>\n",
       "      <td>0.812710</td>\n",
       "      <td>0.145545</td>\n",
       "      <td>0.939296</td>\n",
       "      <td>0.046582</td>\n",
       "    </tr>\n",
       "    <tr>\n",
       "      <th>32</th>\n",
       "      <td>0.020012</td>\n",
       "      <td>0.349210</td>\n",
       "      <td>0.136608</td>\n",
       "      <td>0.815745</td>\n",
       "      <td>0.591366</td>\n",
       "    </tr>\n",
       "    <tr>\n",
       "      <th>33</th>\n",
       "      <td>0.839091</td>\n",
       "      <td>0.589181</td>\n",
       "      <td>0.794855</td>\n",
       "      <td>0.900562</td>\n",
       "      <td>0.168124</td>\n",
       "    </tr>\n",
       "    <tr>\n",
       "      <th>34</th>\n",
       "      <td>0.448411</td>\n",
       "      <td>0.427640</td>\n",
       "      <td>0.080895</td>\n",
       "      <td>0.421384</td>\n",
       "      <td>0.459557</td>\n",
       "    </tr>\n",
       "    <tr>\n",
       "      <th>35</th>\n",
       "      <td>0.146932</td>\n",
       "      <td>0.574913</td>\n",
       "      <td>0.347180</td>\n",
       "      <td>0.419868</td>\n",
       "      <td>0.559714</td>\n",
       "    </tr>\n",
       "    <tr>\n",
       "      <th>36</th>\n",
       "      <td>0.527377</td>\n",
       "      <td>0.635981</td>\n",
       "      <td>0.526492</td>\n",
       "      <td>0.077555</td>\n",
       "      <td>0.794913</td>\n",
       "    </tr>\n",
       "    <tr>\n",
       "      <th>37</th>\n",
       "      <td>0.594168</td>\n",
       "      <td>0.361905</td>\n",
       "      <td>0.193503</td>\n",
       "      <td>0.054558</td>\n",
       "      <td>0.753598</td>\n",
       "    </tr>\n",
       "    <tr>\n",
       "      <th>38</th>\n",
       "      <td>0.028300</td>\n",
       "      <td>0.451385</td>\n",
       "      <td>0.128864</td>\n",
       "      <td>0.319430</td>\n",
       "      <td>0.299723</td>\n",
       "    </tr>\n",
       "    <tr>\n",
       "      <th>39</th>\n",
       "      <td>0.731524</td>\n",
       "      <td>0.247591</td>\n",
       "      <td>0.942145</td>\n",
       "      <td>0.120813</td>\n",
       "      <td>0.914913</td>\n",
       "    </tr>\n",
       "    <tr>\n",
       "      <th>40</th>\n",
       "      <td>0.158146</td>\n",
       "      <td>0.777563</td>\n",
       "      <td>0.350384</td>\n",
       "      <td>0.270264</td>\n",
       "      <td>0.171420</td>\n",
       "    </tr>\n",
       "    <tr>\n",
       "      <th>41</th>\n",
       "      <td>0.434829</td>\n",
       "      <td>0.656578</td>\n",
       "      <td>0.908105</td>\n",
       "      <td>0.523005</td>\n",
       "      <td>0.016388</td>\n",
       "    </tr>\n",
       "    <tr>\n",
       "      <th>42</th>\n",
       "      <td>0.039057</td>\n",
       "      <td>0.038357</td>\n",
       "      <td>0.252309</td>\n",
       "      <td>0.026857</td>\n",
       "      <td>0.031817</td>\n",
       "    </tr>\n",
       "    <tr>\n",
       "      <th>43</th>\n",
       "      <td>0.651781</td>\n",
       "      <td>0.877285</td>\n",
       "      <td>0.465085</td>\n",
       "      <td>0.585984</td>\n",
       "      <td>0.543075</td>\n",
       "    </tr>\n",
       "    <tr>\n",
       "      <th>44</th>\n",
       "      <td>0.718553</td>\n",
       "      <td>0.893823</td>\n",
       "      <td>0.910277</td>\n",
       "      <td>0.403328</td>\n",
       "      <td>0.392868</td>\n",
       "    </tr>\n",
       "    <tr>\n",
       "      <th>45</th>\n",
       "      <td>0.521005</td>\n",
       "      <td>0.347513</td>\n",
       "      <td>0.545913</td>\n",
       "      <td>0.849709</td>\n",
       "      <td>0.311267</td>\n",
       "    </tr>\n",
       "    <tr>\n",
       "      <th>46</th>\n",
       "      <td>0.869915</td>\n",
       "      <td>0.117787</td>\n",
       "      <td>0.656510</td>\n",
       "      <td>0.230962</td>\n",
       "      <td>0.274156</td>\n",
       "    </tr>\n",
       "    <tr>\n",
       "      <th>47</th>\n",
       "      <td>0.722273</td>\n",
       "      <td>0.279631</td>\n",
       "      <td>0.057177</td>\n",
       "      <td>0.177398</td>\n",
       "      <td>0.516867</td>\n",
       "    </tr>\n",
       "    <tr>\n",
       "      <th>48</th>\n",
       "      <td>0.014534</td>\n",
       "      <td>0.788639</td>\n",
       "      <td>0.003208</td>\n",
       "      <td>0.043644</td>\n",
       "      <td>0.154935</td>\n",
       "    </tr>\n",
       "    <tr>\n",
       "      <th>49</th>\n",
       "      <td>0.007086</td>\n",
       "      <td>0.073286</td>\n",
       "      <td>0.483674</td>\n",
       "      <td>0.754297</td>\n",
       "      <td>0.908300</td>\n",
       "    </tr>\n",
       "  </tbody>\n",
       "</table>\n",
       "</div>"
      ],
      "text/plain": [
       "           A         B         C         D         E\n",
       "0   0.818002  0.699123  0.920503  0.369776  0.892115\n",
       "1   0.746943  0.812671  0.285319  0.528265  0.430016\n",
       "2   0.192824  0.172013  0.118140  0.776318  0.609781\n",
       "3   0.501231  0.957882  0.209605  0.595281  0.029015\n",
       "4   0.726152  0.064241  0.584704  0.407701  0.850602\n",
       "5   0.067750  0.302635  0.374512  0.525565  0.279904\n",
       "6   0.576198  0.671159  0.823402  0.918095  0.989068\n",
       "7   0.103493  0.130585  0.030758  0.767391  0.026786\n",
       "8   0.671029  0.305940  0.282701  0.316350  0.696971\n",
       "9   0.951014  0.679239  0.846508  0.998660  0.068364\n",
       "10  0.599470  0.509033  0.867359  0.078701  0.722277\n",
       "11  0.435706  0.866481  0.770650  0.501906  0.599357\n",
       "12  0.194318  0.334458  0.014526  0.260733  0.777284\n",
       "13  0.669709  0.665015  0.809076  0.347620  0.678679\n",
       "14  0.180378  0.150070  0.035454  0.577214  0.048635\n",
       "15  0.086858  0.313770  0.191548  0.497569  0.898145\n",
       "16  0.112992  0.153143  0.462617  0.715757  0.693501\n",
       "17  0.634494  0.399474  0.147401  0.028820  0.103860\n",
       "18  0.680735  0.558741  0.245059  0.982464  0.599583\n",
       "19  0.105663  0.774879  0.857573  0.867828  0.776551\n",
       "20  0.498547  0.048165  0.048994  0.540657  0.822412\n",
       "21  0.816397  0.405503  0.035733  0.606157  0.330951\n",
       "22  0.944115  0.813862  0.369212  0.108824  0.347179\n",
       "23  0.204473  0.026261  0.658549  0.106428  0.627858\n",
       "24  0.436382  0.490559  0.001513  0.368585  0.351837\n",
       "25  0.380442  0.295135  0.612119  0.925183  0.951204\n",
       "26  0.558706  0.453739  0.209124  0.271155  0.186869\n",
       "27  0.726634  0.531769  0.590933  0.629964  0.389301\n",
       "28  0.571976  0.454230  0.755023  0.607688  0.299203\n",
       "29  0.220459  0.144078  0.717541  0.805386  0.041092\n",
       "30  0.521459  0.343609  0.279974  0.211204  0.325209\n",
       "31  0.876019  0.812710  0.145545  0.939296  0.046582\n",
       "32  0.020012  0.349210  0.136608  0.815745  0.591366\n",
       "33  0.839091  0.589181  0.794855  0.900562  0.168124\n",
       "34  0.448411  0.427640  0.080895  0.421384  0.459557\n",
       "35  0.146932  0.574913  0.347180  0.419868  0.559714\n",
       "36  0.527377  0.635981  0.526492  0.077555  0.794913\n",
       "37  0.594168  0.361905  0.193503  0.054558  0.753598\n",
       "38  0.028300  0.451385  0.128864  0.319430  0.299723\n",
       "39  0.731524  0.247591  0.942145  0.120813  0.914913\n",
       "40  0.158146  0.777563  0.350384  0.270264  0.171420\n",
       "41  0.434829  0.656578  0.908105  0.523005  0.016388\n",
       "42  0.039057  0.038357  0.252309  0.026857  0.031817\n",
       "43  0.651781  0.877285  0.465085  0.585984  0.543075\n",
       "44  0.718553  0.893823  0.910277  0.403328  0.392868\n",
       "45  0.521005  0.347513  0.545913  0.849709  0.311267\n",
       "46  0.869915  0.117787  0.656510  0.230962  0.274156\n",
       "47  0.722273  0.279631  0.057177  0.177398  0.516867\n",
       "48  0.014534  0.788639  0.003208  0.043644  0.154935\n",
       "49  0.007086  0.073286  0.483674  0.754297  0.908300"
      ]
     },
     "execution_count": 69,
     "metadata": {},
     "output_type": "execute_result"
    }
   ],
   "source": [
    "dataf.columns = ['A', 'B', 'C', 'D', 'E']\n",
    "dataf"
   ]
  },
  {
   "cell_type": "markdown",
   "metadata": {},
   "source": [
    "Example 20\n",
    "Display column B and C from the dataset and also use head function"
   ]
  },
  {
   "cell_type": "code",
   "execution_count": 70,
   "metadata": {},
   "outputs": [
    {
     "data": {
      "text/html": [
       "<div>\n",
       "<style scoped>\n",
       "    .dataframe tbody tr th:only-of-type {\n",
       "        vertical-align: middle;\n",
       "    }\n",
       "\n",
       "    .dataframe tbody tr th {\n",
       "        vertical-align: top;\n",
       "    }\n",
       "\n",
       "    .dataframe thead th {\n",
       "        text-align: right;\n",
       "    }\n",
       "</style>\n",
       "<table border=\"1\" class=\"dataframe\">\n",
       "  <thead>\n",
       "    <tr style=\"text-align: right;\">\n",
       "      <th></th>\n",
       "      <th>B</th>\n",
       "      <th>C</th>\n",
       "    </tr>\n",
       "  </thead>\n",
       "  <tbody>\n",
       "    <tr>\n",
       "      <th>0</th>\n",
       "      <td>0.699123</td>\n",
       "      <td>0.920503</td>\n",
       "    </tr>\n",
       "    <tr>\n",
       "      <th>1</th>\n",
       "      <td>0.812671</td>\n",
       "      <td>0.285319</td>\n",
       "    </tr>\n",
       "    <tr>\n",
       "      <th>2</th>\n",
       "      <td>0.172013</td>\n",
       "      <td>0.118140</td>\n",
       "    </tr>\n",
       "    <tr>\n",
       "      <th>3</th>\n",
       "      <td>0.957882</td>\n",
       "      <td>0.209605</td>\n",
       "    </tr>\n",
       "    <tr>\n",
       "      <th>4</th>\n",
       "      <td>0.064241</td>\n",
       "      <td>0.584704</td>\n",
       "    </tr>\n",
       "    <tr>\n",
       "      <th>5</th>\n",
       "      <td>0.302635</td>\n",
       "      <td>0.374512</td>\n",
       "    </tr>\n",
       "    <tr>\n",
       "      <th>6</th>\n",
       "      <td>0.671159</td>\n",
       "      <td>0.823402</td>\n",
       "    </tr>\n",
       "    <tr>\n",
       "      <th>7</th>\n",
       "      <td>0.130585</td>\n",
       "      <td>0.030758</td>\n",
       "    </tr>\n",
       "    <tr>\n",
       "      <th>8</th>\n",
       "      <td>0.305940</td>\n",
       "      <td>0.282701</td>\n",
       "    </tr>\n",
       "    <tr>\n",
       "      <th>9</th>\n",
       "      <td>0.679239</td>\n",
       "      <td>0.846508</td>\n",
       "    </tr>\n",
       "    <tr>\n",
       "      <th>10</th>\n",
       "      <td>0.509033</td>\n",
       "      <td>0.867359</td>\n",
       "    </tr>\n",
       "    <tr>\n",
       "      <th>11</th>\n",
       "      <td>0.866481</td>\n",
       "      <td>0.770650</td>\n",
       "    </tr>\n",
       "    <tr>\n",
       "      <th>12</th>\n",
       "      <td>0.334458</td>\n",
       "      <td>0.014526</td>\n",
       "    </tr>\n",
       "    <tr>\n",
       "      <th>13</th>\n",
       "      <td>0.665015</td>\n",
       "      <td>0.809076</td>\n",
       "    </tr>\n",
       "    <tr>\n",
       "      <th>14</th>\n",
       "      <td>0.150070</td>\n",
       "      <td>0.035454</td>\n",
       "    </tr>\n",
       "    <tr>\n",
       "      <th>15</th>\n",
       "      <td>0.313770</td>\n",
       "      <td>0.191548</td>\n",
       "    </tr>\n",
       "    <tr>\n",
       "      <th>16</th>\n",
       "      <td>0.153143</td>\n",
       "      <td>0.462617</td>\n",
       "    </tr>\n",
       "    <tr>\n",
       "      <th>17</th>\n",
       "      <td>0.399474</td>\n",
       "      <td>0.147401</td>\n",
       "    </tr>\n",
       "    <tr>\n",
       "      <th>18</th>\n",
       "      <td>0.558741</td>\n",
       "      <td>0.245059</td>\n",
       "    </tr>\n",
       "    <tr>\n",
       "      <th>19</th>\n",
       "      <td>0.774879</td>\n",
       "      <td>0.857573</td>\n",
       "    </tr>\n",
       "    <tr>\n",
       "      <th>20</th>\n",
       "      <td>0.048165</td>\n",
       "      <td>0.048994</td>\n",
       "    </tr>\n",
       "    <tr>\n",
       "      <th>21</th>\n",
       "      <td>0.405503</td>\n",
       "      <td>0.035733</td>\n",
       "    </tr>\n",
       "    <tr>\n",
       "      <th>22</th>\n",
       "      <td>0.813862</td>\n",
       "      <td>0.369212</td>\n",
       "    </tr>\n",
       "    <tr>\n",
       "      <th>23</th>\n",
       "      <td>0.026261</td>\n",
       "      <td>0.658549</td>\n",
       "    </tr>\n",
       "    <tr>\n",
       "      <th>24</th>\n",
       "      <td>0.490559</td>\n",
       "      <td>0.001513</td>\n",
       "    </tr>\n",
       "    <tr>\n",
       "      <th>25</th>\n",
       "      <td>0.295135</td>\n",
       "      <td>0.612119</td>\n",
       "    </tr>\n",
       "    <tr>\n",
       "      <th>26</th>\n",
       "      <td>0.453739</td>\n",
       "      <td>0.209124</td>\n",
       "    </tr>\n",
       "    <tr>\n",
       "      <th>27</th>\n",
       "      <td>0.531769</td>\n",
       "      <td>0.590933</td>\n",
       "    </tr>\n",
       "    <tr>\n",
       "      <th>28</th>\n",
       "      <td>0.454230</td>\n",
       "      <td>0.755023</td>\n",
       "    </tr>\n",
       "    <tr>\n",
       "      <th>29</th>\n",
       "      <td>0.144078</td>\n",
       "      <td>0.717541</td>\n",
       "    </tr>\n",
       "    <tr>\n",
       "      <th>30</th>\n",
       "      <td>0.343609</td>\n",
       "      <td>0.279974</td>\n",
       "    </tr>\n",
       "    <tr>\n",
       "      <th>31</th>\n",
       "      <td>0.812710</td>\n",
       "      <td>0.145545</td>\n",
       "    </tr>\n",
       "    <tr>\n",
       "      <th>32</th>\n",
       "      <td>0.349210</td>\n",
       "      <td>0.136608</td>\n",
       "    </tr>\n",
       "    <tr>\n",
       "      <th>33</th>\n",
       "      <td>0.589181</td>\n",
       "      <td>0.794855</td>\n",
       "    </tr>\n",
       "    <tr>\n",
       "      <th>34</th>\n",
       "      <td>0.427640</td>\n",
       "      <td>0.080895</td>\n",
       "    </tr>\n",
       "    <tr>\n",
       "      <th>35</th>\n",
       "      <td>0.574913</td>\n",
       "      <td>0.347180</td>\n",
       "    </tr>\n",
       "    <tr>\n",
       "      <th>36</th>\n",
       "      <td>0.635981</td>\n",
       "      <td>0.526492</td>\n",
       "    </tr>\n",
       "    <tr>\n",
       "      <th>37</th>\n",
       "      <td>0.361905</td>\n",
       "      <td>0.193503</td>\n",
       "    </tr>\n",
       "    <tr>\n",
       "      <th>38</th>\n",
       "      <td>0.451385</td>\n",
       "      <td>0.128864</td>\n",
       "    </tr>\n",
       "    <tr>\n",
       "      <th>39</th>\n",
       "      <td>0.247591</td>\n",
       "      <td>0.942145</td>\n",
       "    </tr>\n",
       "    <tr>\n",
       "      <th>40</th>\n",
       "      <td>0.777563</td>\n",
       "      <td>0.350384</td>\n",
       "    </tr>\n",
       "    <tr>\n",
       "      <th>41</th>\n",
       "      <td>0.656578</td>\n",
       "      <td>0.908105</td>\n",
       "    </tr>\n",
       "    <tr>\n",
       "      <th>42</th>\n",
       "      <td>0.038357</td>\n",
       "      <td>0.252309</td>\n",
       "    </tr>\n",
       "    <tr>\n",
       "      <th>43</th>\n",
       "      <td>0.877285</td>\n",
       "      <td>0.465085</td>\n",
       "    </tr>\n",
       "    <tr>\n",
       "      <th>44</th>\n",
       "      <td>0.893823</td>\n",
       "      <td>0.910277</td>\n",
       "    </tr>\n",
       "    <tr>\n",
       "      <th>45</th>\n",
       "      <td>0.347513</td>\n",
       "      <td>0.545913</td>\n",
       "    </tr>\n",
       "    <tr>\n",
       "      <th>46</th>\n",
       "      <td>0.117787</td>\n",
       "      <td>0.656510</td>\n",
       "    </tr>\n",
       "    <tr>\n",
       "      <th>47</th>\n",
       "      <td>0.279631</td>\n",
       "      <td>0.057177</td>\n",
       "    </tr>\n",
       "    <tr>\n",
       "      <th>48</th>\n",
       "      <td>0.788639</td>\n",
       "      <td>0.003208</td>\n",
       "    </tr>\n",
       "    <tr>\n",
       "      <th>49</th>\n",
       "      <td>0.073286</td>\n",
       "      <td>0.483674</td>\n",
       "    </tr>\n",
       "  </tbody>\n",
       "</table>\n",
       "</div>"
      ],
      "text/plain": [
       "           B         C\n",
       "0   0.699123  0.920503\n",
       "1   0.812671  0.285319\n",
       "2   0.172013  0.118140\n",
       "3   0.957882  0.209605\n",
       "4   0.064241  0.584704\n",
       "5   0.302635  0.374512\n",
       "6   0.671159  0.823402\n",
       "7   0.130585  0.030758\n",
       "8   0.305940  0.282701\n",
       "9   0.679239  0.846508\n",
       "10  0.509033  0.867359\n",
       "11  0.866481  0.770650\n",
       "12  0.334458  0.014526\n",
       "13  0.665015  0.809076\n",
       "14  0.150070  0.035454\n",
       "15  0.313770  0.191548\n",
       "16  0.153143  0.462617\n",
       "17  0.399474  0.147401\n",
       "18  0.558741  0.245059\n",
       "19  0.774879  0.857573\n",
       "20  0.048165  0.048994\n",
       "21  0.405503  0.035733\n",
       "22  0.813862  0.369212\n",
       "23  0.026261  0.658549\n",
       "24  0.490559  0.001513\n",
       "25  0.295135  0.612119\n",
       "26  0.453739  0.209124\n",
       "27  0.531769  0.590933\n",
       "28  0.454230  0.755023\n",
       "29  0.144078  0.717541\n",
       "30  0.343609  0.279974\n",
       "31  0.812710  0.145545\n",
       "32  0.349210  0.136608\n",
       "33  0.589181  0.794855\n",
       "34  0.427640  0.080895\n",
       "35  0.574913  0.347180\n",
       "36  0.635981  0.526492\n",
       "37  0.361905  0.193503\n",
       "38  0.451385  0.128864\n",
       "39  0.247591  0.942145\n",
       "40  0.777563  0.350384\n",
       "41  0.656578  0.908105\n",
       "42  0.038357  0.252309\n",
       "43  0.877285  0.465085\n",
       "44  0.893823  0.910277\n",
       "45  0.347513  0.545913\n",
       "46  0.117787  0.656510\n",
       "47  0.279631  0.057177\n",
       "48  0.788639  0.003208\n",
       "49  0.073286  0.483674"
      ]
     },
     "execution_count": 70,
     "metadata": {},
     "output_type": "execute_result"
    }
   ],
   "source": [
    "dataf[['B', 'C']]\n"
   ]
  },
  {
   "cell_type": "code",
   "execution_count": 71,
   "metadata": {},
   "outputs": [
    {
     "data": {
      "text/html": [
       "<div>\n",
       "<style scoped>\n",
       "    .dataframe tbody tr th:only-of-type {\n",
       "        vertical-align: middle;\n",
       "    }\n",
       "\n",
       "    .dataframe tbody tr th {\n",
       "        vertical-align: top;\n",
       "    }\n",
       "\n",
       "    .dataframe thead th {\n",
       "        text-align: right;\n",
       "    }\n",
       "</style>\n",
       "<table border=\"1\" class=\"dataframe\">\n",
       "  <thead>\n",
       "    <tr style=\"text-align: right;\">\n",
       "      <th></th>\n",
       "      <th>A</th>\n",
       "      <th>B</th>\n",
       "      <th>C</th>\n",
       "      <th>D</th>\n",
       "      <th>E</th>\n",
       "    </tr>\n",
       "  </thead>\n",
       "  <tbody>\n",
       "    <tr>\n",
       "      <th>0</th>\n",
       "      <td>0.818002</td>\n",
       "      <td>0.699123</td>\n",
       "      <td>0.920503</td>\n",
       "      <td>0.369776</td>\n",
       "      <td>0.892115</td>\n",
       "    </tr>\n",
       "    <tr>\n",
       "      <th>1</th>\n",
       "      <td>0.746943</td>\n",
       "      <td>0.812671</td>\n",
       "      <td>0.285319</td>\n",
       "      <td>0.528265</td>\n",
       "      <td>0.430016</td>\n",
       "    </tr>\n",
       "    <tr>\n",
       "      <th>2</th>\n",
       "      <td>0.192824</td>\n",
       "      <td>0.172013</td>\n",
       "      <td>0.118140</td>\n",
       "      <td>0.776318</td>\n",
       "      <td>0.609781</td>\n",
       "    </tr>\n",
       "    <tr>\n",
       "      <th>3</th>\n",
       "      <td>0.501231</td>\n",
       "      <td>0.957882</td>\n",
       "      <td>0.209605</td>\n",
       "      <td>0.595281</td>\n",
       "      <td>0.029015</td>\n",
       "    </tr>\n",
       "    <tr>\n",
       "      <th>4</th>\n",
       "      <td>0.726152</td>\n",
       "      <td>0.064241</td>\n",
       "      <td>0.584704</td>\n",
       "      <td>0.407701</td>\n",
       "      <td>0.850602</td>\n",
       "    </tr>\n",
       "  </tbody>\n",
       "</table>\n",
       "</div>"
      ],
      "text/plain": [
       "          A         B         C         D         E\n",
       "0  0.818002  0.699123  0.920503  0.369776  0.892115\n",
       "1  0.746943  0.812671  0.285319  0.528265  0.430016\n",
       "2  0.192824  0.172013  0.118140  0.776318  0.609781\n",
       "3  0.501231  0.957882  0.209605  0.595281  0.029015\n",
       "4  0.726152  0.064241  0.584704  0.407701  0.850602"
      ]
     },
     "execution_count": 71,
     "metadata": {},
     "output_type": "execute_result"
    }
   ],
   "source": [
    "dataf.head()\n"
   ]
  },
  {
   "cell_type": "markdown",
   "metadata": {},
   "source": [
    "Example 21\n",
    "Demonstrate the use of iloc function"
   ]
  },
  {
   "cell_type": "code",
   "execution_count": 72,
   "metadata": {},
   "outputs": [
    {
     "data": {
      "text/html": [
       "<div>\n",
       "<style scoped>\n",
       "    .dataframe tbody tr th:only-of-type {\n",
       "        vertical-align: middle;\n",
       "    }\n",
       "\n",
       "    .dataframe tbody tr th {\n",
       "        vertical-align: top;\n",
       "    }\n",
       "\n",
       "    .dataframe thead th {\n",
       "        text-align: right;\n",
       "    }\n",
       "</style>\n",
       "<table border=\"1\" class=\"dataframe\">\n",
       "  <thead>\n",
       "    <tr style=\"text-align: right;\">\n",
       "      <th></th>\n",
       "      <th>A</th>\n",
       "      <th>B</th>\n",
       "    </tr>\n",
       "  </thead>\n",
       "  <tbody>\n",
       "    <tr>\n",
       "      <th>0</th>\n",
       "      <td>0.818002</td>\n",
       "      <td>0.699123</td>\n",
       "    </tr>\n",
       "    <tr>\n",
       "      <th>1</th>\n",
       "      <td>0.746943</td>\n",
       "      <td>0.812671</td>\n",
       "    </tr>\n",
       "    <tr>\n",
       "      <th>2</th>\n",
       "      <td>0.192824</td>\n",
       "      <td>0.172013</td>\n",
       "    </tr>\n",
       "    <tr>\n",
       "      <th>3</th>\n",
       "      <td>0.501231</td>\n",
       "      <td>0.957882</td>\n",
       "    </tr>\n",
       "    <tr>\n",
       "      <th>4</th>\n",
       "      <td>0.726152</td>\n",
       "      <td>0.064241</td>\n",
       "    </tr>\n",
       "    <tr>\n",
       "      <th>5</th>\n",
       "      <td>0.067750</td>\n",
       "      <td>0.302635</td>\n",
       "    </tr>\n",
       "    <tr>\n",
       "      <th>6</th>\n",
       "      <td>0.576198</td>\n",
       "      <td>0.671159</td>\n",
       "    </tr>\n",
       "    <tr>\n",
       "      <th>7</th>\n",
       "      <td>0.103493</td>\n",
       "      <td>0.130585</td>\n",
       "    </tr>\n",
       "    <tr>\n",
       "      <th>8</th>\n",
       "      <td>0.671029</td>\n",
       "      <td>0.305940</td>\n",
       "    </tr>\n",
       "    <tr>\n",
       "      <th>9</th>\n",
       "      <td>0.951014</td>\n",
       "      <td>0.679239</td>\n",
       "    </tr>\n",
       "    <tr>\n",
       "      <th>10</th>\n",
       "      <td>0.599470</td>\n",
       "      <td>0.509033</td>\n",
       "    </tr>\n",
       "    <tr>\n",
       "      <th>11</th>\n",
       "      <td>0.435706</td>\n",
       "      <td>0.866481</td>\n",
       "    </tr>\n",
       "    <tr>\n",
       "      <th>12</th>\n",
       "      <td>0.194318</td>\n",
       "      <td>0.334458</td>\n",
       "    </tr>\n",
       "    <tr>\n",
       "      <th>13</th>\n",
       "      <td>0.669709</td>\n",
       "      <td>0.665015</td>\n",
       "    </tr>\n",
       "    <tr>\n",
       "      <th>14</th>\n",
       "      <td>0.180378</td>\n",
       "      <td>0.150070</td>\n",
       "    </tr>\n",
       "    <tr>\n",
       "      <th>15</th>\n",
       "      <td>0.086858</td>\n",
       "      <td>0.313770</td>\n",
       "    </tr>\n",
       "    <tr>\n",
       "      <th>16</th>\n",
       "      <td>0.112992</td>\n",
       "      <td>0.153143</td>\n",
       "    </tr>\n",
       "    <tr>\n",
       "      <th>17</th>\n",
       "      <td>0.634494</td>\n",
       "      <td>0.399474</td>\n",
       "    </tr>\n",
       "    <tr>\n",
       "      <th>18</th>\n",
       "      <td>0.680735</td>\n",
       "      <td>0.558741</td>\n",
       "    </tr>\n",
       "    <tr>\n",
       "      <th>19</th>\n",
       "      <td>0.105663</td>\n",
       "      <td>0.774879</td>\n",
       "    </tr>\n",
       "    <tr>\n",
       "      <th>20</th>\n",
       "      <td>0.498547</td>\n",
       "      <td>0.048165</td>\n",
       "    </tr>\n",
       "    <tr>\n",
       "      <th>21</th>\n",
       "      <td>0.816397</td>\n",
       "      <td>0.405503</td>\n",
       "    </tr>\n",
       "    <tr>\n",
       "      <th>22</th>\n",
       "      <td>0.944115</td>\n",
       "      <td>0.813862</td>\n",
       "    </tr>\n",
       "    <tr>\n",
       "      <th>23</th>\n",
       "      <td>0.204473</td>\n",
       "      <td>0.026261</td>\n",
       "    </tr>\n",
       "    <tr>\n",
       "      <th>24</th>\n",
       "      <td>0.436382</td>\n",
       "      <td>0.490559</td>\n",
       "    </tr>\n",
       "    <tr>\n",
       "      <th>25</th>\n",
       "      <td>0.380442</td>\n",
       "      <td>0.295135</td>\n",
       "    </tr>\n",
       "    <tr>\n",
       "      <th>26</th>\n",
       "      <td>0.558706</td>\n",
       "      <td>0.453739</td>\n",
       "    </tr>\n",
       "    <tr>\n",
       "      <th>27</th>\n",
       "      <td>0.726634</td>\n",
       "      <td>0.531769</td>\n",
       "    </tr>\n",
       "    <tr>\n",
       "      <th>28</th>\n",
       "      <td>0.571976</td>\n",
       "      <td>0.454230</td>\n",
       "    </tr>\n",
       "    <tr>\n",
       "      <th>29</th>\n",
       "      <td>0.220459</td>\n",
       "      <td>0.144078</td>\n",
       "    </tr>\n",
       "    <tr>\n",
       "      <th>30</th>\n",
       "      <td>0.521459</td>\n",
       "      <td>0.343609</td>\n",
       "    </tr>\n",
       "    <tr>\n",
       "      <th>31</th>\n",
       "      <td>0.876019</td>\n",
       "      <td>0.812710</td>\n",
       "    </tr>\n",
       "    <tr>\n",
       "      <th>32</th>\n",
       "      <td>0.020012</td>\n",
       "      <td>0.349210</td>\n",
       "    </tr>\n",
       "    <tr>\n",
       "      <th>33</th>\n",
       "      <td>0.839091</td>\n",
       "      <td>0.589181</td>\n",
       "    </tr>\n",
       "    <tr>\n",
       "      <th>34</th>\n",
       "      <td>0.448411</td>\n",
       "      <td>0.427640</td>\n",
       "    </tr>\n",
       "    <tr>\n",
       "      <th>35</th>\n",
       "      <td>0.146932</td>\n",
       "      <td>0.574913</td>\n",
       "    </tr>\n",
       "    <tr>\n",
       "      <th>36</th>\n",
       "      <td>0.527377</td>\n",
       "      <td>0.635981</td>\n",
       "    </tr>\n",
       "    <tr>\n",
       "      <th>37</th>\n",
       "      <td>0.594168</td>\n",
       "      <td>0.361905</td>\n",
       "    </tr>\n",
       "    <tr>\n",
       "      <th>38</th>\n",
       "      <td>0.028300</td>\n",
       "      <td>0.451385</td>\n",
       "    </tr>\n",
       "    <tr>\n",
       "      <th>39</th>\n",
       "      <td>0.731524</td>\n",
       "      <td>0.247591</td>\n",
       "    </tr>\n",
       "    <tr>\n",
       "      <th>40</th>\n",
       "      <td>0.158146</td>\n",
       "      <td>0.777563</td>\n",
       "    </tr>\n",
       "    <tr>\n",
       "      <th>41</th>\n",
       "      <td>0.434829</td>\n",
       "      <td>0.656578</td>\n",
       "    </tr>\n",
       "    <tr>\n",
       "      <th>42</th>\n",
       "      <td>0.039057</td>\n",
       "      <td>0.038357</td>\n",
       "    </tr>\n",
       "    <tr>\n",
       "      <th>43</th>\n",
       "      <td>0.651781</td>\n",
       "      <td>0.877285</td>\n",
       "    </tr>\n",
       "    <tr>\n",
       "      <th>44</th>\n",
       "      <td>0.718553</td>\n",
       "      <td>0.893823</td>\n",
       "    </tr>\n",
       "    <tr>\n",
       "      <th>45</th>\n",
       "      <td>0.521005</td>\n",
       "      <td>0.347513</td>\n",
       "    </tr>\n",
       "    <tr>\n",
       "      <th>46</th>\n",
       "      <td>0.869915</td>\n",
       "      <td>0.117787</td>\n",
       "    </tr>\n",
       "    <tr>\n",
       "      <th>47</th>\n",
       "      <td>0.722273</td>\n",
       "      <td>0.279631</td>\n",
       "    </tr>\n",
       "    <tr>\n",
       "      <th>48</th>\n",
       "      <td>0.014534</td>\n",
       "      <td>0.788639</td>\n",
       "    </tr>\n",
       "    <tr>\n",
       "      <th>49</th>\n",
       "      <td>0.007086</td>\n",
       "      <td>0.073286</td>\n",
       "    </tr>\n",
       "  </tbody>\n",
       "</table>\n",
       "</div>"
      ],
      "text/plain": [
       "           A         B\n",
       "0   0.818002  0.699123\n",
       "1   0.746943  0.812671\n",
       "2   0.192824  0.172013\n",
       "3   0.501231  0.957882\n",
       "4   0.726152  0.064241\n",
       "5   0.067750  0.302635\n",
       "6   0.576198  0.671159\n",
       "7   0.103493  0.130585\n",
       "8   0.671029  0.305940\n",
       "9   0.951014  0.679239\n",
       "10  0.599470  0.509033\n",
       "11  0.435706  0.866481\n",
       "12  0.194318  0.334458\n",
       "13  0.669709  0.665015\n",
       "14  0.180378  0.150070\n",
       "15  0.086858  0.313770\n",
       "16  0.112992  0.153143\n",
       "17  0.634494  0.399474\n",
       "18  0.680735  0.558741\n",
       "19  0.105663  0.774879\n",
       "20  0.498547  0.048165\n",
       "21  0.816397  0.405503\n",
       "22  0.944115  0.813862\n",
       "23  0.204473  0.026261\n",
       "24  0.436382  0.490559\n",
       "25  0.380442  0.295135\n",
       "26  0.558706  0.453739\n",
       "27  0.726634  0.531769\n",
       "28  0.571976  0.454230\n",
       "29  0.220459  0.144078\n",
       "30  0.521459  0.343609\n",
       "31  0.876019  0.812710\n",
       "32  0.020012  0.349210\n",
       "33  0.839091  0.589181\n",
       "34  0.448411  0.427640\n",
       "35  0.146932  0.574913\n",
       "36  0.527377  0.635981\n",
       "37  0.594168  0.361905\n",
       "38  0.028300  0.451385\n",
       "39  0.731524  0.247591\n",
       "40  0.158146  0.777563\n",
       "41  0.434829  0.656578\n",
       "42  0.039057  0.038357\n",
       "43  0.651781  0.877285\n",
       "44  0.718553  0.893823\n",
       "45  0.521005  0.347513\n",
       "46  0.869915  0.117787\n",
       "47  0.722273  0.279631\n",
       "48  0.014534  0.788639\n",
       "49  0.007086  0.073286"
      ]
     },
     "execution_count": 72,
     "metadata": {},
     "output_type": "execute_result"
    }
   ],
   "source": [
    "dataf.iloc[:, 0:2]   # : means all rows and 0:2 means cloumns till 2 \n"
   ]
  },
  {
   "cell_type": "markdown",
   "metadata": {},
   "source": [
    "Example 22\n",
    "Print column A to C and fimd the value on 0,0"
   ]
  },
  {
   "cell_type": "code",
   "execution_count": 73,
   "metadata": {},
   "outputs": [
    {
     "data": {
      "text/html": [
       "<div>\n",
       "<style scoped>\n",
       "    .dataframe tbody tr th:only-of-type {\n",
       "        vertical-align: middle;\n",
       "    }\n",
       "\n",
       "    .dataframe tbody tr th {\n",
       "        vertical-align: top;\n",
       "    }\n",
       "\n",
       "    .dataframe thead th {\n",
       "        text-align: right;\n",
       "    }\n",
       "</style>\n",
       "<table border=\"1\" class=\"dataframe\">\n",
       "  <thead>\n",
       "    <tr style=\"text-align: right;\">\n",
       "      <th></th>\n",
       "      <th>A</th>\n",
       "      <th>B</th>\n",
       "      <th>C</th>\n",
       "    </tr>\n",
       "  </thead>\n",
       "  <tbody>\n",
       "    <tr>\n",
       "      <th>0</th>\n",
       "      <td>0.818002</td>\n",
       "      <td>0.699123</td>\n",
       "      <td>0.920503</td>\n",
       "    </tr>\n",
       "    <tr>\n",
       "      <th>1</th>\n",
       "      <td>0.746943</td>\n",
       "      <td>0.812671</td>\n",
       "      <td>0.285319</td>\n",
       "    </tr>\n",
       "    <tr>\n",
       "      <th>2</th>\n",
       "      <td>0.192824</td>\n",
       "      <td>0.172013</td>\n",
       "      <td>0.118140</td>\n",
       "    </tr>\n",
       "    <tr>\n",
       "      <th>3</th>\n",
       "      <td>0.501231</td>\n",
       "      <td>0.957882</td>\n",
       "      <td>0.209605</td>\n",
       "    </tr>\n",
       "    <tr>\n",
       "      <th>4</th>\n",
       "      <td>0.726152</td>\n",
       "      <td>0.064241</td>\n",
       "      <td>0.584704</td>\n",
       "    </tr>\n",
       "    <tr>\n",
       "      <th>5</th>\n",
       "      <td>0.067750</td>\n",
       "      <td>0.302635</td>\n",
       "      <td>0.374512</td>\n",
       "    </tr>\n",
       "    <tr>\n",
       "      <th>6</th>\n",
       "      <td>0.576198</td>\n",
       "      <td>0.671159</td>\n",
       "      <td>0.823402</td>\n",
       "    </tr>\n",
       "    <tr>\n",
       "      <th>7</th>\n",
       "      <td>0.103493</td>\n",
       "      <td>0.130585</td>\n",
       "      <td>0.030758</td>\n",
       "    </tr>\n",
       "    <tr>\n",
       "      <th>8</th>\n",
       "      <td>0.671029</td>\n",
       "      <td>0.305940</td>\n",
       "      <td>0.282701</td>\n",
       "    </tr>\n",
       "    <tr>\n",
       "      <th>9</th>\n",
       "      <td>0.951014</td>\n",
       "      <td>0.679239</td>\n",
       "      <td>0.846508</td>\n",
       "    </tr>\n",
       "    <tr>\n",
       "      <th>10</th>\n",
       "      <td>0.599470</td>\n",
       "      <td>0.509033</td>\n",
       "      <td>0.867359</td>\n",
       "    </tr>\n",
       "    <tr>\n",
       "      <th>11</th>\n",
       "      <td>0.435706</td>\n",
       "      <td>0.866481</td>\n",
       "      <td>0.770650</td>\n",
       "    </tr>\n",
       "    <tr>\n",
       "      <th>12</th>\n",
       "      <td>0.194318</td>\n",
       "      <td>0.334458</td>\n",
       "      <td>0.014526</td>\n",
       "    </tr>\n",
       "    <tr>\n",
       "      <th>13</th>\n",
       "      <td>0.669709</td>\n",
       "      <td>0.665015</td>\n",
       "      <td>0.809076</td>\n",
       "    </tr>\n",
       "    <tr>\n",
       "      <th>14</th>\n",
       "      <td>0.180378</td>\n",
       "      <td>0.150070</td>\n",
       "      <td>0.035454</td>\n",
       "    </tr>\n",
       "    <tr>\n",
       "      <th>15</th>\n",
       "      <td>0.086858</td>\n",
       "      <td>0.313770</td>\n",
       "      <td>0.191548</td>\n",
       "    </tr>\n",
       "    <tr>\n",
       "      <th>16</th>\n",
       "      <td>0.112992</td>\n",
       "      <td>0.153143</td>\n",
       "      <td>0.462617</td>\n",
       "    </tr>\n",
       "    <tr>\n",
       "      <th>17</th>\n",
       "      <td>0.634494</td>\n",
       "      <td>0.399474</td>\n",
       "      <td>0.147401</td>\n",
       "    </tr>\n",
       "    <tr>\n",
       "      <th>18</th>\n",
       "      <td>0.680735</td>\n",
       "      <td>0.558741</td>\n",
       "      <td>0.245059</td>\n",
       "    </tr>\n",
       "    <tr>\n",
       "      <th>19</th>\n",
       "      <td>0.105663</td>\n",
       "      <td>0.774879</td>\n",
       "      <td>0.857573</td>\n",
       "    </tr>\n",
       "    <tr>\n",
       "      <th>20</th>\n",
       "      <td>0.498547</td>\n",
       "      <td>0.048165</td>\n",
       "      <td>0.048994</td>\n",
       "    </tr>\n",
       "    <tr>\n",
       "      <th>21</th>\n",
       "      <td>0.816397</td>\n",
       "      <td>0.405503</td>\n",
       "      <td>0.035733</td>\n",
       "    </tr>\n",
       "    <tr>\n",
       "      <th>22</th>\n",
       "      <td>0.944115</td>\n",
       "      <td>0.813862</td>\n",
       "      <td>0.369212</td>\n",
       "    </tr>\n",
       "    <tr>\n",
       "      <th>23</th>\n",
       "      <td>0.204473</td>\n",
       "      <td>0.026261</td>\n",
       "      <td>0.658549</td>\n",
       "    </tr>\n",
       "    <tr>\n",
       "      <th>24</th>\n",
       "      <td>0.436382</td>\n",
       "      <td>0.490559</td>\n",
       "      <td>0.001513</td>\n",
       "    </tr>\n",
       "    <tr>\n",
       "      <th>25</th>\n",
       "      <td>0.380442</td>\n",
       "      <td>0.295135</td>\n",
       "      <td>0.612119</td>\n",
       "    </tr>\n",
       "    <tr>\n",
       "      <th>26</th>\n",
       "      <td>0.558706</td>\n",
       "      <td>0.453739</td>\n",
       "      <td>0.209124</td>\n",
       "    </tr>\n",
       "    <tr>\n",
       "      <th>27</th>\n",
       "      <td>0.726634</td>\n",
       "      <td>0.531769</td>\n",
       "      <td>0.590933</td>\n",
       "    </tr>\n",
       "    <tr>\n",
       "      <th>28</th>\n",
       "      <td>0.571976</td>\n",
       "      <td>0.454230</td>\n",
       "      <td>0.755023</td>\n",
       "    </tr>\n",
       "    <tr>\n",
       "      <th>29</th>\n",
       "      <td>0.220459</td>\n",
       "      <td>0.144078</td>\n",
       "      <td>0.717541</td>\n",
       "    </tr>\n",
       "    <tr>\n",
       "      <th>30</th>\n",
       "      <td>0.521459</td>\n",
       "      <td>0.343609</td>\n",
       "      <td>0.279974</td>\n",
       "    </tr>\n",
       "    <tr>\n",
       "      <th>31</th>\n",
       "      <td>0.876019</td>\n",
       "      <td>0.812710</td>\n",
       "      <td>0.145545</td>\n",
       "    </tr>\n",
       "    <tr>\n",
       "      <th>32</th>\n",
       "      <td>0.020012</td>\n",
       "      <td>0.349210</td>\n",
       "      <td>0.136608</td>\n",
       "    </tr>\n",
       "    <tr>\n",
       "      <th>33</th>\n",
       "      <td>0.839091</td>\n",
       "      <td>0.589181</td>\n",
       "      <td>0.794855</td>\n",
       "    </tr>\n",
       "    <tr>\n",
       "      <th>34</th>\n",
       "      <td>0.448411</td>\n",
       "      <td>0.427640</td>\n",
       "      <td>0.080895</td>\n",
       "    </tr>\n",
       "    <tr>\n",
       "      <th>35</th>\n",
       "      <td>0.146932</td>\n",
       "      <td>0.574913</td>\n",
       "      <td>0.347180</td>\n",
       "    </tr>\n",
       "    <tr>\n",
       "      <th>36</th>\n",
       "      <td>0.527377</td>\n",
       "      <td>0.635981</td>\n",
       "      <td>0.526492</td>\n",
       "    </tr>\n",
       "    <tr>\n",
       "      <th>37</th>\n",
       "      <td>0.594168</td>\n",
       "      <td>0.361905</td>\n",
       "      <td>0.193503</td>\n",
       "    </tr>\n",
       "    <tr>\n",
       "      <th>38</th>\n",
       "      <td>0.028300</td>\n",
       "      <td>0.451385</td>\n",
       "      <td>0.128864</td>\n",
       "    </tr>\n",
       "    <tr>\n",
       "      <th>39</th>\n",
       "      <td>0.731524</td>\n",
       "      <td>0.247591</td>\n",
       "      <td>0.942145</td>\n",
       "    </tr>\n",
       "    <tr>\n",
       "      <th>40</th>\n",
       "      <td>0.158146</td>\n",
       "      <td>0.777563</td>\n",
       "      <td>0.350384</td>\n",
       "    </tr>\n",
       "    <tr>\n",
       "      <th>41</th>\n",
       "      <td>0.434829</td>\n",
       "      <td>0.656578</td>\n",
       "      <td>0.908105</td>\n",
       "    </tr>\n",
       "    <tr>\n",
       "      <th>42</th>\n",
       "      <td>0.039057</td>\n",
       "      <td>0.038357</td>\n",
       "      <td>0.252309</td>\n",
       "    </tr>\n",
       "    <tr>\n",
       "      <th>43</th>\n",
       "      <td>0.651781</td>\n",
       "      <td>0.877285</td>\n",
       "      <td>0.465085</td>\n",
       "    </tr>\n",
       "    <tr>\n",
       "      <th>44</th>\n",
       "      <td>0.718553</td>\n",
       "      <td>0.893823</td>\n",
       "      <td>0.910277</td>\n",
       "    </tr>\n",
       "    <tr>\n",
       "      <th>45</th>\n",
       "      <td>0.521005</td>\n",
       "      <td>0.347513</td>\n",
       "      <td>0.545913</td>\n",
       "    </tr>\n",
       "    <tr>\n",
       "      <th>46</th>\n",
       "      <td>0.869915</td>\n",
       "      <td>0.117787</td>\n",
       "      <td>0.656510</td>\n",
       "    </tr>\n",
       "    <tr>\n",
       "      <th>47</th>\n",
       "      <td>0.722273</td>\n",
       "      <td>0.279631</td>\n",
       "      <td>0.057177</td>\n",
       "    </tr>\n",
       "    <tr>\n",
       "      <th>48</th>\n",
       "      <td>0.014534</td>\n",
       "      <td>0.788639</td>\n",
       "      <td>0.003208</td>\n",
       "    </tr>\n",
       "    <tr>\n",
       "      <th>49</th>\n",
       "      <td>0.007086</td>\n",
       "      <td>0.073286</td>\n",
       "      <td>0.483674</td>\n",
       "    </tr>\n",
       "  </tbody>\n",
       "</table>\n",
       "</div>"
      ],
      "text/plain": [
       "           A         B         C\n",
       "0   0.818002  0.699123  0.920503\n",
       "1   0.746943  0.812671  0.285319\n",
       "2   0.192824  0.172013  0.118140\n",
       "3   0.501231  0.957882  0.209605\n",
       "4   0.726152  0.064241  0.584704\n",
       "5   0.067750  0.302635  0.374512\n",
       "6   0.576198  0.671159  0.823402\n",
       "7   0.103493  0.130585  0.030758\n",
       "8   0.671029  0.305940  0.282701\n",
       "9   0.951014  0.679239  0.846508\n",
       "10  0.599470  0.509033  0.867359\n",
       "11  0.435706  0.866481  0.770650\n",
       "12  0.194318  0.334458  0.014526\n",
       "13  0.669709  0.665015  0.809076\n",
       "14  0.180378  0.150070  0.035454\n",
       "15  0.086858  0.313770  0.191548\n",
       "16  0.112992  0.153143  0.462617\n",
       "17  0.634494  0.399474  0.147401\n",
       "18  0.680735  0.558741  0.245059\n",
       "19  0.105663  0.774879  0.857573\n",
       "20  0.498547  0.048165  0.048994\n",
       "21  0.816397  0.405503  0.035733\n",
       "22  0.944115  0.813862  0.369212\n",
       "23  0.204473  0.026261  0.658549\n",
       "24  0.436382  0.490559  0.001513\n",
       "25  0.380442  0.295135  0.612119\n",
       "26  0.558706  0.453739  0.209124\n",
       "27  0.726634  0.531769  0.590933\n",
       "28  0.571976  0.454230  0.755023\n",
       "29  0.220459  0.144078  0.717541\n",
       "30  0.521459  0.343609  0.279974\n",
       "31  0.876019  0.812710  0.145545\n",
       "32  0.020012  0.349210  0.136608\n",
       "33  0.839091  0.589181  0.794855\n",
       "34  0.448411  0.427640  0.080895\n",
       "35  0.146932  0.574913  0.347180\n",
       "36  0.527377  0.635981  0.526492\n",
       "37  0.594168  0.361905  0.193503\n",
       "38  0.028300  0.451385  0.128864\n",
       "39  0.731524  0.247591  0.942145\n",
       "40  0.158146  0.777563  0.350384\n",
       "41  0.434829  0.656578  0.908105\n",
       "42  0.039057  0.038357  0.252309\n",
       "43  0.651781  0.877285  0.465085\n",
       "44  0.718553  0.893823  0.910277\n",
       "45  0.521005  0.347513  0.545913\n",
       "46  0.869915  0.117787  0.656510\n",
       "47  0.722273  0.279631  0.057177\n",
       "48  0.014534  0.788639  0.003208\n",
       "49  0.007086  0.073286  0.483674"
      ]
     },
     "execution_count": 73,
     "metadata": {},
     "output_type": "execute_result"
    }
   ],
   "source": [
    "dataf.loc[:, 'A':'C'] # loc function use to specify the columns label or name"
   ]
  },
  {
   "cell_type": "markdown",
   "metadata": {},
   "source": [
    "Example 23\n",
    "Print 1st 12 elements of column 2 and 4"
   ]
  },
  {
   "cell_type": "code",
   "execution_count": 74,
   "metadata": {},
   "outputs": [
    {
     "data": {
      "text/html": [
       "<div>\n",
       "<style scoped>\n",
       "    .dataframe tbody tr th:only-of-type {\n",
       "        vertical-align: middle;\n",
       "    }\n",
       "\n",
       "    .dataframe tbody tr th {\n",
       "        vertical-align: top;\n",
       "    }\n",
       "\n",
       "    .dataframe thead th {\n",
       "        text-align: right;\n",
       "    }\n",
       "</style>\n",
       "<table border=\"1\" class=\"dataframe\">\n",
       "  <thead>\n",
       "    <tr style=\"text-align: right;\">\n",
       "      <th></th>\n",
       "      <th>C</th>\n",
       "      <th>D</th>\n",
       "    </tr>\n",
       "  </thead>\n",
       "  <tbody>\n",
       "    <tr>\n",
       "      <th>0</th>\n",
       "      <td>0.920503</td>\n",
       "      <td>0.369776</td>\n",
       "    </tr>\n",
       "    <tr>\n",
       "      <th>1</th>\n",
       "      <td>0.285319</td>\n",
       "      <td>0.528265</td>\n",
       "    </tr>\n",
       "    <tr>\n",
       "      <th>2</th>\n",
       "      <td>0.118140</td>\n",
       "      <td>0.776318</td>\n",
       "    </tr>\n",
       "    <tr>\n",
       "      <th>3</th>\n",
       "      <td>0.209605</td>\n",
       "      <td>0.595281</td>\n",
       "    </tr>\n",
       "    <tr>\n",
       "      <th>4</th>\n",
       "      <td>0.584704</td>\n",
       "      <td>0.407701</td>\n",
       "    </tr>\n",
       "    <tr>\n",
       "      <th>5</th>\n",
       "      <td>0.374512</td>\n",
       "      <td>0.525565</td>\n",
       "    </tr>\n",
       "    <tr>\n",
       "      <th>6</th>\n",
       "      <td>0.823402</td>\n",
       "      <td>0.918095</td>\n",
       "    </tr>\n",
       "    <tr>\n",
       "      <th>7</th>\n",
       "      <td>0.030758</td>\n",
       "      <td>0.767391</td>\n",
       "    </tr>\n",
       "    <tr>\n",
       "      <th>8</th>\n",
       "      <td>0.282701</td>\n",
       "      <td>0.316350</td>\n",
       "    </tr>\n",
       "    <tr>\n",
       "      <th>9</th>\n",
       "      <td>0.846508</td>\n",
       "      <td>0.998660</td>\n",
       "    </tr>\n",
       "    <tr>\n",
       "      <th>10</th>\n",
       "      <td>0.867359</td>\n",
       "      <td>0.078701</td>\n",
       "    </tr>\n",
       "    <tr>\n",
       "      <th>11</th>\n",
       "      <td>0.770650</td>\n",
       "      <td>0.501906</td>\n",
       "    </tr>\n",
       "  </tbody>\n",
       "</table>\n",
       "</div>"
      ],
      "text/plain": [
       "           C         D\n",
       "0   0.920503  0.369776\n",
       "1   0.285319  0.528265\n",
       "2   0.118140  0.776318\n",
       "3   0.209605  0.595281\n",
       "4   0.584704  0.407701\n",
       "5   0.374512  0.525565\n",
       "6   0.823402  0.918095\n",
       "7   0.030758  0.767391\n",
       "8   0.282701  0.316350\n",
       "9   0.846508  0.998660\n",
       "10  0.867359  0.078701\n",
       "11  0.770650  0.501906"
      ]
     },
     "execution_count": 74,
     "metadata": {},
     "output_type": "execute_result"
    }
   ],
   "source": [
    "dataf.iloc[0:12, 2:4]"
   ]
  },
  {
   "cell_type": "markdown",
   "metadata": {},
   "source": [
    "# 03. Matplotlib"
   ]
  },
  {
   "cell_type": "markdown",
   "metadata": {},
   "source": [
    "Example 01\n",
    "Use plot and show function to create and show the graph\n"
   ]
  },
  {
   "cell_type": "code",
   "execution_count": 77,
   "metadata": {},
   "outputs": [
    {
     "name": "stdout",
     "output_type": "stream",
     "text": [
      "Defaulting to user installation because normal site-packages is not writeable\n",
      "Collecting matplotlib\n",
      "  Obtaining dependency information for matplotlib from https://files.pythonhosted.org/packages/40/d9/c1784db9db0d484c8e5deeafbaac0d6ed66e165c6eb4a74fb43a5fa947d9/matplotlib-3.8.0-cp311-cp311-win_amd64.whl.metadata\n",
      "  Downloading matplotlib-3.8.0-cp311-cp311-win_amd64.whl.metadata (5.9 kB)\n",
      "Collecting contourpy>=1.0.1 (from matplotlib)\n",
      "  Obtaining dependency information for contourpy>=1.0.1 from https://files.pythonhosted.org/packages/e5/76/94bc17eb868f8c7397f8fdfdeae7661c1b9a35f3a7219da308596e8c252a/contourpy-1.1.1-cp311-cp311-win_amd64.whl.metadata\n",
      "  Downloading contourpy-1.1.1-cp311-cp311-win_amd64.whl.metadata (5.9 kB)\n",
      "Collecting cycler>=0.10 (from matplotlib)\n",
      "  Obtaining dependency information for cycler>=0.10 from https://files.pythonhosted.org/packages/2b/b3/70c33027c4918c10ccf176014b38f8b91cb18ac018a78854543a4fc72609/cycler-0.12.0-py3-none-any.whl.metadata\n",
      "  Downloading cycler-0.12.0-py3-none-any.whl.metadata (3.8 kB)\n",
      "Collecting fonttools>=4.22.0 (from matplotlib)\n",
      "  Obtaining dependency information for fonttools>=4.22.0 from https://files.pythonhosted.org/packages/55/a7/5936376afaeaca384c9604ac15311edd1a03a520b4f1eef31da2b42148f1/fonttools-4.43.0-cp311-cp311-win_amd64.whl.metadata\n",
      "  Downloading fonttools-4.43.0-cp311-cp311-win_amd64.whl.metadata (154 kB)\n",
      "     ---------------------------------------- 0.0/155.0 kB ? eta -:--:--\n",
      "     ------- ------------------------------- 30.7/155.0 kB 1.3 MB/s eta 0:00:01\n",
      "     ---------------------- -------------- 92.2/155.0 kB 871.5 kB/s eta 0:00:01\n",
      "     -------------------------- --------- 112.6/155.0 kB 930.9 kB/s eta 0:00:01\n",
      "     -----------------------------------  153.6/155.0 kB 913.1 kB/s eta 0:00:01\n",
      "     ------------------------------------ 155.0/155.0 kB 769.8 kB/s eta 0:00:00\n",
      "Collecting kiwisolver>=1.0.1 (from matplotlib)\n",
      "  Obtaining dependency information for kiwisolver>=1.0.1 from https://files.pythonhosted.org/packages/1e/37/d3c2d4ba2719059a0f12730947bbe1ad5ee8bff89e8c35319dcb2c9ddb4c/kiwisolver-1.4.5-cp311-cp311-win_amd64.whl.metadata\n",
      "  Downloading kiwisolver-1.4.5-cp311-cp311-win_amd64.whl.metadata (6.5 kB)\n",
      "Requirement already satisfied: numpy<2,>=1.21 in c:\\users\\falcon\\appdata\\roaming\\python\\python311\\site-packages (from matplotlib) (1.26.0)\n",
      "Requirement already satisfied: packaging>=20.0 in c:\\users\\falcon\\appdata\\roaming\\python\\python311\\site-packages (from matplotlib) (23.2)\n",
      "Collecting pillow>=6.2.0 (from matplotlib)\n",
      "  Obtaining dependency information for pillow>=6.2.0 from https://files.pythonhosted.org/packages/54/9b/debe992677af84859ec1e38777b1d5c0671918188324153ecbc1f16f6cb6/Pillow-10.0.1-cp311-cp311-win_amd64.whl.metadata\n",
      "  Downloading Pillow-10.0.1-cp311-cp311-win_amd64.whl.metadata (9.6 kB)\n",
      "Collecting pyparsing>=2.3.1 (from matplotlib)\n",
      "  Obtaining dependency information for pyparsing>=2.3.1 from https://files.pythonhosted.org/packages/39/92/8486ede85fcc088f1b3dba4ce92dd29d126fd96b0008ea213167940a2475/pyparsing-3.1.1-py3-none-any.whl.metadata\n",
      "  Downloading pyparsing-3.1.1-py3-none-any.whl.metadata (5.1 kB)\n",
      "Requirement already satisfied: python-dateutil>=2.7 in c:\\users\\falcon\\appdata\\roaming\\python\\python311\\site-packages (from matplotlib) (2.8.2)\n",
      "Requirement already satisfied: six>=1.5 in c:\\users\\falcon\\appdata\\roaming\\python\\python311\\site-packages (from python-dateutil>=2.7->matplotlib) (1.16.0)\n",
      "Downloading matplotlib-3.8.0-cp311-cp311-win_amd64.whl (7.6 MB)\n",
      "   ---------------------------------------- 0.0/7.6 MB ? eta -:--:--\n",
      "   ---------------------------------------- 0.1/7.6 MB ? eta -:--:--\n",
      "   ---------------------------------------- 0.1/7.6 MB 787.7 kB/s eta 0:00:10\n",
      "    --------------------------------------- 0.1/7.6 MB 1.1 MB/s eta 0:00:07\n",
      "    --------------------------------------- 0.1/7.6 MB 774.0 kB/s eta 0:00:10\n",
      "   - -------------------------------------- 0.2/7.6 MB 888.4 kB/s eta 0:00:09\n",
      "   - -------------------------------------- 0.3/7.6 MB 1.0 MB/s eta 0:00:08\n",
      "   - -------------------------------------- 0.3/7.6 MB 1.0 MB/s eta 0:00:08\n",
      "   - -------------------------------------- 0.4/7.6 MB 1.0 MB/s eta 0:00:08\n",
      "   -- ------------------------------------- 0.4/7.6 MB 956.1 kB/s eta 0:00:08\n",
      "   -- ------------------------------------- 0.5/7.6 MB 1.1 MB/s eta 0:00:07\n",
      "   -- ------------------------------------- 0.6/7.6 MB 1.1 MB/s eta 0:00:07\n",
      "   --- ------------------------------------ 0.6/7.6 MB 1.2 MB/s eta 0:00:07\n",
      "   --- ------------------------------------ 0.7/7.6 MB 1.3 MB/s eta 0:00:06\n",
      "   ---- ----------------------------------- 0.8/7.6 MB 1.3 MB/s eta 0:00:06\n",
      "   ---- ----------------------------------- 0.9/7.6 MB 1.3 MB/s eta 0:00:06\n",
      "   ---- ----------------------------------- 0.9/7.6 MB 1.3 MB/s eta 0:00:06\n",
      "   ----- ---------------------------------- 1.0/7.6 MB 1.3 MB/s eta 0:00:06\n",
      "   ----- ---------------------------------- 1.1/7.6 MB 1.3 MB/s eta 0:00:06\n",
      "   ------ --------------------------------- 1.2/7.6 MB 1.4 MB/s eta 0:00:05\n",
      "   ------ --------------------------------- 1.3/7.6 MB 1.4 MB/s eta 0:00:05\n",
      "   ------- -------------------------------- 1.4/7.6 MB 1.5 MB/s eta 0:00:05\n",
      "   ------- -------------------------------- 1.5/7.6 MB 1.5 MB/s eta 0:00:05\n",
      "   --------- ------------------------------ 1.7/7.6 MB 1.6 MB/s eta 0:00:04\n",
      "   --------- ------------------------------ 1.9/7.6 MB 1.7 MB/s eta 0:00:04\n",
      "   --------- ------------------------------ 1.9/7.6 MB 1.6 MB/s eta 0:00:04\n",
      "   ---------- ----------------------------- 1.9/7.6 MB 1.7 MB/s eta 0:00:04\n",
      "   ---------- ----------------------------- 2.0/7.6 MB 1.6 MB/s eta 0:00:04\n",
      "   ---------- ----------------------------- 2.0/7.6 MB 1.6 MB/s eta 0:00:04\n",
      "   ---------- ----------------------------- 2.0/7.6 MB 1.5 MB/s eta 0:00:04\n",
      "   ---------- ----------------------------- 2.1/7.6 MB 1.5 MB/s eta 0:00:04\n",
      "   ----------- ---------------------------- 2.1/7.6 MB 1.5 MB/s eta 0:00:04\n",
      "   ----------- ---------------------------- 2.2/7.6 MB 1.5 MB/s eta 0:00:04\n",
      "   ----------- ---------------------------- 2.3/7.6 MB 1.5 MB/s eta 0:00:04\n",
      "   ----------- ---------------------------- 2.3/7.6 MB 1.5 MB/s eta 0:00:04\n",
      "   ------------ --------------------------- 2.4/7.6 MB 1.5 MB/s eta 0:00:04\n",
      "   ------------- -------------------------- 2.5/7.6 MB 1.5 MB/s eta 0:00:04\n",
      "   ------------- -------------------------- 2.7/7.6 MB 1.6 MB/s eta 0:00:04\n",
      "   -------------- ------------------------- 2.8/7.6 MB 1.6 MB/s eta 0:00:04\n",
      "   -------------- ------------------------- 2.8/7.6 MB 1.6 MB/s eta 0:00:04\n",
      "   -------------- ------------------------- 2.8/7.6 MB 1.6 MB/s eta 0:00:04\n",
      "   -------------- ------------------------- 2.8/7.6 MB 1.6 MB/s eta 0:00:04\n",
      "   -------------- ------------------------- 2.8/7.6 MB 1.6 MB/s eta 0:00:04\n",
      "   -------------- ------------------------- 2.8/7.6 MB 1.6 MB/s eta 0:00:04\n",
      "   --------------- ------------------------ 2.9/7.6 MB 1.4 MB/s eta 0:00:04\n",
      "   --------------- ------------------------ 2.9/7.6 MB 1.4 MB/s eta 0:00:04\n",
      "   --------------- ------------------------ 2.9/7.6 MB 1.4 MB/s eta 0:00:04\n",
      "   --------------- ------------------------ 3.0/7.6 MB 1.4 MB/s eta 0:00:04\n",
      "   ---------------- ----------------------- 3.1/7.6 MB 1.4 MB/s eta 0:00:04\n",
      "   ---------------- ----------------------- 3.2/7.6 MB 1.4 MB/s eta 0:00:04\n",
      "   ----------------- ---------------------- 3.3/7.6 MB 1.4 MB/s eta 0:00:04\n",
      "   ----------------- ---------------------- 3.4/7.6 MB 1.4 MB/s eta 0:00:03\n",
      "   ----------------- ---------------------- 3.4/7.6 MB 1.4 MB/s eta 0:00:03\n",
      "   ----------------- ---------------------- 3.4/7.6 MB 1.4 MB/s eta 0:00:03\n",
      "   ----------------- ---------------------- 3.4/7.6 MB 1.4 MB/s eta 0:00:04\n",
      "   ----------------- ---------------------- 3.4/7.6 MB 1.4 MB/s eta 0:00:04\n",
      "   ------------------ --------------------- 3.4/7.6 MB 1.3 MB/s eta 0:00:04\n",
      "   ------------------ --------------------- 3.4/7.6 MB 1.3 MB/s eta 0:00:04\n",
      "   ------------------ --------------------- 3.4/7.6 MB 1.3 MB/s eta 0:00:04\n",
      "   ------------------ --------------------- 3.4/7.6 MB 1.3 MB/s eta 0:00:04\n",
      "   ------------------ --------------------- 3.5/7.6 MB 1.2 MB/s eta 0:00:04\n",
      "   ------------------ --------------------- 3.6/7.6 MB 1.3 MB/s eta 0:00:04\n",
      "   ------------------ --------------------- 3.6/7.6 MB 1.3 MB/s eta 0:00:04\n",
      "   ------------------- -------------------- 3.7/7.6 MB 1.3 MB/s eta 0:00:04\n",
      "   ------------------- -------------------- 3.7/7.6 MB 1.3 MB/s eta 0:00:04\n",
      "   ------------------- -------------------- 3.7/7.6 MB 1.3 MB/s eta 0:00:04\n",
      "   ------------------- -------------------- 3.8/7.6 MB 1.2 MB/s eta 0:00:04\n",
      "   -------------------- ------------------- 3.9/7.6 MB 1.2 MB/s eta 0:00:04\n",
      "   -------------------- ------------------- 3.9/7.6 MB 1.2 MB/s eta 0:00:04\n",
      "   -------------------- ------------------- 3.9/7.6 MB 1.2 MB/s eta 0:00:04\n",
      "   -------------------- ------------------- 4.0/7.6 MB 1.2 MB/s eta 0:00:04\n",
      "   --------------------- ------------------ 4.0/7.6 MB 1.2 MB/s eta 0:00:03\n",
      "   --------------------- ------------------ 4.1/7.6 MB 1.2 MB/s eta 0:00:03\n",
      "   --------------------- ------------------ 4.1/7.6 MB 1.2 MB/s eta 0:00:03\n",
      "   --------------------- ------------------ 4.1/7.6 MB 1.2 MB/s eta 0:00:03\n",
      "   --------------------- ------------------ 4.2/7.6 MB 1.2 MB/s eta 0:00:03\n",
      "   --------------------- ------------------ 4.2/7.6 MB 1.2 MB/s eta 0:00:03\n",
      "   ---------------------- ----------------- 4.2/7.6 MB 1.2 MB/s eta 0:00:03\n",
      "   ---------------------- ----------------- 4.2/7.6 MB 1.2 MB/s eta 0:00:03\n",
      "   ---------------------- ----------------- 4.2/7.6 MB 1.2 MB/s eta 0:00:03\n",
      "   ---------------------- ----------------- 4.3/7.6 MB 1.2 MB/s eta 0:00:03\n",
      "   ---------------------- ----------------- 4.3/7.6 MB 1.1 MB/s eta 0:00:03\n",
      "   ---------------------- ----------------- 4.4/7.6 MB 1.1 MB/s eta 0:00:03\n",
      "   ----------------------- ---------------- 4.4/7.6 MB 1.2 MB/s eta 0:00:03\n",
      "   ----------------------- ---------------- 4.4/7.6 MB 1.2 MB/s eta 0:00:03\n",
      "   ----------------------- ---------------- 4.5/7.6 MB 1.1 MB/s eta 0:00:03\n",
      "   ----------------------- ---------------- 4.5/7.6 MB 1.1 MB/s eta 0:00:03\n",
      "   ----------------------- ---------------- 4.5/7.6 MB 1.1 MB/s eta 0:00:03\n",
      "   ----------------------- ---------------- 4.5/7.6 MB 1.1 MB/s eta 0:00:03\n",
      "   ----------------------- ---------------- 4.5/7.6 MB 1.1 MB/s eta 0:00:03\n",
      "   ----------------------- ---------------- 4.5/7.6 MB 1.1 MB/s eta 0:00:03\n",
      "   ----------------------- ---------------- 4.5/7.6 MB 1.1 MB/s eta 0:00:03\n",
      "   ----------------------- ---------------- 4.5/7.6 MB 1.1 MB/s eta 0:00:03\n",
      "   ----------------------- ---------------- 4.5/7.6 MB 1.1 MB/s eta 0:00:03\n",
      "   ----------------------- ---------------- 4.6/7.6 MB 1.0 MB/s eta 0:00:03\n",
      "   ------------------------ --------------- 4.6/7.6 MB 1.0 MB/s eta 0:00:03\n",
      "   ------------------------ --------------- 4.6/7.6 MB 1.0 MB/s eta 0:00:03\n",
      "   ------------------------ --------------- 4.6/7.6 MB 1.0 MB/s eta 0:00:03\n",
      "   ------------------------ --------------- 4.6/7.6 MB 1.0 MB/s eta 0:00:03\n",
      "   ------------------------ --------------- 4.7/7.6 MB 1.0 MB/s eta 0:00:03\n",
      "   ------------------------ --------------- 4.7/7.6 MB 1.0 MB/s eta 0:00:03\n",
      "   ------------------------ --------------- 4.7/7.6 MB 1.0 MB/s eta 0:00:03\n",
      "   ------------------------ --------------- 4.7/7.6 MB 985.2 kB/s eta 0:00:03\n",
      "   ------------------------ --------------- 4.7/7.6 MB 991.7 kB/s eta 0:00:03\n",
      "   ------------------------ --------------- 4.7/7.6 MB 991.7 kB/s eta 0:00:03\n",
      "   ------------------------ --------------- 4.7/7.6 MB 970.4 kB/s eta 0:00:03\n",
      "   ------------------------ --------------- 4.8/7.6 MB 965.3 kB/s eta 0:00:03\n",
      "   ------------------------ --------------- 4.8/7.6 MB 965.3 kB/s eta 0:00:03\n",
      "   ------------------------ --------------- 4.8/7.6 MB 955.2 kB/s eta 0:00:04\n",
      "   ------------------------- -------------- 4.8/7.6 MB 947.5 kB/s eta 0:00:04\n",
      "   ------------------------- -------------- 4.8/7.6 MB 940.8 kB/s eta 0:00:04\n",
      "   ------------------------- -------------- 4.8/7.6 MB 939.1 kB/s eta 0:00:04\n",
      "   ------------------------- -------------- 4.8/7.6 MB 931.6 kB/s eta 0:00:04\n",
      "   ------------------------- -------------- 4.9/7.6 MB 925.2 kB/s eta 0:00:04\n",
      "   ------------------------- -------------- 4.9/7.6 MB 920.9 kB/s eta 0:00:04\n",
      "   ------------------------- -------------- 4.9/7.6 MB 920.9 kB/s eta 0:00:04\n",
      "   ------------------------- -------------- 4.9/7.6 MB 920.9 kB/s eta 0:00:04\n",
      "   ------------------------- -------------- 4.9/7.6 MB 896.3 kB/s eta 0:00:04\n",
      "   ------------------------- -------------- 4.9/7.6 MB 896.3 kB/s eta 0:00:04\n",
      "   ------------------------- -------------- 4.9/7.6 MB 889.9 kB/s eta 0:00:04\n",
      "   ------------------------- -------------- 4.9/7.6 MB 883.6 kB/s eta 0:00:04\n",
      "   ------------------------- -------------- 5.0/7.6 MB 874.3 kB/s eta 0:00:04\n",
      "   -------------------------- ------------- 5.0/7.6 MB 872.6 kB/s eta 0:00:04\n",
      "   -------------------------- ------------- 5.0/7.6 MB 871.3 kB/s eta 0:00:04\n",
      "   -------------------------- ------------- 5.0/7.6 MB 871.3 kB/s eta 0:00:04\n",
      "   -------------------------- ------------- 5.0/7.6 MB 871.3 kB/s eta 0:00:04\n",
      "   -------------------------- ------------- 5.0/7.6 MB 858.0 kB/s eta 0:00:04\n",
      "   -------------------------- ------------- 5.0/7.6 MB 850.7 kB/s eta 0:00:04\n",
      "   -------------------------- ------------- 5.1/7.6 MB 848.6 kB/s eta 0:00:04\n",
      "   -------------------------- ------------- 5.1/7.6 MB 846.0 kB/s eta 0:00:04\n",
      "   -------------------------- ------------- 5.1/7.6 MB 844.5 kB/s eta 0:00:03\n",
      "   -------------------------- ------------- 5.2/7.6 MB 841.3 kB/s eta 0:00:03\n",
      "   --------------------------- ------------ 5.2/7.6 MB 839.9 kB/s eta 0:00:03\n",
      "   --------------------------- ------------ 5.2/7.6 MB 838.6 kB/s eta 0:00:03\n",
      "   --------------------------- ------------ 5.3/7.6 MB 836.7 kB/s eta 0:00:03\n",
      "   --------------------------- ------------ 5.3/7.6 MB 835.9 kB/s eta 0:00:03\n",
      "   --------------------------- ------------ 5.3/7.6 MB 835.9 kB/s eta 0:00:03\n",
      "   --------------------------- ------------ 5.3/7.6 MB 824.7 kB/s eta 0:00:03\n",
      "   --------------------------- ------------ 5.3/7.6 MB 824.4 kB/s eta 0:00:03\n",
      "   --------------------------- ------------ 5.3/7.6 MB 817.6 kB/s eta 0:00:03\n",
      "   --------------------------- ------------ 5.3/7.6 MB 817.6 kB/s eta 0:00:03\n",
      "   --------------------------- ------------ 5.3/7.6 MB 812.9 kB/s eta 0:00:03\n",
      "   --------------------------- ------------ 5.3/7.6 MB 812.9 kB/s eta 0:00:03\n",
      "   ---------------------------- ----------- 5.4/7.6 MB 804.2 kB/s eta 0:00:03\n",
      "   ---------------------------- ----------- 5.4/7.6 MB 798.2 kB/s eta 0:00:03\n",
      "   ---------------------------- ----------- 5.4/7.6 MB 797.6 kB/s eta 0:00:03\n",
      "   ---------------------------- ----------- 5.4/7.6 MB 795.1 kB/s eta 0:00:03\n",
      "   ---------------------------- ----------- 5.5/7.6 MB 793.9 kB/s eta 0:00:03\n",
      "   ---------------------------- ----------- 5.5/7.6 MB 794.4 kB/s eta 0:00:03\n",
      "   ---------------------------- ----------- 5.5/7.6 MB 793.5 kB/s eta 0:00:03\n",
      "   ----------------------------- ---------- 5.6/7.6 MB 792.5 kB/s eta 0:00:03\n",
      "   ----------------------------- ---------- 5.6/7.6 MB 793.4 kB/s eta 0:00:03\n",
      "   ----------------------------- ---------- 5.7/7.6 MB 793.6 kB/s eta 0:00:03\n",
      "   ----------------------------- ---------- 5.7/7.6 MB 794.4 kB/s eta 0:00:03\n",
      "   ----------------------------- ---------- 5.7/7.6 MB 790.4 kB/s eta 0:00:03\n",
      "   ------------------------------ --------- 5.8/7.6 MB 792.4 kB/s eta 0:00:03\n",
      "   ------------------------------ --------- 5.8/7.6 MB 792.9 kB/s eta 0:00:03\n",
      "   ------------------------------ --------- 5.8/7.6 MB 795.1 kB/s eta 0:00:03\n",
      "   ------------------------------ --------- 5.9/7.6 MB 792.5 kB/s eta 0:00:03\n",
      "   ------------------------------ --------- 5.9/7.6 MB 790.6 kB/s eta 0:00:03\n",
      "   ------------------------------- -------- 5.9/7.6 MB 790.7 kB/s eta 0:00:03\n",
      "   ------------------------------- -------- 6.0/7.6 MB 792.6 kB/s eta 0:00:03\n",
      "   ------------------------------- -------- 6.0/7.6 MB 793.4 kB/s eta 0:00:03\n",
      "   ------------------------------- -------- 6.1/7.6 MB 796.4 kB/s eta 0:00:02\n",
      "   -------------------------------- ------- 6.1/7.6 MB 796.8 kB/s eta 0:00:02\n",
      "   -------------------------------- ------- 6.2/7.6 MB 800.3 kB/s eta 0:00:02\n",
      "   -------------------------------- ------- 6.2/7.6 MB 799.4 kB/s eta 0:00:02\n",
      "   -------------------------------- ------- 6.3/7.6 MB 803.8 kB/s eta 0:00:02\n",
      "   --------------------------------- ------ 6.3/7.6 MB 801.2 kB/s eta 0:00:02\n",
      "   --------------------------------- ------ 6.3/7.6 MB 803.3 kB/s eta 0:00:02\n",
      "   --------------------------------- ------ 6.4/7.6 MB 806.0 kB/s eta 0:00:02\n",
      "   --------------------------------- ------ 6.5/7.6 MB 809.2 kB/s eta 0:00:02\n",
      "   ---------------------------------- ----- 6.5/7.6 MB 809.6 kB/s eta 0:00:02\n",
      "   ---------------------------------- ----- 6.6/7.6 MB 813.8 kB/s eta 0:00:02\n",
      "   ---------------------------------- ----- 6.6/7.6 MB 816.7 kB/s eta 0:00:02\n",
      "   ---------------------------------- ----- 6.7/7.6 MB 817.2 kB/s eta 0:00:02\n",
      "   ----------------------------------- ---- 6.7/7.6 MB 819.1 kB/s eta 0:00:02\n",
      "   ----------------------------------- ---- 6.8/7.6 MB 816.4 kB/s eta 0:00:02\n",
      "   ----------------------------------- ---- 6.8/7.6 MB 817.9 kB/s eta 0:00:02\n",
      "   ----------------------------------- ---- 6.8/7.6 MB 818.6 kB/s eta 0:00:01\n",
      "   ------------------------------------ --- 6.9/7.6 MB 820.1 kB/s eta 0:00:01\n",
      "   ------------------------------------ --- 6.9/7.6 MB 817.7 kB/s eta 0:00:01\n",
      "   ------------------------------------ --- 6.9/7.6 MB 815.6 kB/s eta 0:00:01\n",
      "   ------------------------------------ --- 7.0/7.6 MB 818.3 kB/s eta 0:00:01\n",
      "   ------------------------------------ --- 7.0/7.6 MB 818.0 kB/s eta 0:00:01\n",
      "   ------------------------------------ --- 7.0/7.6 MB 815.9 kB/s eta 0:00:01\n",
      "   ------------------------------------- -- 7.1/7.6 MB 815.9 kB/s eta 0:00:01\n",
      "   ------------------------------------- -- 7.1/7.6 MB 817.4 kB/s eta 0:00:01\n",
      "   ------------------------------------- -- 7.2/7.6 MB 817.7 kB/s eta 0:00:01\n",
      "   ------------------------------------- -- 7.2/7.6 MB 819.2 kB/s eta 0:00:01\n",
      "   -------------------------------------- - 7.3/7.6 MB 820.6 kB/s eta 0:00:01\n",
      "   -------------------------------------- - 7.3/7.6 MB 823.2 kB/s eta 0:00:01\n",
      "   -------------------------------------- - 7.4/7.6 MB 823.5 kB/s eta 0:00:01\n",
      "   -------------------------------------- - 7.4/7.6 MB 826.0 kB/s eta 0:00:01\n",
      "   -------------------------------------- - 7.4/7.6 MB 826.0 kB/s eta 0:00:01\n",
      "   ---------------------------------------  7.5/7.6 MB 823.1 kB/s eta 0:00:01\n",
      "   ---------------------------------------  7.5/7.6 MB 823.7 kB/s eta 0:00:01\n",
      "   ---------------------------------------  7.6/7.6 MB 823.6 kB/s eta 0:00:01\n",
      "   ---------------------------------------  7.6/7.6 MB 826.1 kB/s eta 0:00:01\n",
      "   ---------------------------------------  7.6/7.6 MB 826.1 kB/s eta 0:00:01\n",
      "   ---------------------------------------  7.6/7.6 MB 826.1 kB/s eta 0:00:01\n",
      "   ---------------------------------------  7.6/7.6 MB 826.1 kB/s eta 0:00:01\n",
      "   ---------------------------------------- 7.6/7.6 MB 810.3 kB/s eta 0:00:00\n",
      "Downloading contourpy-1.1.1-cp311-cp311-win_amd64.whl (480 kB)\n",
      "   ---------------------------------------- 0.0/480.5 kB ? eta -:--:--\n",
      "    --------------------------------------- 10.2/480.5 kB ? eta -:--:--\n",
      "   ----- --------------------------------- 71.7/480.5 kB 991.0 kB/s eta 0:00:01\n",
      "   -------- ----------------------------- 112.6/480.5 kB 819.2 kB/s eta 0:00:01\n",
      "   --------- ---------------------------- 122.9/480.5 kB 798.9 kB/s eta 0:00:01\n",
      "   ------------ ------------------------- 153.6/480.5 kB 654.6 kB/s eta 0:00:01\n",
      "   ---------------- --------------------- 204.8/480.5 kB 778.2 kB/s eta 0:00:01\n",
      "   -------------------- ----------------- 256.0/480.5 kB 787.7 kB/s eta 0:00:01\n",
      "   ------------------------- ------------ 317.4/480.5 kB 893.0 kB/s eta 0:00:01\n",
      "   ------------------------------- ------ 399.4/480.5 kB 958.4 kB/s eta 0:00:01\n",
      "   ---------------------------------------  471.0/480.5 kB 1.0 MB/s eta 0:00:01\n",
      "   ---------------------------------------  471.0/480.5 kB 1.0 MB/s eta 0:00:01\n",
      "   ---------------------------------------  471.0/480.5 kB 1.0 MB/s eta 0:00:01\n",
      "   -------------------------------------- 480.5/480.5 kB 859.8 kB/s eta 0:00:00\n",
      "Downloading cycler-0.12.0-py3-none-any.whl (8.2 kB)\n",
      "Downloading fonttools-4.43.0-cp311-cp311-win_amd64.whl (2.1 MB)\n",
      "   ---------------------------------------- 0.0/2.1 MB ? eta -:--:--\n",
      "   - -------------------------------------- 0.1/2.1 MB 3.4 MB/s eta 0:00:01\n",
      "   -- ------------------------------------- 0.1/2.1 MB 1.8 MB/s eta 0:00:02\n",
      "   --- ------------------------------------ 0.2/2.1 MB 1.5 MB/s eta 0:00:02\n",
      "   ----- ---------------------------------- 0.3/2.1 MB 1.6 MB/s eta 0:00:02\n",
      "   ------ --------------------------------- 0.4/2.1 MB 1.7 MB/s eta 0:00:02\n",
      "   -------- ------------------------------- 0.5/2.1 MB 1.7 MB/s eta 0:00:02\n",
      "   --------- ------------------------------ 0.5/2.1 MB 1.8 MB/s eta 0:00:01\n",
      "   ----------- ---------------------------- 0.6/2.1 MB 1.8 MB/s eta 0:00:01\n",
      "   ------------- -------------------------- 0.7/2.1 MB 1.8 MB/s eta 0:00:01\n",
      "   -------------- ------------------------- 0.8/2.1 MB 1.8 MB/s eta 0:00:01\n",
      "   ---------------- ----------------------- 0.9/2.1 MB 1.8 MB/s eta 0:00:01\n",
      "   ------------------ --------------------- 1.0/2.1 MB 1.8 MB/s eta 0:00:01\n",
      "   ------------------- -------------------- 1.1/2.1 MB 1.8 MB/s eta 0:00:01\n",
      "   --------------------- ------------------ 1.1/2.1 MB 1.8 MB/s eta 0:00:01\n",
      "   ----------------------- ---------------- 1.2/2.1 MB 1.8 MB/s eta 0:00:01\n",
      "   ------------------------ --------------- 1.3/2.1 MB 1.8 MB/s eta 0:00:01\n",
      "   -------------------------- ------------- 1.4/2.1 MB 1.8 MB/s eta 0:00:01\n",
      "   ---------------------------- ----------- 1.5/2.1 MB 1.9 MB/s eta 0:00:01\n",
      "   ----------------------------- ---------- 1.6/2.1 MB 1.8 MB/s eta 0:00:01\n",
      "   ------------------------------- -------- 1.7/2.1 MB 1.9 MB/s eta 0:00:01\n",
      "   -------------------------------- ------- 1.7/2.1 MB 1.8 MB/s eta 0:00:01\n",
      "   ---------------------------------- ----- 1.8/2.1 MB 1.8 MB/s eta 0:00:01\n",
      "   ----------------------------------- ---- 1.9/2.1 MB 1.8 MB/s eta 0:00:01\n",
      "   ----------------------------------- ---- 1.9/2.1 MB 1.8 MB/s eta 0:00:01\n",
      "   ------------------------------------- -- 2.0/2.1 MB 1.8 MB/s eta 0:00:01\n",
      "   -------------------------------------- - 2.0/2.1 MB 1.7 MB/s eta 0:00:01\n",
      "   ---------------------------------------  2.1/2.1 MB 1.7 MB/s eta 0:00:01\n",
      "   ---------------------------------------  2.1/2.1 MB 1.7 MB/s eta 0:00:01\n",
      "   ---------------------------------------  2.1/2.1 MB 1.7 MB/s eta 0:00:01\n",
      "   ---------------------------------------- 2.1/2.1 MB 1.6 MB/s eta 0:00:00\n",
      "Downloading kiwisolver-1.4.5-cp311-cp311-win_amd64.whl (56 kB)\n",
      "   ---------------------------------------- 0.0/56.1 kB ? eta -:--:--\n",
      "   ------------------------------------ --- 51.2/56.1 kB 2.6 MB/s eta 0:00:01\n",
      "   ---------------------------------------- 56.1/56.1 kB 580.7 kB/s eta 0:00:00\n",
      "Using cached Pillow-10.0.1-cp311-cp311-win_amd64.whl (2.5 MB)\n",
      "Downloading pyparsing-3.1.1-py3-none-any.whl (103 kB)\n",
      "   ---------------------------------------- 0.0/103.1 kB ? eta -:--:--\n",
      "   ---------------------------------------  102.4/103.1 kB 2.0 MB/s eta 0:00:01\n",
      "   ---------------------------------------  102.4/103.1 kB 2.0 MB/s eta 0:00:01\n",
      "   -------------------------------------- 103.1/103.1 kB 988.3 kB/s eta 0:00:00\n",
      "Installing collected packages: pyparsing, pillow, kiwisolver, fonttools, cycler, contourpy, matplotlib\n",
      "Successfully installed contourpy-1.1.1 cycler-0.12.0 fonttools-4.43.0 kiwisolver-1.4.5 matplotlib-3.8.0 pillow-10.0.1 pyparsing-3.1.1\n",
      "Note: you may need to restart the kernel to use updated packages.\n"
     ]
    }
   ],
   "source": [
    "pip install matplotlib"
   ]
  },
  {
   "cell_type": "code",
   "execution_count": 78,
   "metadata": {},
   "outputs": [
    {
     "name": "stdout",
     "output_type": "stream",
     "text": [
      "[ 1  2  3  4  5  6  7  8  9 10]\n"
     ]
    },
    {
     "data": {
      "image/png": "[encoded data removed]",
      "text/plain": [
       "<Figure size 640x480 with 1 Axes>"
      ]
     },
     "metadata": {},
     "output_type": "display_data"
    }
   ],
   "source": [
    "import numpy as np\n",
    "import matplotlib.pyplot as plt\n",
    "\n",
    "x = np.array((1,2,3,4,5,6,7,8,9,10))\n",
    "y = x**2\n",
    "\n",
    "print(x)\n",
    "\n",
    "plt.plot(x,y)\n",
    "plt.show()"
   ]
  },
  {
   "cell_type": "markdown",
   "metadata": {},
   "source": [
    "Example 02\n",
    "Add labels and tittle to the graph"
   ]
  },
  {
   "cell_type": "code",
   "execution_count": 79,
   "metadata": {},
   "outputs": [
    {
     "name": "stdout",
     "output_type": "stream",
     "text": [
      "[ 1  2  3  4  5  6  7  8  9 10]\n"
     ]
    },
    {
     "data": {
      "image/png": "[encoded data removed]",
      "text/plain": [
       "<Figure size 640x480 with 1 Axes>"
      ]
     },
     "metadata": {},
     "output_type": "display_data"
    }
   ],
   "source": [
    "import numpy as np\n",
    "import matplotlib.pyplot as plt\n",
    "\n",
    "x = np.array((1,2,3,4,5,6,7,8,9,10))\n",
    "y = x**2\n",
    "\n",
    "print(x)\n",
    "\n",
    "plt.plot(x,y)\n",
    "plt.xlabel('x-axis')\n",
    "plt.ylabel('y-axis')\n",
    "plt.title(\"y = x^2\")\n",
    "plt.show()"
   ]
  },
  {
   "cell_type": "markdown",
   "metadata": {},
   "source": [
    "Exampel 03\n",
    "Plot 3 variables on a single graph\n"
   ]
  },
  {
   "cell_type": "code",
   "execution_count": 80,
   "metadata": {},
   "outputs": [
    {
     "name": "stdout",
     "output_type": "stream",
     "text": [
      "[ 1  2  3  4  5  6  7  8  9 10]\n",
      "[  1   4   9  16  25  36  49  64  81 100]\n",
      "[ 5  6  7  8  9 10 11 12 13 14]\n"
     ]
    },
    {
     "data": {
      "image/png": "[encoded data removed]",
      "text/plain": [
       "<Figure size 640x480 with 1 Axes>"
      ]
     },
     "metadata": {},
     "output_type": "display_data"
    }
   ],
   "source": [
    "import numpy as np\n",
    "import matplotlib.pyplot as plt\n",
    "\n",
    "x = np.array((1,2,3,4,5,6,7,8,9,10))\n",
    "y = x**2\n",
    "z = x + 4\n",
    "\n",
    "print(f\"{x}\\n{y}\\n{z}\")\n",
    "\n",
    "plt.plot(x,x)\n",
    "plt.plot(x,y)\n",
    "plt.plot(x,z)\n",
    "plt.xlabel('x-axis')\n",
    "plt.ylabel('y-axis')\n",
    "plt.title(\"Plotting the x, y adn z\")\n",
    "plt.show()\n"
   ]
  },
  {
   "cell_type": "markdown",
   "metadata": {},
   "source": [
    "Example 04\n",
    "Change the color linestyle and linewidth of the graph\n"
   ]
  },
  {
   "cell_type": "code",
   "execution_count": 81,
   "metadata": {},
   "outputs": [
    {
     "name": "stdout",
     "output_type": "stream",
     "text": [
      "[ 1  2  3  4  5  6  7  8  9 10]\n",
      "[  1   4   9  16  25  36  49  64  81 100]\n",
      "[ 5  6  7  8  9 10 11 12 13 14]\n"
     ]
    },
    {
     "data": {
      "image/png": "[encoded data removed]",
      "text/plain": [
       "<Figure size 640x480 with 1 Axes>"
      ]
     },
     "metadata": {},
     "output_type": "display_data"
    }
   ],
   "source": [
    "import numpy as np\n",
    "import matplotlib.pyplot as plt\n",
    "\n",
    "x = np.array((1,2,3,4,5,6,7,8,9,10))\n",
    "y = x**2\n",
    "z = x + 4\n",
    "\n",
    "print(f\"{x}\\n{y}\\n{z}\")\n",
    "\n",
    "plt.plot(x,x)\n",
    "plt.plot(x,y, color='g', linestyle = ':', linewidth=15)\n",
    "plt.plot(x,z)\n",
    "plt.xlabel('x-axis')\n",
    "plt.ylabel('y-axis')\n",
    "plt.title(\"Plotting the x, y adn z\")\n",
    "plt.show()"
   ]
  },
  {
   "cell_type": "markdown",
   "metadata": {},
   "source": [
    "Example 05\n",
    "Plot using subplot\n"
   ]
  },
  {
   "cell_type": "code",
   "execution_count": 82,
   "metadata": {},
   "outputs": [
    {
     "name": "stdout",
     "output_type": "stream",
     "text": [
      "[ 1  2  3  4  5  6  7  8  9 10]\n",
      "[  1   4   9  16  25  36  49  64  81 100]\n",
      "[ 5  6  7  8  9 10 11 12 13 14]\n"
     ]
    },
    {
     "data": {
      "image/png": "[encoded data removed]",
      "text/plain": [
       "<Figure size 1000x500 with 3 Axes>"
      ]
     },
     "metadata": {},
     "output_type": "display_data"
    }
   ],
   "source": [
    "import numpy as np\n",
    "import matplotlib.pyplot as plt\n",
    "\n",
    "x = np.array((1,2,3,4,5,6,7,8,9,10))\n",
    "y = x**2\n",
    "z = x + 4\n",
    "\n",
    "print(f\"{x}\\n{y}\\n{z}\")\n",
    "\n",
    "plt.figure(figsize=(10,5))\n",
    "\n",
    "plt.subplot(1,3,1)\n",
    "plt.plot(x,x)\n",
    "\n",
    "plt.subplot(1,3,2)\n",
    "plt.plot(x,y, color='g', linestyle = ':', linewidth=15)\n",
    "\n",
    "plt.subplot(1,3,3)\n",
    "plt.plot(x,z)\n",
    "plt.xlabel('x-axis')\n",
    "plt.ylabel('y-axis')\n",
    "plt.title(\"Plotting the x, y adn z\")\n",
    "plt.show()"
   ]
  },
  {
   "cell_type": "markdown",
   "metadata": {},
   "source": [
    "Example 06\n",
    "Print the marks of students w.r.t their names using Dictionary"
   ]
  },
  {
   "cell_type": "code",
   "execution_count": 83,
   "metadata": {},
   "outputs": [
    {
     "name": "stdout",
     "output_type": "stream",
     "text": [
      "{'Ali': 25, 'Bilal': 20, 'Zahra': 19, 'Qayyum': 25, 'Alia': 15, 'Salman': 23}\n"
     ]
    },
    {
     "data": {
      "image/png": "[encoded data removed]",
      "text/plain": [
       "<Figure size 640x480 with 1 Axes>"
      ]
     },
     "metadata": {},
     "output_type": "display_data"
    }
   ],
   "source": [
    "stuMarks = {\"Ali\": 25, \"Bilal\": 20, \"Zahra\": 19, \"Qayyum\": 25, \"Alia\": 15, \"Salman\": 23}\n",
    "print(stuMarks)\n",
    "\n",
    "k = stuMarks.keys()\n",
    "v = stuMarks.values()\n",
    "\n",
    "plt.title(\"Student Marks\")\n",
    "plt.xlabel(\"Names\")\n",
    "plt.ylabel(\"Marks\")\n",
    "plt.bar(k,v)\n",
    "plt.show()"
   ]
  },
  {
   "cell_type": "markdown",
   "metadata": {},
   "source": [
    "Example 07\n",
    "Plot horizonatal bar garaph\n"
   ]
  },
  {
   "cell_type": "code",
   "execution_count": 84,
   "metadata": {},
   "outputs": [
    {
     "name": "stdout",
     "output_type": "stream",
     "text": [
      "{'Ali': 25, 'Bilal': 20, 'Zahra': 19, 'Qayyum': 25, 'Alia': 15, 'Salman': 23}\n"
     ]
    },
    {
     "data": {
      "image/png": "[encoded data removed]",
      "text/plain": [
       "<Figure size 640x480 with 1 Axes>"
      ]
     },
     "metadata": {},
     "output_type": "display_data"
    }
   ],
   "source": [
    "stuMarks = {\"Ali\": 25, \"Bilal\": 20, \"Zahra\": 19, \"Qayyum\": 25, \"Alia\": 15, \"Salman\": 23}\n",
    "print(stuMarks)\n",
    "\n",
    "k = list(stuMarks.keys())\n",
    "v = list(stuMarks.values())\n",
    "\n",
    "plt.title(\"Student Marks\")\n",
    "plt.xlabel(\"Names\")\n",
    "plt.ylabel(\"Marks\")\n",
    "plt.barh(k,v)\n",
    "plt.show()"
   ]
  },
  {
   "cell_type": "markdown",
   "metadata": {},
   "source": [
    "Example 08\n",
    "Bold the tittle and xlabel y label and also show the value of yaxis on top of bars\n"
   ]
  },
  {
   "cell_type": "code",
   "execution_count": 86,
   "metadata": {},
   "outputs": [
    {
     "name": "stdout",
     "output_type": "stream",
     "text": [
      "{'Ali': 25, 'Bilal': 20, 'Zahra': 19, 'Qayyum': 25, 'Alia': 15, 'Salman': 23}\n"
     ]
    },
    {
     "data": {
      "image/png": "[encoded data removed]",
      "text/plain": [
       "<Figure size 800x600 with 1 Axes>"
      ]
     },
     "metadata": {},
     "output_type": "display_data"
    }
   ],
   "source": [
    "import matplotlib.pyplot as plt\n",
    "\n",
    "stuMarks = {\"Ali\": 25, \"Bilal\": 20, \"Zahra\": 19, \"Qayyum\": 25, \"Alia\": 15, \"Salman\": 23}\n",
    "print(stuMarks)\n",
    "\n",
    "k = stuMarks.keys()\n",
    "v = stuMarks.values()\n",
    "\n",
    "plt.figure(figsize=(8, 6))  # Set the figure size\n",
    "\n",
    "# Plot the bar chart\n",
    "plt.bar(k, v)\n",
    "\n",
    "# Customize the plot\n",
    "plt.title(\"Student Marks\", fontweight=\"bold\")  # Make the title bold\n",
    "plt.xlabel(\"Names\", fontweight=\"bold\")  # Make xlabel bold\n",
    "plt.ylabel(\"Marks\", fontweight=\"bold\")  # Make ylabel bold\n",
    "\n",
    "# Annotate the values on top of the bars\n",
    "for key, value in stuMarks.items():\n",
    "    plt.text(key, value + 0.5, str(value), ha='center', va='bottom', fontweight='bold')\n",
    "\n",
    "plt.show()"
   ]
  },
  {
   "cell_type": "markdown",
   "metadata": {},
   "source": [
    "Example 09\n",
    "Plot using scatter function\n"
   ]
  },
  {
   "cell_type": "code",
   "execution_count": 87,
   "metadata": {},
   "outputs": [
    {
     "name": "stdout",
     "output_type": "stream",
     "text": [
      "{'Ali': 25, 'Bilal': 20, 'Zahra': 19, 'Qayyum': 25, 'Alia': 15, 'Salman': 23}\n"
     ]
    },
    {
     "data": {
      "image/png": "[encoded data removed]",
      "text/plain": [
       "<Figure size 640x480 with 1 Axes>"
      ]
     },
     "metadata": {},
     "output_type": "display_data"
    }
   ],
   "source": [
    "import matplotlib.pyplot as plt\n",
    "\n",
    "stuMarks = {\"Ali\": 25, \"Bilal\": 20, \"Zahra\": 19, \"Qayyum\": 25, \"Alia\": 15, \"Salman\": 23}\n",
    "print(stuMarks)\n",
    "\n",
    "k = stuMarks.keys()\n",
    "v = stuMarks.values()\n",
    "\n",
    "plt.scatter(k,v, color = 'r', marker=\"*\", s = 40)\n",
    "plt.show()"
   ]
  },
  {
   "cell_type": "markdown",
   "metadata": {},
   "source": [
    "Example 10\n",
    "Plot a histogram\n"
   ]
  },
  {
   "cell_type": "code",
   "execution_count": 88,
   "metadata": {},
   "outputs": [
    {
     "data": {
      "image/png": "[encoded data removed]",
      "text/plain": [
       "<Figure size 640x480 with 1 Axes>"
      ]
     },
     "metadata": {},
     "output_type": "display_data"
    }
   ],
   "source": [
    "a = [1,2,3,4,5,6,7,8,9,4,6,8,2,3,1,1,6,8,9,3,4,2,1,1,2,3,4,5,7]\n",
    "\n",
    "plt.hist(a, bins=20, color='g')\n",
    "plt.show()"
   ]
  },
  {
   "cell_type": "markdown",
   "metadata": {},
   "source": [
    "Example 11\n",
    "Demonstrate the use of Box Plot\n",
    "\n",
    "A Box Plot is also known as Whisker plot is created to display the summary of the set of data values having properties like minimum, first quartile, median, third quartile and maximum. In the box plot, a box is created from the first quartile to the third quartile, a vertical line is also there which goes through the box at the median. Here x-axis denotes the data to be plotted while the y-axis shows the frequency distribution.\n",
    "\n"
   ]
  },
  {
   "cell_type": "code",
   "execution_count": 90,
   "metadata": {},
   "outputs": [
    {
     "data": {
      "image/png": "[encoded data removed]",
      "text/plain": [
       "<Figure size 640x480 with 1 Axes>"
      ]
     },
     "metadata": {},
     "output_type": "display_data"
    }
   ],
   "source": [
    "l1 = [1,2,3,4,5,6,7,8,9,10]\n",
    "l2 = [3,4,5,6,7,1,2,8,9,1]\n",
    "l3 = [1,2,3,4,1,2,3,4,5,6]\n",
    "\n",
    "data = list([l1,l2,l3])\n",
    "\n",
    "plt.boxplot(data)\n",
    "plt.show()"
   ]
  },
  {
   "cell_type": "markdown",
   "metadata": {},
   "source": [
    "Example 12\n",
    "Demonstrate the use of violin plot\n",
    "\n"
   ]
  },
  {
   "cell_type": "code",
   "execution_count": 91,
   "metadata": {},
   "outputs": [
    {
     "data": {
      "image/png": "[encoded data removed]",
      "text/plain": [
       "<Figure size 640x480 with 1 Axes>"
      ]
     },
     "metadata": {},
     "output_type": "display_data"
    }
   ],
   "source": [
    "l1 = [1,2,3,4,5,6,7,8,9,10]\n",
    "l2 = [3,8,9,6,7,1,2,8,9,1]\n",
    "l3 = [1,2,3,4,1,2,3,4,5,6]\n",
    "\n",
    "data = list([l1,l2,l3])\n",
    "\n",
    "plt.violinplot(data)\n",
    "plt.show()"
   ]
  },
  {
   "cell_type": "markdown",
   "metadata": {},
   "source": [
    "Example 13\n",
    "Show the example of pie plot\n"
   ]
  },
  {
   "cell_type": "code",
   "execution_count": 92,
   "metadata": {},
   "outputs": [
    {
     "name": "stdout",
     "output_type": "stream",
     "text": [
      "{'Ali': 25, 'Bilal': 20, 'Zahra': 19, 'Qayyum': 25, 'Alia': 15, 'Salman': 23}\n"
     ]
    },
    {
     "data": {
      "image/png": "[encoded data removed]",
      "text/plain": [
       "<Figure size 640x480 with 1 Axes>"
      ]
     },
     "metadata": {},
     "output_type": "display_data"
    }
   ],
   "source": [
    "import matplotlib.pyplot as plt\n",
    "\n",
    "stuMarks = {\"Ali\": 25, \"Bilal\": 20, \"Zahra\": 19, \"Qayyum\": 25, \"Alia\": 15, \"Salman\": 23}\n",
    "print(stuMarks)\n",
    "\n",
    "k = stuMarks.keys()\n",
    "v = stuMarks.values()\n",
    "\n",
    "plt.pie(v,labels=k, autopct='%1.1f%%', startangle=140)\n",
    "plt.axis('equal')\n",
    "\n",
    "plt.show()"
   ]
  },
  {
   "cell_type": "code",
   "execution_count": null,
   "metadata": {},
   "outputs": [],
   "source": []
  }
 ],
 "metadata": {
  "kernelspec": {
   "display_name": "Python 3",
   "language": "python",
   "name": "python3"
  },
  "language_info": {
   "codemirror_mode": {
    "name": "ipython",
    "version": 3
   },
   "file_extension": ".py",
   "mimetype": "text/x-python",
   "name": "python",
   "nbconvert_exporter": "python",
   "pygments_lexer": "ipython3",
   "version": "3.11.4"
  },
  "orig_nbformat": 4
 },
 "nbformat": 4,
 "nbformat_minor": 2
}
